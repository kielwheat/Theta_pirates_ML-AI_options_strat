{
 "cells": [
  {
   "cell_type": "code",
   "execution_count": 24,
   "metadata": {},
   "outputs": [],
   "source": [
    "import pandas as pd\n",
    "import numpy as np\n",
    "import datetime as dt\n",
    "from pathlib import Path\n",
    "from datetime import datetime, timedelta\n",
    "import matplotlib.pyplot as plt\n",
    "%matplotlib inline\n"
   ]
  },
  {
   "cell_type": "code",
   "execution_count": 25,
   "metadata": {},
   "outputs": [],
   "source": [
    "msft_df = pd.read_pickle('msft_merged.pickle')"
   ]
  },
  {
   "cell_type": "code",
   "execution_count": 26,
   "metadata": {},
   "outputs": [],
   "source": [
    "df = msft_df\n",
    "df = df.drop(columns= ['LastPrice', 'Symbol', 'Volume', 'OpenInterest', 'Volume'])\n",
    "\n"
   ]
  },
  {
   "cell_type": "code",
   "execution_count": 27,
   "metadata": {},
   "outputs": [],
   "source": [
    "df['ExpirationDate'] =  pd.to_datetime(df['ExpirationDate'], infer_datetime_format=True)\n",
    "df['DataDate'] =  pd.to_datetime(df['DataDate'], infer_datetime_format=True)\n",
    "df['delta'] = df['ExpirationDate'] - df['DataDate']\n",
    "\n",
    "df['exp?'] =df['ExpirationDate'] ==df['DataDate']\n",
    "df['long_close'] = ((df['delta'] < np.timedelta64(14, 'D')) & (df['% out'] > -.1) & (df['% out'] < 0))\n",
    "df['long_medium'] = ((df['delta'] < np.timedelta64(14, 'D')) & (df['% out'] > -.2) & (df['% out'] < -.1))\n",
    "df['long_far'] = ((df['delta'] < np.timedelta64(14, 'D')) & (df['% out'] > -.3) & (df['% out'] < -.2))\n",
    "df['short_close'] = ((df['delta'] < np.timedelta64(8, 'D')) & (df['% out'] > -.1) & (df['% out'] < 0))\n",
    "df['short_medium'] = ((df['delta'] < np.timedelta64(8, 'D')) & (df['% out'] > -.2) & (df['% out'] < -.1))\n",
    "df['short_far'] = ((df['delta'] < np.timedelta64(8, 'D')) & (df['% out'] > -.3) & (df['% out'] < -.2))\n",
    "\n",
    "pd.set_option('display.max_columns', 30)"
   ]
  },
  {
   "cell_type": "code",
   "execution_count": 28,
   "metadata": {},
   "outputs": [
    {
     "data": {
      "text/plain": [
       "416"
      ]
     },
     "execution_count": 28,
     "metadata": {},
     "output_type": "execute_result"
    }
   ],
   "source": [
    "df_table=df.loc[:, ['OptionKey', 'BidPrice']]\n",
    "df_table=df_table.reset_index()\n",
    "df_table.columns=['PriceDate', 'OptionKey', 'RebuyPrice']\n",
    "df_table['RebuyPrice'].nunique()"
   ]
  },
  {
   "cell_type": "code",
   "execution_count": 29,
   "metadata": {},
   "outputs": [
    {
     "data": {
      "text/html": [
       "<div>\n",
       "<style scoped>\n",
       "    .dataframe tbody tr th:only-of-type {\n",
       "        vertical-align: middle;\n",
       "    }\n",
       "\n",
       "    .dataframe tbody tr th {\n",
       "        vertical-align: top;\n",
       "    }\n",
       "\n",
       "    .dataframe thead th {\n",
       "        text-align: right;\n",
       "    }\n",
       "</style>\n",
       "<table border=\"1\" class=\"dataframe\">\n",
       "  <thead>\n",
       "    <tr style=\"text-align: right;\">\n",
       "      <th></th>\n",
       "      <th>OptionKey</th>\n",
       "      <th>xp</th>\n",
       "    </tr>\n",
       "  </thead>\n",
       "  <tbody>\n",
       "    <tr>\n",
       "      <th>2019-11-15</th>\n",
       "      <td>MSFT2019-11-15P125.00</td>\n",
       "      <td>0.01</td>\n",
       "    </tr>\n",
       "    <tr>\n",
       "      <th>2019-11-15</th>\n",
       "      <td>MSFT2019-11-15P127.00</td>\n",
       "      <td>0.01</td>\n",
       "    </tr>\n",
       "    <tr>\n",
       "      <th>2019-11-15</th>\n",
       "      <td>MSFT2019-11-15P129.00</td>\n",
       "      <td>0.45</td>\n",
       "    </tr>\n",
       "    <tr>\n",
       "      <th>2019-11-15</th>\n",
       "      <td>MSFT2019-11-15P130.00</td>\n",
       "      <td>0.01</td>\n",
       "    </tr>\n",
       "    <tr>\n",
       "      <th>2019-11-15</th>\n",
       "      <td>MSFT2019-11-15P131.00</td>\n",
       "      <td>0.03</td>\n",
       "    </tr>\n",
       "    <tr>\n",
       "      <th>...</th>\n",
       "      <td>...</td>\n",
       "      <td>...</td>\n",
       "    </tr>\n",
       "    <tr>\n",
       "      <th>2019-12-13</th>\n",
       "      <td>MSFT2019-12-13P150.00</td>\n",
       "      <td>0.01</td>\n",
       "    </tr>\n",
       "    <tr>\n",
       "      <th>2019-12-13</th>\n",
       "      <td>MSFT2019-12-13P152.50</td>\n",
       "      <td>0.01</td>\n",
       "    </tr>\n",
       "    <tr>\n",
       "      <th>2019-12-13</th>\n",
       "      <td>MSFT2019-12-13P155.00</td>\n",
       "      <td>0.68</td>\n",
       "    </tr>\n",
       "    <tr>\n",
       "      <th>2019-12-13</th>\n",
       "      <td>MSFT2019-12-13P157.50</td>\n",
       "      <td>3.85</td>\n",
       "    </tr>\n",
       "    <tr>\n",
       "      <th>2019-12-13</th>\n",
       "      <td>MSFT2019-12-13P160.00</td>\n",
       "      <td>7.40</td>\n",
       "    </tr>\n",
       "  </tbody>\n",
       "</table>\n",
       "<p>93 rows × 2 columns</p>\n",
       "</div>"
      ],
      "text/plain": [
       "                        OptionKey    xp\n",
       "2019-11-15  MSFT2019-11-15P125.00  0.01\n",
       "2019-11-15  MSFT2019-11-15P127.00  0.01\n",
       "2019-11-15  MSFT2019-11-15P129.00  0.45\n",
       "2019-11-15  MSFT2019-11-15P130.00  0.01\n",
       "2019-11-15  MSFT2019-11-15P131.00  0.03\n",
       "...                           ...   ...\n",
       "2019-12-13  MSFT2019-12-13P150.00  0.01\n",
       "2019-12-13  MSFT2019-12-13P152.50  0.01\n",
       "2019-12-13  MSFT2019-12-13P155.00  0.68\n",
       "2019-12-13  MSFT2019-12-13P157.50  3.85\n",
       "2019-12-13  MSFT2019-12-13P160.00  7.40\n",
       "\n",
       "[93 rows x 2 columns]"
      ]
     },
     "execution_count": 29,
     "metadata": {},
     "output_type": "execute_result"
    }
   ],
   "source": [
    "xp = df\n",
    "xp.loc[xp['exp?']== True, 'xp' ] = xp.loc[df['exp?'] == True, 'AskPrice']\n",
    "xp = xp.loc[xp['exp?']== True]\n",
    "xp= xp[['OptionKey', 'xp']]\n",
    "xp"
   ]
  },
  {
   "cell_type": "code",
   "execution_count": 30,
   "metadata": {},
   "outputs": [
    {
     "data": {
      "text/html": [
       "<div>\n",
       "<style scoped>\n",
       "    .dataframe tbody tr th:only-of-type {\n",
       "        vertical-align: middle;\n",
       "    }\n",
       "\n",
       "    .dataframe tbody tr th {\n",
       "        vertical-align: top;\n",
       "    }\n",
       "\n",
       "    .dataframe thead th {\n",
       "        text-align: right;\n",
       "    }\n",
       "</style>\n",
       "<table border=\"1\" class=\"dataframe\">\n",
       "  <thead>\n",
       "    <tr style=\"text-align: right;\">\n",
       "      <th></th>\n",
       "      <th>OptionKey</th>\n",
       "      <th>ExpirationDate</th>\n",
       "      <th>AskPrice</th>\n",
       "      <th>BidPrice</th>\n",
       "      <th>PutCall</th>\n",
       "      <th>StrikePrice</th>\n",
       "      <th>UnderlyingPrice</th>\n",
       "      <th>DataDate</th>\n",
       "      <th>time delta</th>\n",
       "      <th>% out</th>\n",
       "      <th>LSTM Predicted Signal</th>\n",
       "      <th>RF Predicted Value</th>\n",
       "      <th>LSTM OTM Cr Entry</th>\n",
       "      <th>RF OTM Cr Entry</th>\n",
       "      <th>Bid Price</th>\n",
       "      <th>delta</th>\n",
       "      <th>exp?</th>\n",
       "      <th>long_close</th>\n",
       "      <th>long_medium</th>\n",
       "      <th>long_far</th>\n",
       "      <th>short_close</th>\n",
       "      <th>short_medium</th>\n",
       "      <th>short_far</th>\n",
       "      <th>xp</th>\n",
       "    </tr>\n",
       "  </thead>\n",
       "  <tbody>\n",
       "    <tr>\n",
       "      <th>2019-11-13</th>\n",
       "      <td>MSFT2019-11-15P120.00</td>\n",
       "      <td>2019-11-15</td>\n",
       "      <td>0.01</td>\n",
       "      <td>0.00</td>\n",
       "      <td>put</td>\n",
       "      <td>120.0</td>\n",
       "      <td>147.31</td>\n",
       "      <td>2019-11-13</td>\n",
       "      <td>2 days</td>\n",
       "      <td>-0.185391</td>\n",
       "      <td>1</td>\n",
       "      <td>1</td>\n",
       "      <td>0</td>\n",
       "      <td>0</td>\n",
       "      <td>0.0</td>\n",
       "      <td>2 days</td>\n",
       "      <td>False</td>\n",
       "      <td>False</td>\n",
       "      <td>True</td>\n",
       "      <td>False</td>\n",
       "      <td>False</td>\n",
       "      <td>True</td>\n",
       "      <td>False</td>\n",
       "      <td>NaN</td>\n",
       "    </tr>\n",
       "    <tr>\n",
       "      <th>2019-11-13</th>\n",
       "      <td>MSFT2019-11-15P125.00</td>\n",
       "      <td>2019-11-15</td>\n",
       "      <td>0.01</td>\n",
       "      <td>0.00</td>\n",
       "      <td>put</td>\n",
       "      <td>125.0</td>\n",
       "      <td>147.31</td>\n",
       "      <td>2019-11-13</td>\n",
       "      <td>2 days</td>\n",
       "      <td>-0.151449</td>\n",
       "      <td>1</td>\n",
       "      <td>1</td>\n",
       "      <td>0</td>\n",
       "      <td>0</td>\n",
       "      <td>0.0</td>\n",
       "      <td>2 days</td>\n",
       "      <td>False</td>\n",
       "      <td>False</td>\n",
       "      <td>True</td>\n",
       "      <td>False</td>\n",
       "      <td>False</td>\n",
       "      <td>True</td>\n",
       "      <td>False</td>\n",
       "      <td>0.01</td>\n",
       "    </tr>\n",
       "    <tr>\n",
       "      <th>2019-11-14</th>\n",
       "      <td>MSFT2019-11-15P125.00</td>\n",
       "      <td>2019-11-15</td>\n",
       "      <td>0.01</td>\n",
       "      <td>0.00</td>\n",
       "      <td>put</td>\n",
       "      <td>125.0</td>\n",
       "      <td>148.06</td>\n",
       "      <td>2019-11-14</td>\n",
       "      <td>1 days</td>\n",
       "      <td>-0.155748</td>\n",
       "      <td>1</td>\n",
       "      <td>1</td>\n",
       "      <td>0</td>\n",
       "      <td>0</td>\n",
       "      <td>0.0</td>\n",
       "      <td>1 days</td>\n",
       "      <td>False</td>\n",
       "      <td>False</td>\n",
       "      <td>True</td>\n",
       "      <td>False</td>\n",
       "      <td>False</td>\n",
       "      <td>True</td>\n",
       "      <td>False</td>\n",
       "      <td>0.01</td>\n",
       "    </tr>\n",
       "    <tr>\n",
       "      <th>2019-11-15</th>\n",
       "      <td>MSFT2019-11-15P125.00</td>\n",
       "      <td>2019-11-15</td>\n",
       "      <td>0.01</td>\n",
       "      <td>0.00</td>\n",
       "      <td>put</td>\n",
       "      <td>125.0</td>\n",
       "      <td>149.97</td>\n",
       "      <td>2019-11-15</td>\n",
       "      <td>0 days</td>\n",
       "      <td>-0.166500</td>\n",
       "      <td>1</td>\n",
       "      <td>1</td>\n",
       "      <td>0</td>\n",
       "      <td>0</td>\n",
       "      <td>0.0</td>\n",
       "      <td>0 days</td>\n",
       "      <td>True</td>\n",
       "      <td>False</td>\n",
       "      <td>True</td>\n",
       "      <td>False</td>\n",
       "      <td>False</td>\n",
       "      <td>True</td>\n",
       "      <td>False</td>\n",
       "      <td>0.01</td>\n",
       "    </tr>\n",
       "    <tr>\n",
       "      <th>2019-11-14</th>\n",
       "      <td>MSFT2019-11-15P127.00</td>\n",
       "      <td>2019-11-15</td>\n",
       "      <td>0.01</td>\n",
       "      <td>0.00</td>\n",
       "      <td>put</td>\n",
       "      <td>127.0</td>\n",
       "      <td>148.06</td>\n",
       "      <td>2019-11-14</td>\n",
       "      <td>1 days</td>\n",
       "      <td>-0.142240</td>\n",
       "      <td>1</td>\n",
       "      <td>1</td>\n",
       "      <td>0</td>\n",
       "      <td>0</td>\n",
       "      <td>0.0</td>\n",
       "      <td>1 days</td>\n",
       "      <td>False</td>\n",
       "      <td>False</td>\n",
       "      <td>True</td>\n",
       "      <td>False</td>\n",
       "      <td>False</td>\n",
       "      <td>True</td>\n",
       "      <td>False</td>\n",
       "      <td>0.01</td>\n",
       "    </tr>\n",
       "    <tr>\n",
       "      <th>...</th>\n",
       "      <td>...</td>\n",
       "      <td>...</td>\n",
       "      <td>...</td>\n",
       "      <td>...</td>\n",
       "      <td>...</td>\n",
       "      <td>...</td>\n",
       "      <td>...</td>\n",
       "      <td>...</td>\n",
       "      <td>...</td>\n",
       "      <td>...</td>\n",
       "      <td>...</td>\n",
       "      <td>...</td>\n",
       "      <td>...</td>\n",
       "      <td>...</td>\n",
       "      <td>...</td>\n",
       "      <td>...</td>\n",
       "      <td>...</td>\n",
       "      <td>...</td>\n",
       "      <td>...</td>\n",
       "      <td>...</td>\n",
       "      <td>...</td>\n",
       "      <td>...</td>\n",
       "      <td>...</td>\n",
       "      <td>...</td>\n",
       "    </tr>\n",
       "    <tr>\n",
       "      <th>2019-12-02</th>\n",
       "      <td>MSFT2019-12-27P162.50</td>\n",
       "      <td>2019-12-27</td>\n",
       "      <td>13.60</td>\n",
       "      <td>12.30</td>\n",
       "      <td>put</td>\n",
       "      <td>162.5</td>\n",
       "      <td>149.55</td>\n",
       "      <td>2019-12-02</td>\n",
       "      <td>25 days</td>\n",
       "      <td>0.086593</td>\n",
       "      <td>-1</td>\n",
       "      <td>1</td>\n",
       "      <td>0</td>\n",
       "      <td>1</td>\n",
       "      <td>1230.0</td>\n",
       "      <td>25 days</td>\n",
       "      <td>False</td>\n",
       "      <td>False</td>\n",
       "      <td>False</td>\n",
       "      <td>False</td>\n",
       "      <td>False</td>\n",
       "      <td>False</td>\n",
       "      <td>False</td>\n",
       "      <td>NaN</td>\n",
       "    </tr>\n",
       "    <tr>\n",
       "      <th>2019-12-13</th>\n",
       "      <td>MSFT2019-12-27P162.50</td>\n",
       "      <td>2019-12-27</td>\n",
       "      <td>10.15</td>\n",
       "      <td>6.45</td>\n",
       "      <td>put</td>\n",
       "      <td>162.5</td>\n",
       "      <td>154.53</td>\n",
       "      <td>2019-12-13</td>\n",
       "      <td>14 days</td>\n",
       "      <td>0.051576</td>\n",
       "      <td>1</td>\n",
       "      <td>1</td>\n",
       "      <td>1</td>\n",
       "      <td>1</td>\n",
       "      <td>645.0</td>\n",
       "      <td>14 days</td>\n",
       "      <td>False</td>\n",
       "      <td>False</td>\n",
       "      <td>False</td>\n",
       "      <td>False</td>\n",
       "      <td>False</td>\n",
       "      <td>False</td>\n",
       "      <td>False</td>\n",
       "      <td>NaN</td>\n",
       "    </tr>\n",
       "    <tr>\n",
       "      <th>2019-11-19</th>\n",
       "      <td>MSFT2019-12-27P170.00</td>\n",
       "      <td>2019-12-27</td>\n",
       "      <td>21.70</td>\n",
       "      <td>18.15</td>\n",
       "      <td>put</td>\n",
       "      <td>170.0</td>\n",
       "      <td>150.39</td>\n",
       "      <td>2019-11-19</td>\n",
       "      <td>38 days</td>\n",
       "      <td>0.130394</td>\n",
       "      <td>-1</td>\n",
       "      <td>1</td>\n",
       "      <td>0</td>\n",
       "      <td>1</td>\n",
       "      <td>1815.0</td>\n",
       "      <td>38 days</td>\n",
       "      <td>False</td>\n",
       "      <td>False</td>\n",
       "      <td>False</td>\n",
       "      <td>False</td>\n",
       "      <td>False</td>\n",
       "      <td>False</td>\n",
       "      <td>False</td>\n",
       "      <td>NaN</td>\n",
       "    </tr>\n",
       "    <tr>\n",
       "      <th>2019-11-20</th>\n",
       "      <td>MSFT2019-12-27P170.00</td>\n",
       "      <td>2019-12-27</td>\n",
       "      <td>22.25</td>\n",
       "      <td>19.45</td>\n",
       "      <td>put</td>\n",
       "      <td>170.0</td>\n",
       "      <td>149.62</td>\n",
       "      <td>2019-11-20</td>\n",
       "      <td>37 days</td>\n",
       "      <td>0.136212</td>\n",
       "      <td>-1</td>\n",
       "      <td>1</td>\n",
       "      <td>0</td>\n",
       "      <td>1</td>\n",
       "      <td>1945.0</td>\n",
       "      <td>37 days</td>\n",
       "      <td>False</td>\n",
       "      <td>False</td>\n",
       "      <td>False</td>\n",
       "      <td>False</td>\n",
       "      <td>False</td>\n",
       "      <td>False</td>\n",
       "      <td>False</td>\n",
       "      <td>NaN</td>\n",
       "    </tr>\n",
       "    <tr>\n",
       "      <th>2019-12-17</th>\n",
       "      <td>MSFT2019-12-27P185.00</td>\n",
       "      <td>2019-12-27</td>\n",
       "      <td>30.80</td>\n",
       "      <td>29.45</td>\n",
       "      <td>put</td>\n",
       "      <td>185.0</td>\n",
       "      <td>154.69</td>\n",
       "      <td>2019-12-17</td>\n",
       "      <td>10 days</td>\n",
       "      <td>0.195940</td>\n",
       "      <td>-1</td>\n",
       "      <td>1</td>\n",
       "      <td>0</td>\n",
       "      <td>1</td>\n",
       "      <td>2945.0</td>\n",
       "      <td>10 days</td>\n",
       "      <td>False</td>\n",
       "      <td>False</td>\n",
       "      <td>False</td>\n",
       "      <td>False</td>\n",
       "      <td>False</td>\n",
       "      <td>False</td>\n",
       "      <td>False</td>\n",
       "      <td>NaN</td>\n",
       "    </tr>\n",
       "  </tbody>\n",
       "</table>\n",
       "<p>2573 rows × 24 columns</p>\n",
       "</div>"
      ],
      "text/plain": [
       "                        OptionKey ExpirationDate  AskPrice  BidPrice PutCall  \\\n",
       "2019-11-13  MSFT2019-11-15P120.00     2019-11-15      0.01      0.00     put   \n",
       "2019-11-13  MSFT2019-11-15P125.00     2019-11-15      0.01      0.00     put   \n",
       "2019-11-14  MSFT2019-11-15P125.00     2019-11-15      0.01      0.00     put   \n",
       "2019-11-15  MSFT2019-11-15P125.00     2019-11-15      0.01      0.00     put   \n",
       "2019-11-14  MSFT2019-11-15P127.00     2019-11-15      0.01      0.00     put   \n",
       "...                           ...            ...       ...       ...     ...   \n",
       "2019-12-02  MSFT2019-12-27P162.50     2019-12-27     13.60     12.30     put   \n",
       "2019-12-13  MSFT2019-12-27P162.50     2019-12-27     10.15      6.45     put   \n",
       "2019-11-19  MSFT2019-12-27P170.00     2019-12-27     21.70     18.15     put   \n",
       "2019-11-20  MSFT2019-12-27P170.00     2019-12-27     22.25     19.45     put   \n",
       "2019-12-17  MSFT2019-12-27P185.00     2019-12-27     30.80     29.45     put   \n",
       "\n",
       "            StrikePrice  UnderlyingPrice   DataDate time delta     % out  \\\n",
       "2019-11-13        120.0           147.31 2019-11-13     2 days -0.185391   \n",
       "2019-11-13        125.0           147.31 2019-11-13     2 days -0.151449   \n",
       "2019-11-14        125.0           148.06 2019-11-14     1 days -0.155748   \n",
       "2019-11-15        125.0           149.97 2019-11-15     0 days -0.166500   \n",
       "2019-11-14        127.0           148.06 2019-11-14     1 days -0.142240   \n",
       "...                 ...              ...        ...        ...       ...   \n",
       "2019-12-02        162.5           149.55 2019-12-02    25 days  0.086593   \n",
       "2019-12-13        162.5           154.53 2019-12-13    14 days  0.051576   \n",
       "2019-11-19        170.0           150.39 2019-11-19    38 days  0.130394   \n",
       "2019-11-20        170.0           149.62 2019-11-20    37 days  0.136212   \n",
       "2019-12-17        185.0           154.69 2019-12-17    10 days  0.195940   \n",
       "\n",
       "            LSTM Predicted Signal  RF Predicted Value  LSTM OTM Cr Entry  \\\n",
       "2019-11-13                      1                   1                  0   \n",
       "2019-11-13                      1                   1                  0   \n",
       "2019-11-14                      1                   1                  0   \n",
       "2019-11-15                      1                   1                  0   \n",
       "2019-11-14                      1                   1                  0   \n",
       "...                           ...                 ...                ...   \n",
       "2019-12-02                     -1                   1                  0   \n",
       "2019-12-13                      1                   1                  1   \n",
       "2019-11-19                     -1                   1                  0   \n",
       "2019-11-20                     -1                   1                  0   \n",
       "2019-12-17                     -1                   1                  0   \n",
       "\n",
       "            RF OTM Cr Entry  Bid Price   delta   exp?  long_close  \\\n",
       "2019-11-13                0        0.0  2 days  False       False   \n",
       "2019-11-13                0        0.0  2 days  False       False   \n",
       "2019-11-14                0        0.0  1 days  False       False   \n",
       "2019-11-15                0        0.0  0 days   True       False   \n",
       "2019-11-14                0        0.0  1 days  False       False   \n",
       "...                     ...        ...     ...    ...         ...   \n",
       "2019-12-02                1     1230.0 25 days  False       False   \n",
       "2019-12-13                1      645.0 14 days  False       False   \n",
       "2019-11-19                1     1815.0 38 days  False       False   \n",
       "2019-11-20                1     1945.0 37 days  False       False   \n",
       "2019-12-17                1     2945.0 10 days  False       False   \n",
       "\n",
       "            long_medium  long_far  short_close  short_medium  short_far    xp  \n",
       "2019-11-13         True     False        False          True      False   NaN  \n",
       "2019-11-13         True     False        False          True      False  0.01  \n",
       "2019-11-14         True     False        False          True      False  0.01  \n",
       "2019-11-15         True     False        False          True      False  0.01  \n",
       "2019-11-14         True     False        False          True      False  0.01  \n",
       "...                 ...       ...          ...           ...        ...   ...  \n",
       "2019-12-02        False     False        False         False      False   NaN  \n",
       "2019-12-13        False     False        False         False      False   NaN  \n",
       "2019-11-19        False     False        False         False      False   NaN  \n",
       "2019-11-20        False     False        False         False      False   NaN  \n",
       "2019-12-17        False     False        False         False      False   NaN  \n",
       "\n",
       "[2573 rows x 24 columns]"
      ]
     },
     "execution_count": 30,
     "metadata": {},
     "output_type": "execute_result"
    }
   ],
   "source": [
    "df['xp']=df.OptionKey.map(xp.set_index('OptionKey')['xp'])\n",
    "df"
   ]
  },
  {
   "cell_type": "code",
   "execution_count": 37,
   "metadata": {},
   "outputs": [
    {
     "name": "stdout",
     "output_type": "stream",
     "text": [
      "8.080000000000002\n"
     ]
    },
    {
     "name": "stderr",
     "output_type": "stream",
     "text": [
      "<ipython-input-37-1d9b8a5588f6>:2: SettingWithCopyWarning: \n",
      "A value is trying to be set on a copy of a slice from a DataFrame.\n",
      "Try using .loc[row_indexer,col_indexer] = value instead\n",
      "\n",
      "See the caveats in the documentation: https://pandas.pydata.org/pandas-docs/stable/user_guide/indexing.html#returning-a-view-versus-a-copy\n",
      "  short_close_LSTM['log'] = short_close_LSTM['AskPrice'] - short_close_LSTM['xp']\n"
     ]
    }
   ],
   "source": [
    "short_close_LSTM = df.loc[(df['short_close']== True) & (df['LSTM Predicted Signal'] == 1)]\n",
    "short_close_LSTM['log'] = short_close_LSTM['AskPrice'] - short_close_LSTM['xp']\n",
    "short_close_LSTM_total = short_close_LSTM['log'].sum()\n",
    "print(short_close_LSTM_total)"
   ]
  },
  {
   "cell_type": "code",
   "execution_count": 38,
   "metadata": {},
   "outputs": [
    {
     "name": "stdout",
     "output_type": "stream",
     "text": [
      "26.919999999999998\n"
     ]
    },
    {
     "name": "stderr",
     "output_type": "stream",
     "text": [
      "<ipython-input-38-26e370e263bb>:2: SettingWithCopyWarning: \n",
      "A value is trying to be set on a copy of a slice from a DataFrame.\n",
      "Try using .loc[row_indexer,col_indexer] = value instead\n",
      "\n",
      "See the caveats in the documentation: https://pandas.pydata.org/pandas-docs/stable/user_guide/indexing.html#returning-a-view-versus-a-copy\n",
      "  short_close_RF['log'] = short_close_RF['AskPrice'] - short_close_RF['xp']\n"
     ]
    }
   ],
   "source": [
    "short_close_RF = df.loc[(df['short_close']== True) & (df['RF Predicted Value'] == 1)]\n",
    "short_close_RF['log'] = short_close_RF['AskPrice'] - short_close_RF['xp']\n",
    "short_close_RF_total = short_close_RF['log'].sum()\n",
    "print(short_close_RF_total)"
   ]
  },
  {
   "cell_type": "code",
   "execution_count": 39,
   "metadata": {},
   "outputs": [
    {
     "name": "stdout",
     "output_type": "stream",
     "text": [
      "-0.019999999999999907\n"
     ]
    },
    {
     "name": "stderr",
     "output_type": "stream",
     "text": [
      "<ipython-input-39-47cc65b57caf>:2: SettingWithCopyWarning: \n",
      "A value is trying to be set on a copy of a slice from a DataFrame.\n",
      "Try using .loc[row_indexer,col_indexer] = value instead\n",
      "\n",
      "See the caveats in the documentation: https://pandas.pydata.org/pandas-docs/stable/user_guide/indexing.html#returning-a-view-versus-a-copy\n",
      "  short_medium_LSTM['log'] = short_medium_LSTM['AskPrice'] - short_medium_LSTM['xp']\n"
     ]
    }
   ],
   "source": [
    "short_medium_LSTM = df.loc[(df['short_medium']== True) & (df['LSTM Predicted Signal'] == 1)]\n",
    "short_medium_LSTM['log'] = short_medium_LSTM['AskPrice'] - short_medium_LSTM['xp']\n",
    "short_medium_LSTM_total = short_medium_LSTM['log'].sum()\n",
    "print(short_medium_LSTM_total)"
   ]
  },
  {
   "cell_type": "code",
   "execution_count": 40,
   "metadata": {},
   "outputs": [
    {
     "name": "stdout",
     "output_type": "stream",
     "text": [
      "0.010000000000000009\n"
     ]
    },
    {
     "name": "stderr",
     "output_type": "stream",
     "text": [
      "<ipython-input-40-3e62de6047f9>:2: SettingWithCopyWarning: \n",
      "A value is trying to be set on a copy of a slice from a DataFrame.\n",
      "Try using .loc[row_indexer,col_indexer] = value instead\n",
      "\n",
      "See the caveats in the documentation: https://pandas.pydata.org/pandas-docs/stable/user_guide/indexing.html#returning-a-view-versus-a-copy\n",
      "  short_medium_RF['log'] = short_medium_RF['AskPrice'] - short_medium_RF['xp']\n"
     ]
    }
   ],
   "source": [
    "short_medium_RF = df.loc[(df['short_medium']== True) & (df['RF Predicted Value'] == 1)]\n",
    "short_medium_RF['log'] = short_medium_RF['AskPrice'] - short_medium_RF['xp']\n",
    "short_medium_RF_total = short_medium_RF['log'].sum()\n",
    "print(short_medium_RF_total)"
   ]
  },
  {
   "cell_type": "code",
   "execution_count": 41,
   "metadata": {},
   "outputs": [
    {
     "name": "stdout",
     "output_type": "stream",
     "text": [
      "0.0\n"
     ]
    },
    {
     "name": "stderr",
     "output_type": "stream",
     "text": [
      "<ipython-input-41-97cde8b08bcc>:2: SettingWithCopyWarning: \n",
      "A value is trying to be set on a copy of a slice from a DataFrame.\n",
      "Try using .loc[row_indexer,col_indexer] = value instead\n",
      "\n",
      "See the caveats in the documentation: https://pandas.pydata.org/pandas-docs/stable/user_guide/indexing.html#returning-a-view-versus-a-copy\n",
      "  short_far_LSTM['log'] = short_far_LSTM['AskPrice'] - short_far_LSTM['xp']\n"
     ]
    }
   ],
   "source": [
    "short_far_LSTM = df.loc[(df['short_far']== True) & (df['LSTM Predicted Signal'] == 1)]\n",
    "short_far_LSTM['log'] = short_far_LSTM['AskPrice'] - short_far_LSTM['xp']\n",
    "short_far_LSTM_total = short_far_LSTM['log'].sum()\n",
    "print(short_far_LSTM_total)"
   ]
  },
  {
   "cell_type": "code",
   "execution_count": 42,
   "metadata": {},
   "outputs": [
    {
     "name": "stdout",
     "output_type": "stream",
     "text": [
      "0.0\n"
     ]
    },
    {
     "name": "stderr",
     "output_type": "stream",
     "text": [
      "<ipython-input-42-18c5042b77ee>:2: SettingWithCopyWarning: \n",
      "A value is trying to be set on a copy of a slice from a DataFrame.\n",
      "Try using .loc[row_indexer,col_indexer] = value instead\n",
      "\n",
      "See the caveats in the documentation: https://pandas.pydata.org/pandas-docs/stable/user_guide/indexing.html#returning-a-view-versus-a-copy\n",
      "  short_far_RF['log'] = short_far_RF['AskPrice'] - short_far_RF['xp']\n"
     ]
    }
   ],
   "source": [
    "short_far_RF = df.loc[(df['short_far']== True) & (df['RF Predicted Value'] == 1)]\n",
    "short_far_RF['log'] = short_far_RF['AskPrice'] - short_far_RF['xp']\n",
    "short_far_RF_total = short_far_RF['log'].sum()\n",
    "print(short_far_RF_total)"
   ]
  },
  {
   "cell_type": "code",
   "execution_count": 43,
   "metadata": {},
   "outputs": [
    {
     "name": "stdout",
     "output_type": "stream",
     "text": [
      "17.96\n"
     ]
    },
    {
     "name": "stderr",
     "output_type": "stream",
     "text": [
      "<ipython-input-43-14bc539d4f68>:2: SettingWithCopyWarning: \n",
      "A value is trying to be set on a copy of a slice from a DataFrame.\n",
      "Try using .loc[row_indexer,col_indexer] = value instead\n",
      "\n",
      "See the caveats in the documentation: https://pandas.pydata.org/pandas-docs/stable/user_guide/indexing.html#returning-a-view-versus-a-copy\n",
      "  long_close_LSTM['log'] = long_close_LSTM['AskPrice'] - long_close_LSTM['xp']\n"
     ]
    }
   ],
   "source": [
    "long_close_LSTM = df.loc[(df['long_close']== True) & (df['LSTM Predicted Signal'] == 1)]\n",
    "long_close_LSTM['log'] = long_close_LSTM['AskPrice'] - long_close_LSTM['xp']\n",
    "long_close_LSTM_total = long_close_LSTM['log'].sum()\n",
    "print(long_close_LSTM_total)"
   ]
  },
  {
   "cell_type": "code",
   "execution_count": 44,
   "metadata": {},
   "outputs": [
    {
     "name": "stdout",
     "output_type": "stream",
     "text": [
      "72.93\n"
     ]
    },
    {
     "name": "stderr",
     "output_type": "stream",
     "text": [
      "<ipython-input-44-2c96faa3b979>:2: SettingWithCopyWarning: \n",
      "A value is trying to be set on a copy of a slice from a DataFrame.\n",
      "Try using .loc[row_indexer,col_indexer] = value instead\n",
      "\n",
      "See the caveats in the documentation: https://pandas.pydata.org/pandas-docs/stable/user_guide/indexing.html#returning-a-view-versus-a-copy\n",
      "  long_close_RF['log'] = long_close_RF['AskPrice'] - long_close_RF['xp']\n"
     ]
    }
   ],
   "source": [
    "long_close_RF = df.loc[(df['long_close']== True) & (df['RF Predicted Value'] == 1)]\n",
    "long_close_RF['log'] = long_close_RF['AskPrice'] - long_close_RF['xp']\n",
    "long_close_RF_total = long_close_RF['log'].sum()\n",
    "print(long_close_RF_total)"
   ]
  },
  {
   "cell_type": "code",
   "execution_count": 45,
   "metadata": {},
   "outputs": [
    {
     "name": "stdout",
     "output_type": "stream",
     "text": [
      "0.0\n"
     ]
    },
    {
     "name": "stderr",
     "output_type": "stream",
     "text": [
      "<ipython-input-45-42ba9debbf05>:2: SettingWithCopyWarning: \n",
      "A value is trying to be set on a copy of a slice from a DataFrame.\n",
      "Try using .loc[row_indexer,col_indexer] = value instead\n",
      "\n",
      "See the caveats in the documentation: https://pandas.pydata.org/pandas-docs/stable/user_guide/indexing.html#returning-a-view-versus-a-copy\n",
      "  long_far_RF['log'] = long_far_RF['AskPrice'] - long_far_RF['xp']\n"
     ]
    }
   ],
   "source": [
    "long_far_RF = df.loc[(df['long_far']== True) & (df['RF Predicted Value'] == 1)]\n",
    "long_far_RF['log'] = long_far_RF['AskPrice'] - long_far_RF['xp']\n",
    "long_far_RF_total = long_far_RF['log'].sum()\n",
    "print(long_far_RF_total)"
   ]
  },
  {
   "cell_type": "code",
   "execution_count": 46,
   "metadata": {},
   "outputs": [
    {
     "name": "stdout",
     "output_type": "stream",
     "text": [
      "0.0\n"
     ]
    },
    {
     "name": "stderr",
     "output_type": "stream",
     "text": [
      "<ipython-input-46-ded057f9d0d2>:2: SettingWithCopyWarning: \n",
      "A value is trying to be set on a copy of a slice from a DataFrame.\n",
      "Try using .loc[row_indexer,col_indexer] = value instead\n",
      "\n",
      "See the caveats in the documentation: https://pandas.pydata.org/pandas-docs/stable/user_guide/indexing.html#returning-a-view-versus-a-copy\n",
      "  long_far_LSTM['log'] = long_far_LSTM['AskPrice'] - long_far_LSTM['xp']\n"
     ]
    }
   ],
   "source": [
    "long_far_LSTM = df.loc[(df['long_far']== True) & (df['LSTM Predicted Signal'] == 1)]\n",
    "long_far_LSTM['log'] = long_far_LSTM['AskPrice'] - long_far_LSTM['xp']\n",
    "long_far_LSTM_total = long_far_LSTM['log'].sum()\n",
    "print(long_far_LSTM_total)"
   ]
  },
  {
   "cell_type": "code",
   "execution_count": 47,
   "metadata": {},
   "outputs": [
    {
     "name": "stdout",
     "output_type": "stream",
     "text": [
      "0.24000000000000007\n"
     ]
    },
    {
     "name": "stderr",
     "output_type": "stream",
     "text": [
      "<ipython-input-47-e86d80339e6e>:2: SettingWithCopyWarning: \n",
      "A value is trying to be set on a copy of a slice from a DataFrame.\n",
      "Try using .loc[row_indexer,col_indexer] = value instead\n",
      "\n",
      "See the caveats in the documentation: https://pandas.pydata.org/pandas-docs/stable/user_guide/indexing.html#returning-a-view-versus-a-copy\n",
      "  long_medium_LSTM['log'] = long_medium_LSTM['AskPrice'] - long_medium_LSTM['xp']\n"
     ]
    }
   ],
   "source": [
    "long_medium_LSTM = df.loc[(df['long_medium']== True) & (df['LSTM Predicted Signal'] == 1)]\n",
    "long_medium_LSTM['log'] = long_medium_LSTM['AskPrice'] - long_medium_LSTM['xp']\n",
    "long_medium_LSTM_total = long_medium_LSTM['log'].sum()\n",
    "print(long_medium_LSTM_total)"
   ]
  },
  {
   "cell_type": "code",
   "execution_count": 48,
   "metadata": {},
   "outputs": [
    {
     "name": "stdout",
     "output_type": "stream",
     "text": [
      "0.4900000000000001\n"
     ]
    },
    {
     "name": "stderr",
     "output_type": "stream",
     "text": [
      "<ipython-input-48-29d39dcc6c84>:2: SettingWithCopyWarning: \n",
      "A value is trying to be set on a copy of a slice from a DataFrame.\n",
      "Try using .loc[row_indexer,col_indexer] = value instead\n",
      "\n",
      "See the caveats in the documentation: https://pandas.pydata.org/pandas-docs/stable/user_guide/indexing.html#returning-a-view-versus-a-copy\n",
      "  long_medium_RF['log'] = long_medium_RF['AskPrice'] - long_medium_RF['xp']\n"
     ]
    }
   ],
   "source": [
    "long_medium_RF = df.loc[(df['long_medium']== True) & (df['RF Predicted Value'] == 1)]\n",
    "long_medium_RF['log'] = long_medium_RF['AskPrice'] - long_medium_RF['xp']\n",
    "long_medium_RF_total = long_medium_RF['log'].sum()\n",
    "print(long_medium_RF_total)"
   ]
  },
  {
   "cell_type": "code",
   "execution_count": 49,
   "metadata": {},
   "outputs": [],
   "source": [
    "df = pd.DataFrame()\n",
    "df['short_close_negatives_RF'] =(short_close_RF.log[(short_close_RF.log < 0)]).count(),\n",
    "df['short_close_positives_RF'] =(short_close_RF.log[(short_close_RF.log > 0)]).count(),\n",
    "\n",
    "df['short_close_negatives_LSTM'] =(short_close_LSTM.log[(short_close_LSTM.log < 0)]).count(),\n",
    "df['short_close_positives_LSTM'] =(short_close_LSTM.log[(short_close_LSTM.log > 0)]).count(),\n",
    "\n",
    "df['short_medium_negatives_RF'] =(short_medium_RF.log[(short_medium_RF.log < 0)]).count(),\n",
    "df['short_medium_positives_RF'] =(short_medium_RF.log[(short_medium_RF.log > 0)]).count(),\n",
    "\n",
    "df['short_medium_negatives_LSTM'] =(short_medium_LSTM.log[(short_medium_LSTM.log < 0)]).count(),\n",
    "df['short_medium_positives_LSTM'] =(short_medium_LSTM.log[(short_medium_LSTM.log > 0)]).count(),\n",
    "\n",
    "df['short_far_negatives_RF'] =(short_far_RF.log[(short_far_RF.log < 0)]).count(),\n",
    "df['short_far_positives_RF'] =(short_far_RF.log[(short_far_RF.log > 0)]).count(),\n",
    "\n",
    "df['short_far_negatives_LSTM'] =(short_far_LSTM.log[(short_far_LSTM.log < 0)]).count(),\n",
    "df['short_far_positives_LSTM'] =(short_far_LSTM.log[(short_far_LSTM.log > 0)]).count()\n"
   ]
  },
  {
   "cell_type": "code",
   "execution_count": 50,
   "metadata": {},
   "outputs": [
    {
     "data": {
      "text/plain": [
       "<AxesSubplot:title={'center':'Positive vs Negative Count over Short Expiration Window (weekly)'}>"
      ]
     },
     "execution_count": 50,
     "metadata": {},
     "output_type": "execute_result"
    },
    {
     "data": {
      "image/png": "[encoded data removed]",
      "text/plain": [
       "<Figure size 1440x720 with 1 Axes>"
      ]
     },
     "metadata": {
      "needs_background": "light"
     },
     "output_type": "display_data"
    }
   ],
   "source": [
    "df.plot(kind = 'bar', figsize = (20,10), title = \"Positive vs Negative Count over Short Expiration Window (weekly)\")"
   ]
  },
  {
   "cell_type": "code",
   "execution_count": 51,
   "metadata": {},
   "outputs": [],
   "source": [
    "lf = pd.DataFrame()\n",
    "lf['long_close_negatives_RF'] =(long_close_RF.log[(long_close_RF.log < 0)]).count(),\n",
    "lf['long_close_positives_RF'] =(long_close_RF.log[(long_close_RF.log > 0)]).count(),\n",
    "\n",
    "lf['long_close_negatives_LSTM'] =(long_close_LSTM.log[(long_close_LSTM.log < 0)]).count(),\n",
    "lf['long_close_positives_LSTM'] =(long_close_LSTM.log[(long_close_LSTM.log > 0)]).count(),\n",
    "\n",
    "lf['long_medium_negatives_RF'] =(long_medium_RF.log[(long_medium_RF.log < 0)]).count(),\n",
    "lf['long_medium_positives_RF'] =(long_medium_RF.log[(long_medium_RF.log > 0)]).count(),\n",
    "\n",
    "lf['long_medium_negatives_LSTM'] =(long_medium_LSTM.log[(long_medium_LSTM.log < 0)]).count(),\n",
    "lf['long_medium_positives_LSTM'] =(long_medium_LSTM.log[(long_medium_LSTM.log > 0)]).count(),\n",
    "\n",
    "lf['long_far_negatives_RF'] =(long_far_RF.log[(long_far_RF.log < 0)]).count(),\n",
    "lf['long_far_positives_RF'] =(long_far_RF.log[(long_far_RF.log > 0)]).count(),\n",
    "\n",
    "lf['long_far_negatives_LSTM'] =(long_far_LSTM.log[(long_far_LSTM.log < 0)]).count(),\n",
    "lf['long_far_positives_LSTM'] =(long_far_LSTM.log[(long_far_LSTM.log > 0)]).count()"
   ]
  },
  {
   "cell_type": "code",
   "execution_count": 52,
   "metadata": {},
   "outputs": [
    {
     "data": {
      "text/plain": [
       "<AxesSubplot:title={'center':'Positive vs Negative Count over Short Expiration Window (bi-weekly)'}>"
      ]
     },
     "execution_count": 52,
     "metadata": {},
     "output_type": "execute_result"
    },
    {
     "data": {
      "image/png": "[encoded data removed]",
      "text/plain": [
       "<Figure size 1440x720 with 1 Axes>"
      ]
     },
     "metadata": {
      "needs_background": "light"
     },
     "output_type": "display_data"
    }
   ],
   "source": [
    "lf.plot(kind = 'bar', figsize = (20,10), title = \"Positive vs Negative Count over Short Expiration Window (bi-weekly)\")"
   ]
  },
  {
   "cell_type": "code",
   "execution_count": 53,
   "metadata": {},
   "outputs": [],
   "source": [
    "short_equity_curve = pd.DataFrame()\n",
    "short_equity_curve['short_close_RF_group'] = short_close_RF['log'].groupby(short_close_RF.index).sum()\n",
    "short_equity_curve['short_close_RF_group'] = short_close_LSTM['log'].groupby(short_close_LSTM.index).sum()\n",
    "short_equity_curve['short_medium_RF_group'] = short_medium_RF['log'].groupby(short_medium_RF.index).sum()\n",
    "short_equity_curve['short_medium_LSTM_group'] = short_medium_LSTM['log'].groupby(short_medium_LSTM.index).sum()\n",
    "short_equity_curve['short_far_RF_group'] = short_far_RF['log'].groupby(short_far_RF.index).sum()\n",
    "short_equity_curve['short_far_LSTM_group'] = short_far_LSTM['log'].groupby(short_far_LSTM.index).sum()"
   ]
  },
  {
   "cell_type": "code",
   "execution_count": 54,
   "metadata": {},
   "outputs": [
    {
     "data": {
      "text/html": [
       "<div>\n",
       "<style scoped>\n",
       "    .dataframe tbody tr th:only-of-type {\n",
       "        vertical-align: middle;\n",
       "    }\n",
       "\n",
       "    .dataframe tbody tr th {\n",
       "        vertical-align: top;\n",
       "    }\n",
       "\n",
       "    .dataframe thead th {\n",
       "        text-align: right;\n",
       "    }\n",
       "</style>\n",
       "<table border=\"1\" class=\"dataframe\">\n",
       "  <thead>\n",
       "    <tr style=\"text-align: right;\">\n",
       "      <th></th>\n",
       "      <th>short_close_RF_group</th>\n",
       "      <th>short_medium_RF_group</th>\n",
       "      <th>short_medium_LSTM_group</th>\n",
       "      <th>short_far_RF_group</th>\n",
       "      <th>short_far_LSTM_group</th>\n",
       "    </tr>\n",
       "  </thead>\n",
       "  <tbody>\n",
       "    <tr>\n",
       "      <th>2019-11-13</th>\n",
       "      <td>1.33</td>\n",
       "      <td>0.03</td>\n",
       "      <td>0.03</td>\n",
       "      <td>0.0</td>\n",
       "      <td>0.0</td>\n",
       "    </tr>\n",
       "    <tr>\n",
       "      <th>2019-11-14</th>\n",
       "      <td>2.34</td>\n",
       "      <td>-0.34</td>\n",
       "      <td>-0.34</td>\n",
       "      <td>0.0</td>\n",
       "      <td>0.0</td>\n",
       "    </tr>\n",
       "    <tr>\n",
       "      <th>2019-11-15</th>\n",
       "      <td>6.53</td>\n",
       "      <td>-0.02</td>\n",
       "      <td>-0.02</td>\n",
       "      <td>0.0</td>\n",
       "      <td>0.0</td>\n",
       "    </tr>\n",
       "    <tr>\n",
       "      <th>2019-11-18</th>\n",
       "      <td>7.08</td>\n",
       "      <td>-0.04</td>\n",
       "      <td>-0.02</td>\n",
       "      <td>0.0</td>\n",
       "      <td>0.0</td>\n",
       "    </tr>\n",
       "    <tr>\n",
       "      <th>2019-11-19</th>\n",
       "      <td>7.08</td>\n",
       "      <td>-0.08</td>\n",
       "      <td>-0.02</td>\n",
       "      <td>0.0</td>\n",
       "      <td>0.0</td>\n",
       "    </tr>\n",
       "    <tr>\n",
       "      <th>2019-11-20</th>\n",
       "      <td>7.08</td>\n",
       "      <td>-0.05</td>\n",
       "      <td>-0.02</td>\n",
       "      <td>0.0</td>\n",
       "      <td>0.0</td>\n",
       "    </tr>\n",
       "    <tr>\n",
       "      <th>2019-11-21</th>\n",
       "      <td>7.08</td>\n",
       "      <td>-0.07</td>\n",
       "      <td>-0.02</td>\n",
       "      <td>0.0</td>\n",
       "      <td>0.0</td>\n",
       "    </tr>\n",
       "    <tr>\n",
       "      <th>2019-11-22</th>\n",
       "      <td>7.08</td>\n",
       "      <td>-0.07</td>\n",
       "      <td>-0.02</td>\n",
       "      <td>0.0</td>\n",
       "      <td>0.0</td>\n",
       "    </tr>\n",
       "    <tr>\n",
       "      <th>2019-11-26</th>\n",
       "      <td>7.08</td>\n",
       "      <td>-0.07</td>\n",
       "      <td>-0.02</td>\n",
       "      <td>0.0</td>\n",
       "      <td>0.0</td>\n",
       "    </tr>\n",
       "    <tr>\n",
       "      <th>2019-11-27</th>\n",
       "      <td>7.08</td>\n",
       "      <td>-0.07</td>\n",
       "      <td>-0.02</td>\n",
       "      <td>0.0</td>\n",
       "      <td>0.0</td>\n",
       "    </tr>\n",
       "    <tr>\n",
       "      <th>2019-11-29</th>\n",
       "      <td>7.08</td>\n",
       "      <td>-0.03</td>\n",
       "      <td>-0.02</td>\n",
       "      <td>0.0</td>\n",
       "      <td>0.0</td>\n",
       "    </tr>\n",
       "    <tr>\n",
       "      <th>2019-12-02</th>\n",
       "      <td>7.08</td>\n",
       "      <td>0.01</td>\n",
       "      <td>-0.02</td>\n",
       "      <td>0.0</td>\n",
       "      <td>0.0</td>\n",
       "    </tr>\n",
       "    <tr>\n",
       "      <th>2019-12-04</th>\n",
       "      <td>7.08</td>\n",
       "      <td>0.01</td>\n",
       "      <td>-0.02</td>\n",
       "      <td>0.0</td>\n",
       "      <td>0.0</td>\n",
       "    </tr>\n",
       "    <tr>\n",
       "      <th>2019-12-09</th>\n",
       "      <td>7.08</td>\n",
       "      <td>0.01</td>\n",
       "      <td>-0.02</td>\n",
       "      <td>0.0</td>\n",
       "      <td>0.0</td>\n",
       "    </tr>\n",
       "    <tr>\n",
       "      <th>2019-12-11</th>\n",
       "      <td>7.08</td>\n",
       "      <td>0.01</td>\n",
       "      <td>-0.02</td>\n",
       "      <td>0.0</td>\n",
       "      <td>0.0</td>\n",
       "    </tr>\n",
       "    <tr>\n",
       "      <th>2019-12-12</th>\n",
       "      <td>8.08</td>\n",
       "      <td>0.01</td>\n",
       "      <td>-0.02</td>\n",
       "      <td>0.0</td>\n",
       "      <td>0.0</td>\n",
       "    </tr>\n",
       "    <tr>\n",
       "      <th>2019-12-13</th>\n",
       "      <td>8.08</td>\n",
       "      <td>0.01</td>\n",
       "      <td>-0.02</td>\n",
       "      <td>0.0</td>\n",
       "      <td>0.0</td>\n",
       "    </tr>\n",
       "    <tr>\n",
       "      <th>2019-12-16</th>\n",
       "      <td>8.08</td>\n",
       "      <td>0.01</td>\n",
       "      <td>-0.02</td>\n",
       "      <td>0.0</td>\n",
       "      <td>0.0</td>\n",
       "    </tr>\n",
       "    <tr>\n",
       "      <th>2019-12-17</th>\n",
       "      <td>8.08</td>\n",
       "      <td>0.01</td>\n",
       "      <td>-0.02</td>\n",
       "      <td>0.0</td>\n",
       "      <td>0.0</td>\n",
       "    </tr>\n",
       "    <tr>\n",
       "      <th>2019-12-18</th>\n",
       "      <td>8.08</td>\n",
       "      <td>0.01</td>\n",
       "      <td>-0.02</td>\n",
       "      <td>0.0</td>\n",
       "      <td>0.0</td>\n",
       "    </tr>\n",
       "  </tbody>\n",
       "</table>\n",
       "</div>"
      ],
      "text/plain": [
       "            short_close_RF_group  short_medium_RF_group  \\\n",
       "2019-11-13                  1.33                   0.03   \n",
       "2019-11-14                  2.34                  -0.34   \n",
       "2019-11-15                  6.53                  -0.02   \n",
       "2019-11-18                  7.08                  -0.04   \n",
       "2019-11-19                  7.08                  -0.08   \n",
       "2019-11-20                  7.08                  -0.05   \n",
       "2019-11-21                  7.08                  -0.07   \n",
       "2019-11-22                  7.08                  -0.07   \n",
       "2019-11-26                  7.08                  -0.07   \n",
       "2019-11-27                  7.08                  -0.07   \n",
       "2019-11-29                  7.08                  -0.03   \n",
       "2019-12-02                  7.08                   0.01   \n",
       "2019-12-04                  7.08                   0.01   \n",
       "2019-12-09                  7.08                   0.01   \n",
       "2019-12-11                  7.08                   0.01   \n",
       "2019-12-12                  8.08                   0.01   \n",
       "2019-12-13                  8.08                   0.01   \n",
       "2019-12-16                  8.08                   0.01   \n",
       "2019-12-17                  8.08                   0.01   \n",
       "2019-12-18                  8.08                   0.01   \n",
       "\n",
       "            short_medium_LSTM_group  short_far_RF_group  short_far_LSTM_group  \n",
       "2019-11-13                     0.03                 0.0                   0.0  \n",
       "2019-11-14                    -0.34                 0.0                   0.0  \n",
       "2019-11-15                    -0.02                 0.0                   0.0  \n",
       "2019-11-18                    -0.02                 0.0                   0.0  \n",
       "2019-11-19                    -0.02                 0.0                   0.0  \n",
       "2019-11-20                    -0.02                 0.0                   0.0  \n",
       "2019-11-21                    -0.02                 0.0                   0.0  \n",
       "2019-11-22                    -0.02                 0.0                   0.0  \n",
       "2019-11-26                    -0.02                 0.0                   0.0  \n",
       "2019-11-27                    -0.02                 0.0                   0.0  \n",
       "2019-11-29                    -0.02                 0.0                   0.0  \n",
       "2019-12-02                    -0.02                 0.0                   0.0  \n",
       "2019-12-04                    -0.02                 0.0                   0.0  \n",
       "2019-12-09                    -0.02                 0.0                   0.0  \n",
       "2019-12-11                    -0.02                 0.0                   0.0  \n",
       "2019-12-12                    -0.02                 0.0                   0.0  \n",
       "2019-12-13                    -0.02                 0.0                   0.0  \n",
       "2019-12-16                    -0.02                 0.0                   0.0  \n",
       "2019-12-17                    -0.02                 0.0                   0.0  \n",
       "2019-12-18                    -0.02                 0.0                   0.0  "
      ]
     },
     "execution_count": 54,
     "metadata": {},
     "output_type": "execute_result"
    }
   ],
   "source": [
    "short_equity_curve = short_equity_curve.cumsum()\n",
    "short_equity_curve = short_equity_curve.fillna(method = 'backfill' )\n",
    "short_equity_curve"
   ]
  },
  {
   "cell_type": "code",
   "execution_count": 68,
   "metadata": {},
   "outputs": [
    {
     "data": {
      "image/png": "[encoded data removed]",
      "text/plain": [
       "<Figure size 1440x720 with 1 Axes>"
      ]
     },
     "metadata": {
      "needs_background": "light"
     },
     "output_type": "display_data"
    }
   ],
   "source": [
    "se=short_equity_curve.plot(kind ='line', figsize = (20,10),title =\"Weekly Close Position Equity Curve\").get_figure()"
   ]
  },
  {
   "cell_type": "code",
   "execution_count": 70,
   "metadata": {},
   "outputs": [],
   "source": [
    "se.savefig('msft_short_equity_curve')"
   ]
  },
  {
   "cell_type": "code",
   "execution_count": 56,
   "metadata": {},
   "outputs": [],
   "source": [
    "long_equity_curve = pd.DataFrame()\n",
    "long_equity_curve['long_close_RF_group'] = long_close_RF['log'].groupby(long_close_RF.index).sum()\n",
    "long_equity_curve['long_close_LSTM_group'] =long_close_LSTM['log'].groupby(long_close_LSTM.index).sum()\n",
    "long_equity_curve['long_medium_RF_group'] = long_medium_RF['log'].groupby(long_medium_RF.index).sum()\n",
    "long_equity_curve['long_medium_LSTM_group'] = long_medium_LSTM['log'].groupby(long_medium_LSTM.index).sum()\n",
    "long_equity_curve['long_far_RF_group'] = long_far_RF['log'].groupby(long_far_RF.index).sum()\n",
    "long_equity_curve['long_far_LSTM_group'] = long_far_LSTM['log'].groupby(long_far_LSTM.index).sum()"
   ]
  },
  {
   "cell_type": "code",
   "execution_count": 57,
   "metadata": {},
   "outputs": [
    {
     "data": {
      "text/html": [
       "<div>\n",
       "<style scoped>\n",
       "    .dataframe tbody tr th:only-of-type {\n",
       "        vertical-align: middle;\n",
       "    }\n",
       "\n",
       "    .dataframe tbody tr th {\n",
       "        vertical-align: top;\n",
       "    }\n",
       "\n",
       "    .dataframe thead th {\n",
       "        text-align: right;\n",
       "    }\n",
       "</style>\n",
       "<table border=\"1\" class=\"dataframe\">\n",
       "  <thead>\n",
       "    <tr style=\"text-align: right;\">\n",
       "      <th></th>\n",
       "      <th>long_close_RF_group</th>\n",
       "      <th>long_close_LSTM_group</th>\n",
       "      <th>long_medium_RF_group</th>\n",
       "      <th>long_medium_LSTM_group</th>\n",
       "      <th>long_far_RF_group</th>\n",
       "      <th>long_far_LSTM_group</th>\n",
       "    </tr>\n",
       "  </thead>\n",
       "  <tbody>\n",
       "    <tr>\n",
       "      <th>2019-11-13</th>\n",
       "      <td>5.90</td>\n",
       "      <td>5.90</td>\n",
       "      <td>0.03</td>\n",
       "      <td>0.03</td>\n",
       "      <td>0.0</td>\n",
       "      <td>0.0</td>\n",
       "    </tr>\n",
       "    <tr>\n",
       "      <th>2019-11-14</th>\n",
       "      <td>12.22</td>\n",
       "      <td>12.22</td>\n",
       "      <td>-0.08</td>\n",
       "      <td>-0.08</td>\n",
       "      <td>0.0</td>\n",
       "      <td>0.0</td>\n",
       "    </tr>\n",
       "    <tr>\n",
       "      <th>2019-11-15</th>\n",
       "      <td>16.41</td>\n",
       "      <td>16.41</td>\n",
       "      <td>0.24</td>\n",
       "      <td>0.24</td>\n",
       "      <td>0.0</td>\n",
       "      <td>0.0</td>\n",
       "    </tr>\n",
       "    <tr>\n",
       "      <th>2019-11-18</th>\n",
       "      <td>23.75</td>\n",
       "      <td>16.96</td>\n",
       "      <td>0.25</td>\n",
       "      <td>0.24</td>\n",
       "      <td>0.0</td>\n",
       "      <td>0.0</td>\n",
       "    </tr>\n",
       "    <tr>\n",
       "      <th>2019-11-19</th>\n",
       "      <td>31.26</td>\n",
       "      <td>16.96</td>\n",
       "      <td>0.27</td>\n",
       "      <td>0.24</td>\n",
       "      <td>0.0</td>\n",
       "      <td>0.0</td>\n",
       "    </tr>\n",
       "    <tr>\n",
       "      <th>2019-11-20</th>\n",
       "      <td>37.41</td>\n",
       "      <td>16.96</td>\n",
       "      <td>0.30</td>\n",
       "      <td>0.24</td>\n",
       "      <td>0.0</td>\n",
       "      <td>0.0</td>\n",
       "    </tr>\n",
       "    <tr>\n",
       "      <th>2019-11-21</th>\n",
       "      <td>42.05</td>\n",
       "      <td>16.96</td>\n",
       "      <td>0.28</td>\n",
       "      <td>0.24</td>\n",
       "      <td>0.0</td>\n",
       "      <td>0.0</td>\n",
       "    </tr>\n",
       "    <tr>\n",
       "      <th>2019-11-22</th>\n",
       "      <td>44.20</td>\n",
       "      <td>16.96</td>\n",
       "      <td>0.28</td>\n",
       "      <td>0.24</td>\n",
       "      <td>0.0</td>\n",
       "      <td>0.0</td>\n",
       "    </tr>\n",
       "    <tr>\n",
       "      <th>2019-11-26</th>\n",
       "      <td>47.86</td>\n",
       "      <td>16.96</td>\n",
       "      <td>0.35</td>\n",
       "      <td>0.24</td>\n",
       "      <td>0.0</td>\n",
       "      <td>0.0</td>\n",
       "    </tr>\n",
       "    <tr>\n",
       "      <th>2019-11-27</th>\n",
       "      <td>50.05</td>\n",
       "      <td>16.96</td>\n",
       "      <td>0.41</td>\n",
       "      <td>0.24</td>\n",
       "      <td>0.0</td>\n",
       "      <td>0.0</td>\n",
       "    </tr>\n",
       "    <tr>\n",
       "      <th>2019-11-29</th>\n",
       "      <td>52.65</td>\n",
       "      <td>16.96</td>\n",
       "      <td>0.45</td>\n",
       "      <td>0.24</td>\n",
       "      <td>0.0</td>\n",
       "      <td>0.0</td>\n",
       "    </tr>\n",
       "    <tr>\n",
       "      <th>2019-12-02</th>\n",
       "      <td>63.68</td>\n",
       "      <td>16.96</td>\n",
       "      <td>0.49</td>\n",
       "      <td>0.24</td>\n",
       "      <td>0.0</td>\n",
       "      <td>0.0</td>\n",
       "    </tr>\n",
       "    <tr>\n",
       "      <th>2019-12-04</th>\n",
       "      <td>69.74</td>\n",
       "      <td>16.96</td>\n",
       "      <td>0.49</td>\n",
       "      <td>0.24</td>\n",
       "      <td>0.0</td>\n",
       "      <td>0.0</td>\n",
       "    </tr>\n",
       "    <tr>\n",
       "      <th>2019-12-09</th>\n",
       "      <td>71.38</td>\n",
       "      <td>16.96</td>\n",
       "      <td>0.49</td>\n",
       "      <td>0.24</td>\n",
       "      <td>0.0</td>\n",
       "      <td>0.0</td>\n",
       "    </tr>\n",
       "    <tr>\n",
       "      <th>2019-12-11</th>\n",
       "      <td>71.93</td>\n",
       "      <td>16.96</td>\n",
       "      <td>0.49</td>\n",
       "      <td>0.24</td>\n",
       "      <td>0.0</td>\n",
       "      <td>0.0</td>\n",
       "    </tr>\n",
       "    <tr>\n",
       "      <th>2019-12-12</th>\n",
       "      <td>72.93</td>\n",
       "      <td>17.96</td>\n",
       "      <td>0.49</td>\n",
       "      <td>0.24</td>\n",
       "      <td>0.0</td>\n",
       "      <td>0.0</td>\n",
       "    </tr>\n",
       "    <tr>\n",
       "      <th>2019-12-13</th>\n",
       "      <td>72.93</td>\n",
       "      <td>17.96</td>\n",
       "      <td>0.49</td>\n",
       "      <td>0.24</td>\n",
       "      <td>0.0</td>\n",
       "      <td>0.0</td>\n",
       "    </tr>\n",
       "    <tr>\n",
       "      <th>2019-12-16</th>\n",
       "      <td>72.93</td>\n",
       "      <td>17.96</td>\n",
       "      <td>0.49</td>\n",
       "      <td>0.24</td>\n",
       "      <td>0.0</td>\n",
       "      <td>0.0</td>\n",
       "    </tr>\n",
       "    <tr>\n",
       "      <th>2019-12-17</th>\n",
       "      <td>72.93</td>\n",
       "      <td>17.96</td>\n",
       "      <td>0.49</td>\n",
       "      <td>0.24</td>\n",
       "      <td>0.0</td>\n",
       "      <td>0.0</td>\n",
       "    </tr>\n",
       "    <tr>\n",
       "      <th>2019-12-18</th>\n",
       "      <td>72.93</td>\n",
       "      <td>17.96</td>\n",
       "      <td>0.49</td>\n",
       "      <td>0.24</td>\n",
       "      <td>0.0</td>\n",
       "      <td>0.0</td>\n",
       "    </tr>\n",
       "  </tbody>\n",
       "</table>\n",
       "</div>"
      ],
      "text/plain": [
       "            long_close_RF_group  long_close_LSTM_group  long_medium_RF_group  \\\n",
       "2019-11-13                 5.90                   5.90                  0.03   \n",
       "2019-11-14                12.22                  12.22                 -0.08   \n",
       "2019-11-15                16.41                  16.41                  0.24   \n",
       "2019-11-18                23.75                  16.96                  0.25   \n",
       "2019-11-19                31.26                  16.96                  0.27   \n",
       "2019-11-20                37.41                  16.96                  0.30   \n",
       "2019-11-21                42.05                  16.96                  0.28   \n",
       "2019-11-22                44.20                  16.96                  0.28   \n",
       "2019-11-26                47.86                  16.96                  0.35   \n",
       "2019-11-27                50.05                  16.96                  0.41   \n",
       "2019-11-29                52.65                  16.96                  0.45   \n",
       "2019-12-02                63.68                  16.96                  0.49   \n",
       "2019-12-04                69.74                  16.96                  0.49   \n",
       "2019-12-09                71.38                  16.96                  0.49   \n",
       "2019-12-11                71.93                  16.96                  0.49   \n",
       "2019-12-12                72.93                  17.96                  0.49   \n",
       "2019-12-13                72.93                  17.96                  0.49   \n",
       "2019-12-16                72.93                  17.96                  0.49   \n",
       "2019-12-17                72.93                  17.96                  0.49   \n",
       "2019-12-18                72.93                  17.96                  0.49   \n",
       "\n",
       "            long_medium_LSTM_group  long_far_RF_group  long_far_LSTM_group  \n",
       "2019-11-13                    0.03                0.0                  0.0  \n",
       "2019-11-14                   -0.08                0.0                  0.0  \n",
       "2019-11-15                    0.24                0.0                  0.0  \n",
       "2019-11-18                    0.24                0.0                  0.0  \n",
       "2019-11-19                    0.24                0.0                  0.0  \n",
       "2019-11-20                    0.24                0.0                  0.0  \n",
       "2019-11-21                    0.24                0.0                  0.0  \n",
       "2019-11-22                    0.24                0.0                  0.0  \n",
       "2019-11-26                    0.24                0.0                  0.0  \n",
       "2019-11-27                    0.24                0.0                  0.0  \n",
       "2019-11-29                    0.24                0.0                  0.0  \n",
       "2019-12-02                    0.24                0.0                  0.0  \n",
       "2019-12-04                    0.24                0.0                  0.0  \n",
       "2019-12-09                    0.24                0.0                  0.0  \n",
       "2019-12-11                    0.24                0.0                  0.0  \n",
       "2019-12-12                    0.24                0.0                  0.0  \n",
       "2019-12-13                    0.24                0.0                  0.0  \n",
       "2019-12-16                    0.24                0.0                  0.0  \n",
       "2019-12-17                    0.24                0.0                  0.0  \n",
       "2019-12-18                    0.24                0.0                  0.0  "
      ]
     },
     "execution_count": 57,
     "metadata": {},
     "output_type": "execute_result"
    }
   ],
   "source": [
    "long_equity_curve = long_equity_curve.cumsum()\n",
    "long_equity_curve = long_equity_curve.fillna(method = 'backfill' )\n",
    "long_equity_curve"
   ]
  },
  {
   "cell_type": "code",
   "execution_count": 69,
   "metadata": {},
   "outputs": [
    {
     "data": {
      "image/png": "[encoded data removed]",
      "text/plain": [
       "<Figure size 1440x720 with 1 Axes>"
      ]
     },
     "metadata": {
      "needs_background": "light"
     },
     "output_type": "display_data"
    }
   ],
   "source": [
    "le = long_equity_curve.plot(kind ='line', figsize = (20,10), title =\"BiWeekly Close Position Equity Curve\").get_figure()"
   ]
  },
  {
   "cell_type": "code",
   "execution_count": 71,
   "metadata": {},
   "outputs": [],
   "source": [
    "le.savefig('msft_long_equity_curve')"
   ]
  },
  {
   "cell_type": "code",
   "execution_count": 59,
   "metadata": {},
   "outputs": [
    {
     "name": "stdout",
     "output_type": "stream",
     "text": [
      "the biggest loses were 26.919999999999998\n"
     ]
    }
   ],
   "source": [
    "print(f'the biggest loses were', short_close_RF_total)"
   ]
  },
  {
   "cell_type": "code",
   "execution_count": 60,
   "metadata": {},
   "outputs": [
    {
     "name": "stdout",
     "output_type": "stream",
     "text": [
      "Selling options expiring in a week and close to the money,\n",
      " RF generated: 26.919999999999998 \n",
      " LSTM generated: 8.080000000000002\n",
      "\n",
      "Selling options expiring in a week and slightly out to the money,\n",
      " RF generated: 0.010000000000000009 \n",
      " LSTM generated: -0.019999999999999907\n",
      "\n",
      "Selling options expiring in a week and far out to the money,\n",
      " RF generated: 0.0 \n",
      " LSTM generated: 0.0\n"
     ]
    }
   ],
   "source": [
    "print('Selling options expiring in a week and close to the money,\\n RF generated:', short_close_RF_total, '\\n LSTM generated:', short_close_LSTM_total)\n",
    "print('\\nSelling options expiring in a week and slightly out to the money,\\n RF generated:', short_medium_RF_total, '\\n LSTM generated:', short_medium_LSTM_total)\n",
    "print('\\nSelling options expiring in a week and far out to the money,\\n RF generated:', short_far_RF_total, '\\n LSTM generated:', short_far_LSTM_total)\n"
   ]
  },
  {
   "cell_type": "code",
   "execution_count": 61,
   "metadata": {},
   "outputs": [
    {
     "name": "stdout",
     "output_type": "stream",
     "text": [
      "Selling options expiring in a two weeks and close to the money,\n",
      " RF generated: 72.93 \n",
      " LSTM generated: 17.96\n",
      "\n",
      "Selling options expiring in two weeks and slightly out to the money,\n",
      " RF generated: 0.4900000000000001 \n",
      " LSTM generated: 0.24000000000000007\n",
      "\n",
      "Selling options expiring in two weeks and far out to the money,\n",
      " RF generated: 0.0 \n",
      " LSTM generated: 0.0\n"
     ]
    }
   ],
   "source": [
    "print('Selling options expiring in a two weeks and close to the money,\\n RF generated:', long_close_RF_total, '\\n LSTM generated:', long_close_LSTM_total)\n",
    "print('\\nSelling options expiring in two weeks and slightly out to the money,\\n RF generated:', long_medium_RF_total, '\\n LSTM generated:', long_medium_LSTM_total)\n",
    "print('\\nSelling options expiring in two weeks and far out to the money,\\n RF generated:', long_far_RF_total, '\\n LSTM generated:', long_far_LSTM_total)\n"
   ]
  },
  {
   "cell_type": "code",
   "execution_count": 72,
   "metadata": {},
   "outputs": [],
   "source": [
    "merged = short_equity_curve.merge(long_equity_curve, left_index = True, right_index =True)"
   ]
  },
  {
   "cell_type": "code",
   "execution_count": 75,
   "metadata": {},
   "outputs": [
    {
     "data": {
      "text/plain": [
       "<AxesSubplot:>"
      ]
     },
     "execution_count": 75,
     "metadata": {},
     "output_type": "execute_result"
    },
    {
     "data": {
      "image/png": "[encoded data removed]",
      "text/plain": [
       "<Figure size 1440x720 with 1 Axes>"
      ]
     },
     "metadata": {
      "needs_background": "light"
     },
     "output_type": "display_data"
    }
   ],
   "source": [
    "merged.plot(logy=True, figsize = (20,10))"
   ]
  },
  {
   "cell_type": "code",
   "execution_count": 79,
   "metadata": {},
   "outputs": [
    {
     "name": "stdout",
     "output_type": "stream",
     "text": [
      "Short window max DD -0.33999999999999997\n",
      "Long window max DD -0.07999999999999996\n"
     ]
    }
   ],
   "source": [
    "#max DD calculation\n",
    "maxDDLE = 0\n",
    "\n",
    "for (columnName, columnData) in long_equity_curve.iteritems():\n",
    "    for x in columnData:\n",
    "        if x < maxDDLE:\n",
    "            maxDDLE = x\n",
    "\n",
    "maxDDSE = 0\n",
    "\n",
    "for (columnName, columnData) in short_equity_curve.iteritems():\n",
    "    for x in columnData:\n",
    "        if x < maxDDSE:\n",
    "            maxDDSE = x\n",
    "            \n",
    "print(f'Short window max DD {maxDDSE}')            \n",
    "print(f'Long window max DD {maxDDLE}')"
   ]
  },
  {
   "cell_type": "code",
   "execution_count": null,
   "metadata": {},
   "outputs": [],
   "source": []
  }
 ],
 "metadata": {
  "kernelspec": {
   "display_name": "Python 3",
   "language": "python",
   "name": "python3"
  },
  "language_info": {
   "codemirror_mode": {
    "name": "ipython",
    "version": 3
   },
   "file_extension": ".py",
   "mimetype": "text/x-python",
   "name": "python",
   "nbconvert_exporter": "python",
   "pygments_lexer": "ipython3",
   "version": "3.8.5"
  }
 },
 "nbformat": 4,
 "nbformat_minor": 4
}
