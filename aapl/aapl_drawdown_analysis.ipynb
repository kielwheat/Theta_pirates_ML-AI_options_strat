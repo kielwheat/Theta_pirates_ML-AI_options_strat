{
 "cells": [
  {
   "cell_type": "code",
   "execution_count": 1,
   "metadata": {},
   "outputs": [],
   "source": [
    "import pandas as pd\n",
    "import numpy as np\n",
    "import datetime as dt\n",
    "from pathlib import Path\n",
    "from datetime import datetime, timedelta\n",
    "import matplotlib.pyplot as plt\n",
    "%matplotlib inline\n"
   ]
  },
  {
   "cell_type": "code",
   "execution_count": 2,
   "metadata": {},
   "outputs": [],
   "source": [
    "aapl_df = pd.read_pickle('aapl_merged.pickle')"
   ]
  },
  {
   "cell_type": "code",
   "execution_count": 3,
   "metadata": {},
   "outputs": [],
   "source": [
    "df = aapl_df\n",
    "df = df.drop(columns= ['LastPrice', 'Symbol', 'Volume', 'OpenInterest', 'Volume'])\n",
    "\n"
   ]
  },
  {
   "cell_type": "code",
   "execution_count": 4,
   "metadata": {},
   "outputs": [],
   "source": [
    "df['ExpirationDate'] =  pd.to_datetime(df['ExpirationDate'], infer_datetime_format=True)\n",
    "df['DataDate'] =  pd.to_datetime(df['DataDate'], infer_datetime_format=True)\n",
    "df['delta'] = df['ExpirationDate'] - df['DataDate']\n",
    "\n",
    "df['exp?'] =df['ExpirationDate'] ==df['DataDate']\n",
    "df['long_close'] = ((df['delta'] < np.timedelta64(14, 'D')) & (df['% out'] > -.1) & (df['% out'] < 0))\n",
    "df['long_medium'] = ((df['delta'] < np.timedelta64(14, 'D')) & (df['% out'] > -.2) & (df['% out'] < -.1))\n",
    "df['long_far'] = ((df['delta'] < np.timedelta64(14, 'D')) & (df['% out'] > -.3) & (df['% out'] < -.2))\n",
    "df['short_close'] = ((df['delta'] < np.timedelta64(8, 'D')) & (df['% out'] > -.1) & (df['% out'] < 0))\n",
    "df['short_medium'] = ((df['delta'] < np.timedelta64(8, 'D')) & (df['% out'] > -.2) & (df['% out'] < -.1))\n",
    "df['short_far'] = ((df['delta'] < np.timedelta64(8, 'D')) & (df['% out'] > -.3) & (df['% out'] < -.2))\n",
    "\n",
    "pd.set_option('display.max_columns', 30)"
   ]
  },
  {
   "cell_type": "code",
   "execution_count": 5,
   "metadata": {},
   "outputs": [
    {
     "data": {
      "text/plain": [
       "680"
      ]
     },
     "execution_count": 5,
     "metadata": {},
     "output_type": "execute_result"
    }
   ],
   "source": [
    "df_table=df.loc[:, ['OptionKey', 'BidPrice']]\n",
    "df_table=df_table.reset_index()\n",
    "df_table.columns=['PriceDate', 'OptionKey', 'RebuyPrice']\n",
    "df_table['RebuyPrice'].nunique()"
   ]
  },
  {
   "cell_type": "code",
   "execution_count": 6,
   "metadata": {},
   "outputs": [
    {
     "data": {
      "text/html": [
       "<div>\n",
       "<style scoped>\n",
       "    .dataframe tbody tr th:only-of-type {\n",
       "        vertical-align: middle;\n",
       "    }\n",
       "\n",
       "    .dataframe tbody tr th {\n",
       "        vertical-align: top;\n",
       "    }\n",
       "\n",
       "    .dataframe thead th {\n",
       "        text-align: right;\n",
       "    }\n",
       "</style>\n",
       "<table border=\"1\" class=\"dataframe\">\n",
       "  <thead>\n",
       "    <tr style=\"text-align: right;\">\n",
       "      <th></th>\n",
       "      <th>OptionKey</th>\n",
       "      <th>xp</th>\n",
       "    </tr>\n",
       "  </thead>\n",
       "  <tbody>\n",
       "    <tr>\n",
       "      <th>2019-11-15</th>\n",
       "      <td>AAPL2019-11-15P185.00</td>\n",
       "      <td>0.01</td>\n",
       "    </tr>\n",
       "    <tr>\n",
       "      <th>2019-11-15</th>\n",
       "      <td>AAPL2019-11-15P200.00</td>\n",
       "      <td>0.01</td>\n",
       "    </tr>\n",
       "    <tr>\n",
       "      <th>2019-11-15</th>\n",
       "      <td>AAPL2019-11-15P205.00</td>\n",
       "      <td>0.01</td>\n",
       "    </tr>\n",
       "    <tr>\n",
       "      <th>2019-11-15</th>\n",
       "      <td>AAPL2019-11-15P210.00</td>\n",
       "      <td>0.01</td>\n",
       "    </tr>\n",
       "    <tr>\n",
       "      <th>2019-11-15</th>\n",
       "      <td>AAPL2019-11-15P215.00</td>\n",
       "      <td>0.01</td>\n",
       "    </tr>\n",
       "    <tr>\n",
       "      <th>...</th>\n",
       "      <td>...</td>\n",
       "      <td>...</td>\n",
       "    </tr>\n",
       "    <tr>\n",
       "      <th>2019-12-13</th>\n",
       "      <td>AAPL2019-12-13P277.50</td>\n",
       "      <td>3.50</td>\n",
       "    </tr>\n",
       "    <tr>\n",
       "      <th>2019-12-13</th>\n",
       "      <td>AAPL2019-12-13P280.00</td>\n",
       "      <td>6.85</td>\n",
       "    </tr>\n",
       "    <tr>\n",
       "      <th>2019-12-13</th>\n",
       "      <td>AAPL2019-12-13P282.50</td>\n",
       "      <td>9.35</td>\n",
       "    </tr>\n",
       "    <tr>\n",
       "      <th>2019-12-13</th>\n",
       "      <td>AAPL2019-12-13P285.00</td>\n",
       "      <td>11.85</td>\n",
       "    </tr>\n",
       "    <tr>\n",
       "      <th>2019-12-13</th>\n",
       "      <td>AAPL2019-12-13P290.00</td>\n",
       "      <td>16.55</td>\n",
       "    </tr>\n",
       "  </tbody>\n",
       "</table>\n",
       "<p>122 rows × 2 columns</p>\n",
       "</div>"
      ],
      "text/plain": [
       "                        OptionKey     xp\n",
       "2019-11-15  AAPL2019-11-15P185.00   0.01\n",
       "2019-11-15  AAPL2019-11-15P200.00   0.01\n",
       "2019-11-15  AAPL2019-11-15P205.00   0.01\n",
       "2019-11-15  AAPL2019-11-15P210.00   0.01\n",
       "2019-11-15  AAPL2019-11-15P215.00   0.01\n",
       "...                           ...    ...\n",
       "2019-12-13  AAPL2019-12-13P277.50   3.50\n",
       "2019-12-13  AAPL2019-12-13P280.00   6.85\n",
       "2019-12-13  AAPL2019-12-13P282.50   9.35\n",
       "2019-12-13  AAPL2019-12-13P285.00  11.85\n",
       "2019-12-13  AAPL2019-12-13P290.00  16.55\n",
       "\n",
       "[122 rows x 2 columns]"
      ]
     },
     "execution_count": 6,
     "metadata": {},
     "output_type": "execute_result"
    }
   ],
   "source": [
    "xp = df\n",
    "xp.loc[xp['exp?']== True, 'xp' ] = xp.loc[df['exp?'] == True, 'AskPrice']\n",
    "xp = xp.loc[xp['exp?']== True]\n",
    "xp= xp[['OptionKey', 'xp']]\n",
    "xp"
   ]
  },
  {
   "cell_type": "code",
   "execution_count": 7,
   "metadata": {},
   "outputs": [
    {
     "data": {
      "text/html": [
       "<div>\n",
       "<style scoped>\n",
       "    .dataframe tbody tr th:only-of-type {\n",
       "        vertical-align: middle;\n",
       "    }\n",
       "\n",
       "    .dataframe tbody tr th {\n",
       "        vertical-align: top;\n",
       "    }\n",
       "\n",
       "    .dataframe thead th {\n",
       "        text-align: right;\n",
       "    }\n",
       "</style>\n",
       "<table border=\"1\" class=\"dataframe\">\n",
       "  <thead>\n",
       "    <tr style=\"text-align: right;\">\n",
       "      <th></th>\n",
       "      <th>OptionKey</th>\n",
       "      <th>ExpirationDate</th>\n",
       "      <th>AskPrice</th>\n",
       "      <th>BidPrice</th>\n",
       "      <th>PutCall</th>\n",
       "      <th>StrikePrice</th>\n",
       "      <th>UnderlyingPrice</th>\n",
       "      <th>DataDate</th>\n",
       "      <th>time delta</th>\n",
       "      <th>% out</th>\n",
       "      <th>LSTM Predicted Signal</th>\n",
       "      <th>RF Predicted Value</th>\n",
       "      <th>LSTM OTM Cr Entry</th>\n",
       "      <th>RF OTM Cr Entry</th>\n",
       "      <th>Bid Price</th>\n",
       "      <th>delta</th>\n",
       "      <th>exp?</th>\n",
       "      <th>long_close</th>\n",
       "      <th>long_medium</th>\n",
       "      <th>long_far</th>\n",
       "      <th>short_close</th>\n",
       "      <th>short_medium</th>\n",
       "      <th>short_far</th>\n",
       "      <th>xp</th>\n",
       "    </tr>\n",
       "  </thead>\n",
       "  <tbody>\n",
       "    <tr>\n",
       "      <th>2019-11-13</th>\n",
       "      <td>AAPL2019-11-15P170.00</td>\n",
       "      <td>2019-11-15</td>\n",
       "      <td>0.01</td>\n",
       "      <td>0.00</td>\n",
       "      <td>put</td>\n",
       "      <td>170.0</td>\n",
       "      <td>264.47</td>\n",
       "      <td>2019-11-13</td>\n",
       "      <td>2 days</td>\n",
       "      <td>-0.357205</td>\n",
       "      <td>1</td>\n",
       "      <td>0</td>\n",
       "      <td>0.0</td>\n",
       "      <td>0.0</td>\n",
       "      <td>0.0</td>\n",
       "      <td>2 days</td>\n",
       "      <td>False</td>\n",
       "      <td>False</td>\n",
       "      <td>False</td>\n",
       "      <td>False</td>\n",
       "      <td>False</td>\n",
       "      <td>False</td>\n",
       "      <td>False</td>\n",
       "      <td>NaN</td>\n",
       "    </tr>\n",
       "    <tr>\n",
       "      <th>2019-11-14</th>\n",
       "      <td>AAPL2019-11-15P175.00</td>\n",
       "      <td>2019-11-15</td>\n",
       "      <td>0.01</td>\n",
       "      <td>0.00</td>\n",
       "      <td>put</td>\n",
       "      <td>175.0</td>\n",
       "      <td>262.64</td>\n",
       "      <td>2019-11-14</td>\n",
       "      <td>1 days</td>\n",
       "      <td>-0.333689</td>\n",
       "      <td>1</td>\n",
       "      <td>1</td>\n",
       "      <td>0.0</td>\n",
       "      <td>0.0</td>\n",
       "      <td>0.0</td>\n",
       "      <td>1 days</td>\n",
       "      <td>False</td>\n",
       "      <td>False</td>\n",
       "      <td>False</td>\n",
       "      <td>False</td>\n",
       "      <td>False</td>\n",
       "      <td>False</td>\n",
       "      <td>False</td>\n",
       "      <td>NaN</td>\n",
       "    </tr>\n",
       "    <tr>\n",
       "      <th>2019-11-13</th>\n",
       "      <td>AAPL2019-11-15P185.00</td>\n",
       "      <td>2019-11-15</td>\n",
       "      <td>0.01</td>\n",
       "      <td>0.00</td>\n",
       "      <td>put</td>\n",
       "      <td>185.0</td>\n",
       "      <td>264.47</td>\n",
       "      <td>2019-11-13</td>\n",
       "      <td>2 days</td>\n",
       "      <td>-0.300488</td>\n",
       "      <td>1</td>\n",
       "      <td>0</td>\n",
       "      <td>0.0</td>\n",
       "      <td>0.0</td>\n",
       "      <td>0.0</td>\n",
       "      <td>2 days</td>\n",
       "      <td>False</td>\n",
       "      <td>False</td>\n",
       "      <td>False</td>\n",
       "      <td>False</td>\n",
       "      <td>False</td>\n",
       "      <td>False</td>\n",
       "      <td>False</td>\n",
       "      <td>0.01</td>\n",
       "    </tr>\n",
       "    <tr>\n",
       "      <th>2019-11-15</th>\n",
       "      <td>AAPL2019-11-15P185.00</td>\n",
       "      <td>2019-11-15</td>\n",
       "      <td>0.01</td>\n",
       "      <td>0.00</td>\n",
       "      <td>put</td>\n",
       "      <td>185.0</td>\n",
       "      <td>265.76</td>\n",
       "      <td>2019-11-15</td>\n",
       "      <td>0 days</td>\n",
       "      <td>-0.303883</td>\n",
       "      <td>1</td>\n",
       "      <td>0</td>\n",
       "      <td>0.0</td>\n",
       "      <td>0.0</td>\n",
       "      <td>0.0</td>\n",
       "      <td>0 days</td>\n",
       "      <td>True</td>\n",
       "      <td>False</td>\n",
       "      <td>False</td>\n",
       "      <td>False</td>\n",
       "      <td>False</td>\n",
       "      <td>False</td>\n",
       "      <td>False</td>\n",
       "      <td>0.01</td>\n",
       "    </tr>\n",
       "    <tr>\n",
       "      <th>2019-11-14</th>\n",
       "      <td>AAPL2019-11-15P190.00</td>\n",
       "      <td>2019-11-15</td>\n",
       "      <td>0.01</td>\n",
       "      <td>0.00</td>\n",
       "      <td>put</td>\n",
       "      <td>190.0</td>\n",
       "      <td>262.64</td>\n",
       "      <td>2019-11-14</td>\n",
       "      <td>1 days</td>\n",
       "      <td>-0.276576</td>\n",
       "      <td>1</td>\n",
       "      <td>1</td>\n",
       "      <td>0.0</td>\n",
       "      <td>0.0</td>\n",
       "      <td>0.0</td>\n",
       "      <td>1 days</td>\n",
       "      <td>False</td>\n",
       "      <td>False</td>\n",
       "      <td>False</td>\n",
       "      <td>True</td>\n",
       "      <td>False</td>\n",
       "      <td>False</td>\n",
       "      <td>True</td>\n",
       "      <td>NaN</td>\n",
       "    </tr>\n",
       "    <tr>\n",
       "      <th>...</th>\n",
       "      <td>...</td>\n",
       "      <td>...</td>\n",
       "      <td>...</td>\n",
       "      <td>...</td>\n",
       "      <td>...</td>\n",
       "      <td>...</td>\n",
       "      <td>...</td>\n",
       "      <td>...</td>\n",
       "      <td>...</td>\n",
       "      <td>...</td>\n",
       "      <td>...</td>\n",
       "      <td>...</td>\n",
       "      <td>...</td>\n",
       "      <td>...</td>\n",
       "      <td>...</td>\n",
       "      <td>...</td>\n",
       "      <td>...</td>\n",
       "      <td>...</td>\n",
       "      <td>...</td>\n",
       "      <td>...</td>\n",
       "      <td>...</td>\n",
       "      <td>...</td>\n",
       "      <td>...</td>\n",
       "      <td>...</td>\n",
       "    </tr>\n",
       "    <tr>\n",
       "      <th>2019-12-16</th>\n",
       "      <td>AAPL2019-12-27P305.00</td>\n",
       "      <td>2019-12-27</td>\n",
       "      <td>27.15</td>\n",
       "      <td>23.05</td>\n",
       "      <td>put</td>\n",
       "      <td>305.0</td>\n",
       "      <td>279.86</td>\n",
       "      <td>2019-12-16</td>\n",
       "      <td>11 days</td>\n",
       "      <td>0.089831</td>\n",
       "      <td>1</td>\n",
       "      <td>1</td>\n",
       "      <td>2715.0</td>\n",
       "      <td>2715.0</td>\n",
       "      <td>2305.0</td>\n",
       "      <td>11 days</td>\n",
       "      <td>False</td>\n",
       "      <td>False</td>\n",
       "      <td>False</td>\n",
       "      <td>False</td>\n",
       "      <td>False</td>\n",
       "      <td>False</td>\n",
       "      <td>False</td>\n",
       "      <td>NaN</td>\n",
       "    </tr>\n",
       "    <tr>\n",
       "      <th>2019-11-19</th>\n",
       "      <td>AAPL2019-12-27P310.00</td>\n",
       "      <td>2019-12-27</td>\n",
       "      <td>45.80</td>\n",
       "      <td>41.80</td>\n",
       "      <td>put</td>\n",
       "      <td>310.0</td>\n",
       "      <td>266.29</td>\n",
       "      <td>2019-11-19</td>\n",
       "      <td>38 days</td>\n",
       "      <td>0.164144</td>\n",
       "      <td>1</td>\n",
       "      <td>0</td>\n",
       "      <td>4580.0</td>\n",
       "      <td>0.0</td>\n",
       "      <td>4180.0</td>\n",
       "      <td>38 days</td>\n",
       "      <td>False</td>\n",
       "      <td>False</td>\n",
       "      <td>False</td>\n",
       "      <td>False</td>\n",
       "      <td>False</td>\n",
       "      <td>False</td>\n",
       "      <td>False</td>\n",
       "      <td>NaN</td>\n",
       "    </tr>\n",
       "    <tr>\n",
       "      <th>2019-12-16</th>\n",
       "      <td>AAPL2019-12-27P310.00</td>\n",
       "      <td>2019-12-27</td>\n",
       "      <td>30.75</td>\n",
       "      <td>29.60</td>\n",
       "      <td>put</td>\n",
       "      <td>310.0</td>\n",
       "      <td>279.86</td>\n",
       "      <td>2019-12-16</td>\n",
       "      <td>11 days</td>\n",
       "      <td>0.107697</td>\n",
       "      <td>1</td>\n",
       "      <td>1</td>\n",
       "      <td>3075.0</td>\n",
       "      <td>3075.0</td>\n",
       "      <td>2960.0</td>\n",
       "      <td>11 days</td>\n",
       "      <td>False</td>\n",
       "      <td>False</td>\n",
       "      <td>False</td>\n",
       "      <td>False</td>\n",
       "      <td>False</td>\n",
       "      <td>False</td>\n",
       "      <td>False</td>\n",
       "      <td>NaN</td>\n",
       "    </tr>\n",
       "    <tr>\n",
       "      <th>2019-12-17</th>\n",
       "      <td>AAPL2019-12-27P320.00</td>\n",
       "      <td>2019-12-27</td>\n",
       "      <td>41.55</td>\n",
       "      <td>37.80</td>\n",
       "      <td>put</td>\n",
       "      <td>320.0</td>\n",
       "      <td>280.41</td>\n",
       "      <td>2019-12-17</td>\n",
       "      <td>10 days</td>\n",
       "      <td>0.141186</td>\n",
       "      <td>1</td>\n",
       "      <td>0</td>\n",
       "      <td>4155.0</td>\n",
       "      <td>0.0</td>\n",
       "      <td>3780.0</td>\n",
       "      <td>10 days</td>\n",
       "      <td>False</td>\n",
       "      <td>False</td>\n",
       "      <td>False</td>\n",
       "      <td>False</td>\n",
       "      <td>False</td>\n",
       "      <td>False</td>\n",
       "      <td>False</td>\n",
       "      <td>NaN</td>\n",
       "    </tr>\n",
       "    <tr>\n",
       "      <th>2019-12-17</th>\n",
       "      <td>AAPL2019-12-27P325.00</td>\n",
       "      <td>2019-12-27</td>\n",
       "      <td>46.55</td>\n",
       "      <td>42.70</td>\n",
       "      <td>put</td>\n",
       "      <td>325.0</td>\n",
       "      <td>280.41</td>\n",
       "      <td>2019-12-17</td>\n",
       "      <td>10 days</td>\n",
       "      <td>0.159017</td>\n",
       "      <td>1</td>\n",
       "      <td>0</td>\n",
       "      <td>4655.0</td>\n",
       "      <td>0.0</td>\n",
       "      <td>4270.0</td>\n",
       "      <td>10 days</td>\n",
       "      <td>False</td>\n",
       "      <td>False</td>\n",
       "      <td>False</td>\n",
       "      <td>False</td>\n",
       "      <td>False</td>\n",
       "      <td>False</td>\n",
       "      <td>False</td>\n",
       "      <td>NaN</td>\n",
       "    </tr>\n",
       "  </tbody>\n",
       "</table>\n",
       "<p>3675 rows × 24 columns</p>\n",
       "</div>"
      ],
      "text/plain": [
       "                        OptionKey ExpirationDate  AskPrice  BidPrice PutCall  \\\n",
       "2019-11-13  AAPL2019-11-15P170.00     2019-11-15      0.01      0.00     put   \n",
       "2019-11-14  AAPL2019-11-15P175.00     2019-11-15      0.01      0.00     put   \n",
       "2019-11-13  AAPL2019-11-15P185.00     2019-11-15      0.01      0.00     put   \n",
       "2019-11-15  AAPL2019-11-15P185.00     2019-11-15      0.01      0.00     put   \n",
       "2019-11-14  AAPL2019-11-15P190.00     2019-11-15      0.01      0.00     put   \n",
       "...                           ...            ...       ...       ...     ...   \n",
       "2019-12-16  AAPL2019-12-27P305.00     2019-12-27     27.15     23.05     put   \n",
       "2019-11-19  AAPL2019-12-27P310.00     2019-12-27     45.80     41.80     put   \n",
       "2019-12-16  AAPL2019-12-27P310.00     2019-12-27     30.75     29.60     put   \n",
       "2019-12-17  AAPL2019-12-27P320.00     2019-12-27     41.55     37.80     put   \n",
       "2019-12-17  AAPL2019-12-27P325.00     2019-12-27     46.55     42.70     put   \n",
       "\n",
       "            StrikePrice  UnderlyingPrice   DataDate time delta     % out  \\\n",
       "2019-11-13        170.0           264.47 2019-11-13     2 days -0.357205   \n",
       "2019-11-14        175.0           262.64 2019-11-14     1 days -0.333689   \n",
       "2019-11-13        185.0           264.47 2019-11-13     2 days -0.300488   \n",
       "2019-11-15        185.0           265.76 2019-11-15     0 days -0.303883   \n",
       "2019-11-14        190.0           262.64 2019-11-14     1 days -0.276576   \n",
       "...                 ...              ...        ...        ...       ...   \n",
       "2019-12-16        305.0           279.86 2019-12-16    11 days  0.089831   \n",
       "2019-11-19        310.0           266.29 2019-11-19    38 days  0.164144   \n",
       "2019-12-16        310.0           279.86 2019-12-16    11 days  0.107697   \n",
       "2019-12-17        320.0           280.41 2019-12-17    10 days  0.141186   \n",
       "2019-12-17        325.0           280.41 2019-12-17    10 days  0.159017   \n",
       "\n",
       "            LSTM Predicted Signal  RF Predicted Value  LSTM OTM Cr Entry  \\\n",
       "2019-11-13                      1                   0                0.0   \n",
       "2019-11-14                      1                   1                0.0   \n",
       "2019-11-13                      1                   0                0.0   \n",
       "2019-11-15                      1                   0                0.0   \n",
       "2019-11-14                      1                   1                0.0   \n",
       "...                           ...                 ...                ...   \n",
       "2019-12-16                      1                   1             2715.0   \n",
       "2019-11-19                      1                   0             4580.0   \n",
       "2019-12-16                      1                   1             3075.0   \n",
       "2019-12-17                      1                   0             4155.0   \n",
       "2019-12-17                      1                   0             4655.0   \n",
       "\n",
       "            RF OTM Cr Entry  Bid Price   delta   exp?  long_close  \\\n",
       "2019-11-13              0.0        0.0  2 days  False       False   \n",
       "2019-11-14              0.0        0.0  1 days  False       False   \n",
       "2019-11-13              0.0        0.0  2 days  False       False   \n",
       "2019-11-15              0.0        0.0  0 days   True       False   \n",
       "2019-11-14              0.0        0.0  1 days  False       False   \n",
       "...                     ...        ...     ...    ...         ...   \n",
       "2019-12-16           2715.0     2305.0 11 days  False       False   \n",
       "2019-11-19              0.0     4180.0 38 days  False       False   \n",
       "2019-12-16           3075.0     2960.0 11 days  False       False   \n",
       "2019-12-17              0.0     3780.0 10 days  False       False   \n",
       "2019-12-17              0.0     4270.0 10 days  False       False   \n",
       "\n",
       "            long_medium  long_far  short_close  short_medium  short_far    xp  \n",
       "2019-11-13        False     False        False         False      False   NaN  \n",
       "2019-11-14        False     False        False         False      False   NaN  \n",
       "2019-11-13        False     False        False         False      False  0.01  \n",
       "2019-11-15        False     False        False         False      False  0.01  \n",
       "2019-11-14        False      True        False         False       True   NaN  \n",
       "...                 ...       ...          ...           ...        ...   ...  \n",
       "2019-12-16        False     False        False         False      False   NaN  \n",
       "2019-11-19        False     False        False         False      False   NaN  \n",
       "2019-12-16        False     False        False         False      False   NaN  \n",
       "2019-12-17        False     False        False         False      False   NaN  \n",
       "2019-12-17        False     False        False         False      False   NaN  \n",
       "\n",
       "[3675 rows x 24 columns]"
      ]
     },
     "execution_count": 7,
     "metadata": {},
     "output_type": "execute_result"
    }
   ],
   "source": [
    "df['xp']=df.OptionKey.map(xp.set_index('OptionKey')['xp'])\n",
    "df"
   ]
  },
  {
   "cell_type": "code",
   "execution_count": 8,
   "metadata": {},
   "outputs": [
    {
     "name": "stdout",
     "output_type": "stream",
     "text": [
      "29.54\n"
     ]
    },
    {
     "name": "stderr",
     "output_type": "stream",
     "text": [
      "<ipython-input-8-1d9b8a5588f6>:2: SettingWithCopyWarning: \n",
      "A value is trying to be set on a copy of a slice from a DataFrame.\n",
      "Try using .loc[row_indexer,col_indexer] = value instead\n",
      "\n",
      "See the caveats in the documentation: https://pandas.pydata.org/pandas-docs/stable/user_guide/indexing.html#returning-a-view-versus-a-copy\n",
      "  short_close_LSTM['log'] = short_close_LSTM['AskPrice'] - short_close_LSTM['xp']\n"
     ]
    }
   ],
   "source": [
    "short_close_LSTM = df.loc[(df['short_close']== True) & (df['LSTM Predicted Signal'] == 1)]\n",
    "short_close_LSTM['log'] = short_close_LSTM['AskPrice'] - short_close_LSTM['xp']\n",
    "short_close_LSTM_total = short_close_LSTM['log'].sum()\n",
    "print(short_close_LSTM_total)"
   ]
  },
  {
   "cell_type": "code",
   "execution_count": 9,
   "metadata": {},
   "outputs": [
    {
     "name": "stdout",
     "output_type": "stream",
     "text": [
      "19.859999999999996\n"
     ]
    },
    {
     "name": "stderr",
     "output_type": "stream",
     "text": [
      "<ipython-input-9-26e370e263bb>:2: SettingWithCopyWarning: \n",
      "A value is trying to be set on a copy of a slice from a DataFrame.\n",
      "Try using .loc[row_indexer,col_indexer] = value instead\n",
      "\n",
      "See the caveats in the documentation: https://pandas.pydata.org/pandas-docs/stable/user_guide/indexing.html#returning-a-view-versus-a-copy\n",
      "  short_close_RF['log'] = short_close_RF['AskPrice'] - short_close_RF['xp']\n"
     ]
    }
   ],
   "source": [
    "short_close_RF = df.loc[(df['short_close']== True) & (df['RF Predicted Value'] == 1)]\n",
    "short_close_RF['log'] = short_close_RF['AskPrice'] - short_close_RF['xp']\n",
    "short_close_RF_total = short_close_RF['log'].sum()\n",
    "print(short_close_RF_total)"
   ]
  },
  {
   "cell_type": "code",
   "execution_count": 10,
   "metadata": {},
   "outputs": [
    {
     "name": "stdout",
     "output_type": "stream",
     "text": [
      "3.64\n"
     ]
    },
    {
     "name": "stderr",
     "output_type": "stream",
     "text": [
      "<ipython-input-10-47cc65b57caf>:2: SettingWithCopyWarning: \n",
      "A value is trying to be set on a copy of a slice from a DataFrame.\n",
      "Try using .loc[row_indexer,col_indexer] = value instead\n",
      "\n",
      "See the caveats in the documentation: https://pandas.pydata.org/pandas-docs/stable/user_guide/indexing.html#returning-a-view-versus-a-copy\n",
      "  short_medium_LSTM['log'] = short_medium_LSTM['AskPrice'] - short_medium_LSTM['xp']\n"
     ]
    }
   ],
   "source": [
    "short_medium_LSTM = df.loc[(df['short_medium']== True) & (df['LSTM Predicted Signal'] == 1)]\n",
    "short_medium_LSTM['log'] = short_medium_LSTM['AskPrice'] - short_medium_LSTM['xp']\n",
    "short_medium_LSTM_total = short_medium_LSTM['log'].sum()\n",
    "print(short_medium_LSTM_total)"
   ]
  },
  {
   "cell_type": "code",
   "execution_count": 11,
   "metadata": {},
   "outputs": [
    {
     "name": "stdout",
     "output_type": "stream",
     "text": [
      "1.21\n"
     ]
    },
    {
     "name": "stderr",
     "output_type": "stream",
     "text": [
      "<ipython-input-11-3e62de6047f9>:2: SettingWithCopyWarning: \n",
      "A value is trying to be set on a copy of a slice from a DataFrame.\n",
      "Try using .loc[row_indexer,col_indexer] = value instead\n",
      "\n",
      "See the caveats in the documentation: https://pandas.pydata.org/pandas-docs/stable/user_guide/indexing.html#returning-a-view-versus-a-copy\n",
      "  short_medium_RF['log'] = short_medium_RF['AskPrice'] - short_medium_RF['xp']\n"
     ]
    }
   ],
   "source": [
    "short_medium_RF = df.loc[(df['short_medium']== True) & (df['RF Predicted Value'] == 1)]\n",
    "short_medium_RF['log'] = short_medium_RF['AskPrice'] - short_medium_RF['xp']\n",
    "short_medium_RF_total = short_medium_RF['log'].sum()\n",
    "print(short_medium_RF_total)"
   ]
  },
  {
   "cell_type": "code",
   "execution_count": 12,
   "metadata": {},
   "outputs": [
    {
     "name": "stdout",
     "output_type": "stream",
     "text": [
      "2.5\n"
     ]
    },
    {
     "name": "stderr",
     "output_type": "stream",
     "text": [
      "<ipython-input-12-97cde8b08bcc>:2: SettingWithCopyWarning: \n",
      "A value is trying to be set on a copy of a slice from a DataFrame.\n",
      "Try using .loc[row_indexer,col_indexer] = value instead\n",
      "\n",
      "See the caveats in the documentation: https://pandas.pydata.org/pandas-docs/stable/user_guide/indexing.html#returning-a-view-versus-a-copy\n",
      "  short_far_LSTM['log'] = short_far_LSTM['AskPrice'] - short_far_LSTM['xp']\n"
     ]
    }
   ],
   "source": [
    "short_far_LSTM = df.loc[(df['short_far']== True) & (df['LSTM Predicted Signal'] == 1)]\n",
    "short_far_LSTM['log'] = short_far_LSTM['AskPrice'] - short_far_LSTM['xp']\n",
    "short_far_LSTM_total = short_far_LSTM['log'].sum()\n",
    "print(short_far_LSTM_total)"
   ]
  },
  {
   "cell_type": "code",
   "execution_count": 13,
   "metadata": {},
   "outputs": [
    {
     "name": "stdout",
     "output_type": "stream",
     "text": [
      "0.0\n"
     ]
    },
    {
     "name": "stderr",
     "output_type": "stream",
     "text": [
      "<ipython-input-13-18c5042b77ee>:2: SettingWithCopyWarning: \n",
      "A value is trying to be set on a copy of a slice from a DataFrame.\n",
      "Try using .loc[row_indexer,col_indexer] = value instead\n",
      "\n",
      "See the caveats in the documentation: https://pandas.pydata.org/pandas-docs/stable/user_guide/indexing.html#returning-a-view-versus-a-copy\n",
      "  short_far_RF['log'] = short_far_RF['AskPrice'] - short_far_RF['xp']\n"
     ]
    }
   ],
   "source": [
    "short_far_RF = df.loc[(df['short_far']== True) & (df['RF Predicted Value'] == 1)]\n",
    "short_far_RF['log'] = short_far_RF['AskPrice'] - short_far_RF['xp']\n",
    "short_far_RF_total = short_far_RF['log'].sum()\n",
    "print(short_far_RF_total)"
   ]
  },
  {
   "cell_type": "code",
   "execution_count": 14,
   "metadata": {},
   "outputs": [
    {
     "name": "stdout",
     "output_type": "stream",
     "text": [
      "96.28999999999999\n"
     ]
    },
    {
     "name": "stderr",
     "output_type": "stream",
     "text": [
      "<ipython-input-14-14bc539d4f68>:2: SettingWithCopyWarning: \n",
      "A value is trying to be set on a copy of a slice from a DataFrame.\n",
      "Try using .loc[row_indexer,col_indexer] = value instead\n",
      "\n",
      "See the caveats in the documentation: https://pandas.pydata.org/pandas-docs/stable/user_guide/indexing.html#returning-a-view-versus-a-copy\n",
      "  long_close_LSTM['log'] = long_close_LSTM['AskPrice'] - long_close_LSTM['xp']\n"
     ]
    }
   ],
   "source": [
    "long_close_LSTM = df.loc[(df['long_close']== True) & (df['LSTM Predicted Signal'] == 1)]\n",
    "long_close_LSTM['log'] = long_close_LSTM['AskPrice'] - long_close_LSTM['xp']\n",
    "long_close_LSTM_total = long_close_LSTM['log'].sum()\n",
    "print(long_close_LSTM_total)"
   ]
  },
  {
   "cell_type": "code",
   "execution_count": 15,
   "metadata": {},
   "outputs": [
    {
     "name": "stdout",
     "output_type": "stream",
     "text": [
      "86.65\n"
     ]
    },
    {
     "name": "stderr",
     "output_type": "stream",
     "text": [
      "<ipython-input-15-2c96faa3b979>:2: SettingWithCopyWarning: \n",
      "A value is trying to be set on a copy of a slice from a DataFrame.\n",
      "Try using .loc[row_indexer,col_indexer] = value instead\n",
      "\n",
      "See the caveats in the documentation: https://pandas.pydata.org/pandas-docs/stable/user_guide/indexing.html#returning-a-view-versus-a-copy\n",
      "  long_close_RF['log'] = long_close_RF['AskPrice'] - long_close_RF['xp']\n"
     ]
    }
   ],
   "source": [
    "long_close_RF = df.loc[(df['long_close']== True) & (df['RF Predicted Value'] == 1)]\n",
    "long_close_RF['log'] = long_close_RF['AskPrice'] - long_close_RF['xp']\n",
    "long_close_RF_total = long_close_RF['log'].sum()\n",
    "print(long_close_RF_total)"
   ]
  },
  {
   "cell_type": "code",
   "execution_count": 16,
   "metadata": {},
   "outputs": [
    {
     "name": "stdout",
     "output_type": "stream",
     "text": [
      "0.03\n"
     ]
    },
    {
     "name": "stderr",
     "output_type": "stream",
     "text": [
      "<ipython-input-16-42ba9debbf05>:2: SettingWithCopyWarning: \n",
      "A value is trying to be set on a copy of a slice from a DataFrame.\n",
      "Try using .loc[row_indexer,col_indexer] = value instead\n",
      "\n",
      "See the caveats in the documentation: https://pandas.pydata.org/pandas-docs/stable/user_guide/indexing.html#returning-a-view-versus-a-copy\n",
      "  long_far_RF['log'] = long_far_RF['AskPrice'] - long_far_RF['xp']\n"
     ]
    }
   ],
   "source": [
    "long_far_RF = df.loc[(df['long_far']== True) & (df['RF Predicted Value'] == 1)]\n",
    "long_far_RF['log'] = long_far_RF['AskPrice'] - long_far_RF['xp']\n",
    "long_far_RF_total = long_far_RF['log'].sum()\n",
    "print(long_far_RF_total)"
   ]
  },
  {
   "cell_type": "code",
   "execution_count": 17,
   "metadata": {},
   "outputs": [
    {
     "name": "stdout",
     "output_type": "stream",
     "text": [
      "2.62\n"
     ]
    },
    {
     "name": "stderr",
     "output_type": "stream",
     "text": [
      "<ipython-input-17-ded057f9d0d2>:2: SettingWithCopyWarning: \n",
      "A value is trying to be set on a copy of a slice from a DataFrame.\n",
      "Try using .loc[row_indexer,col_indexer] = value instead\n",
      "\n",
      "See the caveats in the documentation: https://pandas.pydata.org/pandas-docs/stable/user_guide/indexing.html#returning-a-view-versus-a-copy\n",
      "  long_far_LSTM['log'] = long_far_LSTM['AskPrice'] - long_far_LSTM['xp']\n"
     ]
    }
   ],
   "source": [
    "long_far_LSTM = df.loc[(df['long_far']== True) & (df['LSTM Predicted Signal'] == 1)]\n",
    "long_far_LSTM['log'] = long_far_LSTM['AskPrice'] - long_far_LSTM['xp']\n",
    "long_far_LSTM_total = long_far_LSTM['log'].sum()\n",
    "print(long_far_LSTM_total)"
   ]
  },
  {
   "cell_type": "code",
   "execution_count": 18,
   "metadata": {},
   "outputs": [
    {
     "name": "stdout",
     "output_type": "stream",
     "text": [
      "9.350000000000001\n"
     ]
    },
    {
     "name": "stderr",
     "output_type": "stream",
     "text": [
      "<ipython-input-18-e86d80339e6e>:2: SettingWithCopyWarning: \n",
      "A value is trying to be set on a copy of a slice from a DataFrame.\n",
      "Try using .loc[row_indexer,col_indexer] = value instead\n",
      "\n",
      "See the caveats in the documentation: https://pandas.pydata.org/pandas-docs/stable/user_guide/indexing.html#returning-a-view-versus-a-copy\n",
      "  long_medium_LSTM['log'] = long_medium_LSTM['AskPrice'] - long_medium_LSTM['xp']\n"
     ]
    }
   ],
   "source": [
    "long_medium_LSTM = df.loc[(df['long_medium']== True) & (df['LSTM Predicted Signal'] == 1)]\n",
    "long_medium_LSTM['log'] = long_medium_LSTM['AskPrice'] - long_medium_LSTM['xp']\n",
    "long_medium_LSTM_total = long_medium_LSTM['log'].sum()\n",
    "print(long_medium_LSTM_total)"
   ]
  },
  {
   "cell_type": "code",
   "execution_count": 19,
   "metadata": {},
   "outputs": [
    {
     "name": "stdout",
     "output_type": "stream",
     "text": [
      "5.99\n"
     ]
    },
    {
     "name": "stderr",
     "output_type": "stream",
     "text": [
      "<ipython-input-19-29d39dcc6c84>:2: SettingWithCopyWarning: \n",
      "A value is trying to be set on a copy of a slice from a DataFrame.\n",
      "Try using .loc[row_indexer,col_indexer] = value instead\n",
      "\n",
      "See the caveats in the documentation: https://pandas.pydata.org/pandas-docs/stable/user_guide/indexing.html#returning-a-view-versus-a-copy\n",
      "  long_medium_RF['log'] = long_medium_RF['AskPrice'] - long_medium_RF['xp']\n"
     ]
    }
   ],
   "source": [
    "long_medium_RF = df.loc[(df['long_medium']== True) & (df['RF Predicted Value'] == 1)]\n",
    "long_medium_RF['log'] = long_medium_RF['AskPrice'] - long_medium_RF['xp']\n",
    "long_medium_RF_total = long_medium_RF['log'].sum()\n",
    "print(long_medium_RF_total)"
   ]
  },
  {
   "cell_type": "code",
   "execution_count": 20,
   "metadata": {},
   "outputs": [],
   "source": [
    "df = pd.DataFrame()\n",
    "df['short_close_negatives_RF'] =(short_close_RF.log[(short_close_RF.log < 0)]).count(),\n",
    "df['short_close_positives_RF'] =(short_close_RF.log[(short_close_RF.log > 0)]).count(),\n",
    "\n",
    "df['short_close_negatives_LSTM'] =(short_close_LSTM.log[(short_close_LSTM.log < 0)]).count(),\n",
    "df['short_close_positives_LSTM'] =(short_close_LSTM.log[(short_close_LSTM.log > 0)]).count(),\n",
    "\n",
    "df['short_medium_negatives_RF'] =(short_medium_RF.log[(short_medium_RF.log < 0)]).count(),\n",
    "df['short_medium_positives_RF'] =(short_medium_RF.log[(short_medium_RF.log > 0)]).count(),\n",
    "\n",
    "df['short_medium_negatives_LSTM'] =(short_medium_LSTM.log[(short_medium_LSTM.log < 0)]).count(),\n",
    "df['short_medium_positives_LSTM'] =(short_medium_LSTM.log[(short_medium_LSTM.log > 0)]).count(),\n",
    "\n",
    "df['short_far_negatives_RF'] =(short_far_RF.log[(short_far_RF.log < 0)]).count(),\n",
    "df['short_far_positives_RF'] =(short_far_RF.log[(short_far_RF.log > 0)]).count(),\n",
    "\n",
    "df['short_far_negatives_LSTM'] =(short_far_LSTM.log[(short_far_LSTM.log < 0)]).count(),\n",
    "df['short_far_positives_LSTM'] =(short_far_LSTM.log[(short_far_LSTM.log > 0)]).count()\n"
   ]
  },
  {
   "cell_type": "code",
   "execution_count": 46,
   "metadata": {},
   "outputs": [
    {
     "data": {
      "image/png": "[encoded data removed]",
      "text/plain": [
       "<Figure size 1440x720 with 1 Axes>"
      ]
     },
     "metadata": {
      "needs_background": "light"
     },
     "output_type": "display_data"
    }
   ],
   "source": [
    "df = df.plot(kind = 'bar', figsize = (20,10), title = \"Positive vs Negative Count over Short Expiration Window (weekly)\").get_figure()"
   ]
  },
  {
   "cell_type": "code",
   "execution_count": 47,
   "metadata": {},
   "outputs": [],
   "source": [
    "df.savefig('aapl_neg_pos_df')"
   ]
  },
  {
   "cell_type": "code",
   "execution_count": 22,
   "metadata": {},
   "outputs": [],
   "source": [
    "lf = pd.DataFrame()\n",
    "lf['long_close_negatives_RF'] =(long_close_RF.log[(long_close_RF.log < 0)]).count(),\n",
    "lf['long_close_positives_RF'] =(long_close_RF.log[(long_close_RF.log > 0)]).count(),\n",
    "\n",
    "lf['long_close_negatives_LSTM'] =(long_close_LSTM.log[(long_close_LSTM.log < 0)]).count(),\n",
    "lf['long_close_positives_LSTM'] =(long_close_LSTM.log[(long_close_LSTM.log > 0)]).count(),\n",
    "\n",
    "lf['long_medium_negatives_RF'] =(long_medium_RF.log[(long_medium_RF.log < 0)]).count(),\n",
    "lf['long_medium_positives_RF'] =(long_medium_RF.log[(long_medium_RF.log > 0)]).count(),\n",
    "\n",
    "lf['long_medium_negatives_LSTM'] =(long_medium_LSTM.log[(long_medium_LSTM.log < 0)]).count(),\n",
    "lf['long_medium_positives_LSTM'] =(long_medium_LSTM.log[(long_medium_LSTM.log > 0)]).count(),\n",
    "\n",
    "lf['long_far_negatives_RF'] =(long_far_RF.log[(long_far_RF.log < 0)]).count(),\n",
    "lf['long_far_positives_RF'] =(long_far_RF.log[(long_far_RF.log > 0)]).count(),\n",
    "\n",
    "lf['long_far_negatives_LSTM'] =(long_far_LSTM.log[(long_far_LSTM.log < 0)]).count(),\n",
    "lf['long_far_positives_LSTM'] =(long_far_LSTM.log[(long_far_LSTM.log > 0)]).count()"
   ]
  },
  {
   "cell_type": "code",
   "execution_count": 48,
   "metadata": {},
   "outputs": [
    {
     "data": {
      "image/png": "[encoded data removed]",
      "text/plain": [
       "<Figure size 1440x720 with 1 Axes>"
      ]
     },
     "metadata": {
      "needs_background": "light"
     },
     "output_type": "display_data"
    }
   ],
   "source": [
    "lf = lf.plot(kind = 'bar', figsize = (20,10), title = \"Positive vs Negative Count over Short Expiration Window (bi-weekly)\").get_figure()"
   ]
  },
  {
   "cell_type": "code",
   "execution_count": 49,
   "metadata": {},
   "outputs": [],
   "source": [
    "lf.savefig('aapl_pos_neg_lf')"
   ]
  },
  {
   "cell_type": "code",
   "execution_count": 24,
   "metadata": {},
   "outputs": [],
   "source": [
    "short_equity_curve = pd.DataFrame()\n",
    "short_equity_curve['short_close_RF_group'] = short_close_RF['log'].groupby(short_close_RF.index).sum()\n",
    "short_equity_curve['short_close_RF_group'] = short_close_LSTM['log'].groupby(short_close_LSTM.index).sum()\n",
    "short_equity_curve['short_medium_RF_group'] = short_medium_RF['log'].groupby(short_medium_RF.index).sum()\n",
    "short_equity_curve['short_medium_LSTM_group'] = short_medium_LSTM['log'].groupby(short_medium_LSTM.index).sum()\n",
    "short_equity_curve['short_far_RF_group'] = short_far_RF['log'].groupby(short_far_RF.index).sum()\n",
    "short_equity_curve['short_far_LSTM_group'] = short_far_LSTM['log'].groupby(short_far_LSTM.index).sum()"
   ]
  },
  {
   "cell_type": "code",
   "execution_count": 25,
   "metadata": {},
   "outputs": [
    {
     "data": {
      "text/html": [
       "<div>\n",
       "<style scoped>\n",
       "    .dataframe tbody tr th:only-of-type {\n",
       "        vertical-align: middle;\n",
       "    }\n",
       "\n",
       "    .dataframe tbody tr th {\n",
       "        vertical-align: top;\n",
       "    }\n",
       "\n",
       "    .dataframe thead th {\n",
       "        text-align: right;\n",
       "    }\n",
       "</style>\n",
       "<table border=\"1\" class=\"dataframe\">\n",
       "  <thead>\n",
       "    <tr style=\"text-align: right;\">\n",
       "      <th></th>\n",
       "      <th>short_close_RF_group</th>\n",
       "      <th>short_medium_RF_group</th>\n",
       "      <th>short_medium_LSTM_group</th>\n",
       "      <th>short_far_RF_group</th>\n",
       "      <th>short_far_LSTM_group</th>\n",
       "    </tr>\n",
       "  </thead>\n",
       "  <tbody>\n",
       "    <tr>\n",
       "      <th>2019-11-14</th>\n",
       "      <td>1.54</td>\n",
       "      <td>0.01</td>\n",
       "      <td>0.01</td>\n",
       "      <td>0.0</td>\n",
       "      <td>0.0</td>\n",
       "    </tr>\n",
       "    <tr>\n",
       "      <th>2019-11-18</th>\n",
       "      <td>-2.57</td>\n",
       "      <td>0.16</td>\n",
       "      <td>0.16</td>\n",
       "      <td>0.0</td>\n",
       "      <td>0.0</td>\n",
       "    </tr>\n",
       "    <tr>\n",
       "      <th>2019-11-21</th>\n",
       "      <td>-1.13</td>\n",
       "      <td>0.19</td>\n",
       "      <td>0.19</td>\n",
       "      <td>0.0</td>\n",
       "      <td>0.0</td>\n",
       "    </tr>\n",
       "    <tr>\n",
       "      <th>2019-11-22</th>\n",
       "      <td>5.26</td>\n",
       "      <td>0.54</td>\n",
       "      <td>0.54</td>\n",
       "      <td>0.0</td>\n",
       "      <td>0.0</td>\n",
       "    </tr>\n",
       "    <tr>\n",
       "      <th>2019-12-02</th>\n",
       "      <td>6.92</td>\n",
       "      <td>0.76</td>\n",
       "      <td>0.55</td>\n",
       "      <td>0.0</td>\n",
       "      <td>0.0</td>\n",
       "    </tr>\n",
       "    <tr>\n",
       "      <th>2019-12-03</th>\n",
       "      <td>6.92</td>\n",
       "      <td>1.10</td>\n",
       "      <td>0.55</td>\n",
       "      <td>0.0</td>\n",
       "      <td>0.0</td>\n",
       "    </tr>\n",
       "    <tr>\n",
       "      <th>2019-12-04</th>\n",
       "      <td>6.92</td>\n",
       "      <td>1.20</td>\n",
       "      <td>0.55</td>\n",
       "      <td>0.0</td>\n",
       "      <td>0.0</td>\n",
       "    </tr>\n",
       "    <tr>\n",
       "      <th>2019-12-05</th>\n",
       "      <td>6.92</td>\n",
       "      <td>1.21</td>\n",
       "      <td>0.55</td>\n",
       "      <td>0.0</td>\n",
       "      <td>0.0</td>\n",
       "    </tr>\n",
       "    <tr>\n",
       "      <th>2019-12-13</th>\n",
       "      <td>6.92</td>\n",
       "      <td>1.21</td>\n",
       "      <td>0.55</td>\n",
       "      <td>0.0</td>\n",
       "      <td>0.0</td>\n",
       "    </tr>\n",
       "    <tr>\n",
       "      <th>2019-12-16</th>\n",
       "      <td>6.92</td>\n",
       "      <td>1.21</td>\n",
       "      <td>0.55</td>\n",
       "      <td>0.0</td>\n",
       "      <td>0.0</td>\n",
       "    </tr>\n",
       "  </tbody>\n",
       "</table>\n",
       "</div>"
      ],
      "text/plain": [
       "            short_close_RF_group  short_medium_RF_group  \\\n",
       "2019-11-14                  1.54                   0.01   \n",
       "2019-11-18                 -2.57                   0.16   \n",
       "2019-11-21                 -1.13                   0.19   \n",
       "2019-11-22                  5.26                   0.54   \n",
       "2019-12-02                  6.92                   0.76   \n",
       "2019-12-03                  6.92                   1.10   \n",
       "2019-12-04                  6.92                   1.20   \n",
       "2019-12-05                  6.92                   1.21   \n",
       "2019-12-13                  6.92                   1.21   \n",
       "2019-12-16                  6.92                   1.21   \n",
       "\n",
       "            short_medium_LSTM_group  short_far_RF_group  short_far_LSTM_group  \n",
       "2019-11-14                     0.01                 0.0                   0.0  \n",
       "2019-11-18                     0.16                 0.0                   0.0  \n",
       "2019-11-21                     0.19                 0.0                   0.0  \n",
       "2019-11-22                     0.54                 0.0                   0.0  \n",
       "2019-12-02                     0.55                 0.0                   0.0  \n",
       "2019-12-03                     0.55                 0.0                   0.0  \n",
       "2019-12-04                     0.55                 0.0                   0.0  \n",
       "2019-12-05                     0.55                 0.0                   0.0  \n",
       "2019-12-13                     0.55                 0.0                   0.0  \n",
       "2019-12-16                     0.55                 0.0                   0.0  "
      ]
     },
     "execution_count": 25,
     "metadata": {},
     "output_type": "execute_result"
    }
   ],
   "source": [
    "short_equity_curve = short_equity_curve.cumsum()\n",
    "short_equity_curve = short_equity_curve.fillna(method = 'backfill' )\n",
    "short_equity_curve"
   ]
  },
  {
   "cell_type": "code",
   "execution_count": 45,
   "metadata": {},
   "outputs": [
    {
     "data": {
      "image/png": "[encoded data removed]",
      "text/plain": [
       "<Figure size 1440x720 with 1 Axes>"
      ]
     },
     "metadata": {
      "needs_background": "light"
     },
     "output_type": "display_data"
    }
   ],
   "source": [
    "se = short_equity_curve.plot(kind ='line', figsize = (20,10),title =\"Weekly Close Position Equity Curve\").get_figure()"
   ]
  },
  {
   "cell_type": "code",
   "execution_count": 36,
   "metadata": {},
   "outputs": [],
   "source": [
    "se.savefig('aapl_short_equity_curve')"
   ]
  },
  {
   "cell_type": "code",
   "execution_count": 27,
   "metadata": {},
   "outputs": [],
   "source": [
    "long_equity_curve = pd.DataFrame()\n",
    "long_equity_curve['long_close_RF_group'] = long_close_RF['log'].groupby(long_close_RF.index).sum()\n",
    "long_equity_curve['long_close_LSTM_group'] =long_close_LSTM['log'].groupby(long_close_LSTM.index).sum()\n",
    "long_equity_curve['long_medium_RF_group'] = long_medium_RF['log'].groupby(long_medium_RF.index).sum()\n",
    "long_equity_curve['long_medium_LSTM_group'] = long_medium_LSTM['log'].groupby(long_medium_LSTM.index).sum()\n",
    "long_equity_curve['long_far_RF_group'] = long_far_RF['log'].groupby(long_far_RF.index).sum()\n",
    "long_equity_curve['long_far_LSTM_group'] = long_far_LSTM['log'].groupby(long_far_LSTM.index).sum()"
   ]
  },
  {
   "cell_type": "code",
   "execution_count": 28,
   "metadata": {},
   "outputs": [
    {
     "data": {
      "text/html": [
       "<div>\n",
       "<style scoped>\n",
       "    .dataframe tbody tr th:only-of-type {\n",
       "        vertical-align: middle;\n",
       "    }\n",
       "\n",
       "    .dataframe tbody tr th {\n",
       "        vertical-align: top;\n",
       "    }\n",
       "\n",
       "    .dataframe thead th {\n",
       "        text-align: right;\n",
       "    }\n",
       "</style>\n",
       "<table border=\"1\" class=\"dataframe\">\n",
       "  <thead>\n",
       "    <tr style=\"text-align: right;\">\n",
       "      <th></th>\n",
       "      <th>long_close_RF_group</th>\n",
       "      <th>long_close_LSTM_group</th>\n",
       "      <th>long_medium_RF_group</th>\n",
       "      <th>long_medium_LSTM_group</th>\n",
       "      <th>long_far_RF_group</th>\n",
       "      <th>long_far_LSTM_group</th>\n",
       "    </tr>\n",
       "  </thead>\n",
       "  <tbody>\n",
       "    <tr>\n",
       "      <th>2019-11-14</th>\n",
       "      <td>7.46</td>\n",
       "      <td>7.46</td>\n",
       "      <td>0.93</td>\n",
       "      <td>0.93</td>\n",
       "      <td>0.03</td>\n",
       "      <td>0.03</td>\n",
       "    </tr>\n",
       "    <tr>\n",
       "      <th>2019-11-18</th>\n",
       "      <td>11.22</td>\n",
       "      <td>11.22</td>\n",
       "      <td>1.80</td>\n",
       "      <td>1.80</td>\n",
       "      <td>0.03</td>\n",
       "      <td>0.03</td>\n",
       "    </tr>\n",
       "    <tr>\n",
       "      <th>2019-11-21</th>\n",
       "      <td>21.46</td>\n",
       "      <td>21.46</td>\n",
       "      <td>2.32</td>\n",
       "      <td>2.32</td>\n",
       "      <td>0.03</td>\n",
       "      <td>0.03</td>\n",
       "    </tr>\n",
       "    <tr>\n",
       "      <th>2019-11-22</th>\n",
       "      <td>27.85</td>\n",
       "      <td>27.85</td>\n",
       "      <td>2.67</td>\n",
       "      <td>2.67</td>\n",
       "      <td>0.03</td>\n",
       "      <td>0.03</td>\n",
       "    </tr>\n",
       "    <tr>\n",
       "      <th>2019-12-02</th>\n",
       "      <td>44.84</td>\n",
       "      <td>39.40</td>\n",
       "      <td>3.97</td>\n",
       "      <td>3.10</td>\n",
       "      <td>0.03</td>\n",
       "      <td>0.03</td>\n",
       "    </tr>\n",
       "    <tr>\n",
       "      <th>2019-12-03</th>\n",
       "      <td>62.99</td>\n",
       "      <td>39.40</td>\n",
       "      <td>5.03</td>\n",
       "      <td>3.10</td>\n",
       "      <td>0.03</td>\n",
       "      <td>0.03</td>\n",
       "    </tr>\n",
       "    <tr>\n",
       "      <th>2019-12-04</th>\n",
       "      <td>75.10</td>\n",
       "      <td>39.40</td>\n",
       "      <td>5.56</td>\n",
       "      <td>3.10</td>\n",
       "      <td>0.03</td>\n",
       "      <td>0.03</td>\n",
       "    </tr>\n",
       "    <tr>\n",
       "      <th>2019-12-05</th>\n",
       "      <td>86.65</td>\n",
       "      <td>39.40</td>\n",
       "      <td>5.99</td>\n",
       "      <td>3.10</td>\n",
       "      <td>0.03</td>\n",
       "      <td>0.03</td>\n",
       "    </tr>\n",
       "    <tr>\n",
       "      <th>2019-12-13</th>\n",
       "      <td>86.65</td>\n",
       "      <td>39.40</td>\n",
       "      <td>5.99</td>\n",
       "      <td>3.10</td>\n",
       "      <td>0.03</td>\n",
       "      <td>0.03</td>\n",
       "    </tr>\n",
       "    <tr>\n",
       "      <th>2019-12-16</th>\n",
       "      <td>86.65</td>\n",
       "      <td>39.40</td>\n",
       "      <td>5.99</td>\n",
       "      <td>3.10</td>\n",
       "      <td>0.03</td>\n",
       "      <td>0.03</td>\n",
       "    </tr>\n",
       "  </tbody>\n",
       "</table>\n",
       "</div>"
      ],
      "text/plain": [
       "            long_close_RF_group  long_close_LSTM_group  long_medium_RF_group  \\\n",
       "2019-11-14                 7.46                   7.46                  0.93   \n",
       "2019-11-18                11.22                  11.22                  1.80   \n",
       "2019-11-21                21.46                  21.46                  2.32   \n",
       "2019-11-22                27.85                  27.85                  2.67   \n",
       "2019-12-02                44.84                  39.40                  3.97   \n",
       "2019-12-03                62.99                  39.40                  5.03   \n",
       "2019-12-04                75.10                  39.40                  5.56   \n",
       "2019-12-05                86.65                  39.40                  5.99   \n",
       "2019-12-13                86.65                  39.40                  5.99   \n",
       "2019-12-16                86.65                  39.40                  5.99   \n",
       "\n",
       "            long_medium_LSTM_group  long_far_RF_group  long_far_LSTM_group  \n",
       "2019-11-14                    0.93               0.03                 0.03  \n",
       "2019-11-18                    1.80               0.03                 0.03  \n",
       "2019-11-21                    2.32               0.03                 0.03  \n",
       "2019-11-22                    2.67               0.03                 0.03  \n",
       "2019-12-02                    3.10               0.03                 0.03  \n",
       "2019-12-03                    3.10               0.03                 0.03  \n",
       "2019-12-04                    3.10               0.03                 0.03  \n",
       "2019-12-05                    3.10               0.03                 0.03  \n",
       "2019-12-13                    3.10               0.03                 0.03  \n",
       "2019-12-16                    3.10               0.03                 0.03  "
      ]
     },
     "execution_count": 28,
     "metadata": {},
     "output_type": "execute_result"
    }
   ],
   "source": [
    "long_equity_curve = long_equity_curve.cumsum()\n",
    "long_equity_curve = long_equity_curve.fillna(method = 'backfill' )\n",
    "long_equity_curve"
   ]
  },
  {
   "cell_type": "code",
   "execution_count": 37,
   "metadata": {},
   "outputs": [
    {
     "data": {
      "image/png": "[encoded data removed]",
      "text/plain": [
       "<Figure size 1440x720 with 1 Axes>"
      ]
     },
     "metadata": {
      "needs_background": "light"
     },
     "output_type": "display_data"
    }
   ],
   "source": [
    "le =long_equity_curve.plot(logy=True, kind ='line', figsize = (20,10), title =\"BiWeekly Close Position Equity Curve\").get_figure()"
   ]
  },
  {
   "cell_type": "code",
   "execution_count": 38,
   "metadata": {},
   "outputs": [],
   "source": [
    "le.savefig('aapl_long_equity_curve')"
   ]
  },
  {
   "cell_type": "code",
   "execution_count": 30,
   "metadata": {},
   "outputs": [
    {
     "name": "stdout",
     "output_type": "stream",
     "text": [
      "the biggest loses were 19.859999999999996\n"
     ]
    }
   ],
   "source": [
    "print(f'the biggest loses were', short_close_RF_total)"
   ]
  },
  {
   "cell_type": "code",
   "execution_count": 31,
   "metadata": {},
   "outputs": [
    {
     "name": "stdout",
     "output_type": "stream",
     "text": [
      "Selling options expiring in a week and close to the money,\n",
      " RF generated: 19.859999999999996 \n",
      " LSTM generated: 29.54\n",
      "\n",
      "Selling options expiring in a week and slightly out to the money,\n",
      " RF generated: 1.21 \n",
      " LSTM generated: 3.64\n",
      "\n",
      "Selling options expiring in a week and far out to the money,\n",
      " RF generated: 0.0 \n",
      " LSTM generated: 2.5\n"
     ]
    }
   ],
   "source": [
    "print('Selling options expiring in a week and close to the money,\\n RF generated:', short_close_RF_total, '\\n LSTM generated:', short_close_LSTM_total)\n",
    "print('\\nSelling options expiring in a week and slightly out to the money,\\n RF generated:', short_medium_RF_total, '\\n LSTM generated:', short_medium_LSTM_total)\n",
    "print('\\nSelling options expiring in a week and far out to the money,\\n RF generated:', short_far_RF_total, '\\n LSTM generated:', short_far_LSTM_total)\n"
   ]
  },
  {
   "cell_type": "code",
   "execution_count": 32,
   "metadata": {},
   "outputs": [
    {
     "name": "stdout",
     "output_type": "stream",
     "text": [
      "Selling options expiring in a two weeks and close to the money,\n",
      " RF generated: 86.65 \n",
      " LSTM generated: 96.28999999999999\n",
      "\n",
      "Selling options expiring in two weeks and slightly out to the money,\n",
      " RF generated: 5.99 \n",
      " LSTM generated: 9.350000000000001\n",
      "\n",
      "Selling options expiring in two weeks and far out to the money,\n",
      " RF generated: 0.03 \n",
      " LSTM generated: 2.62\n"
     ]
    }
   ],
   "source": [
    "print('Selling options expiring in a two weeks and close to the money,\\n RF generated:', long_close_RF_total, '\\n LSTM generated:', long_close_LSTM_total)\n",
    "print('\\nSelling options expiring in two weeks and slightly out to the money,\\n RF generated:', long_medium_RF_total, '\\n LSTM generated:', long_medium_LSTM_total)\n",
    "print('\\nSelling options expiring in two weeks and far out to the money,\\n RF generated:', long_far_RF_total, '\\n LSTM generated:', long_far_LSTM_total)\n"
   ]
  },
  {
   "cell_type": "code",
   "execution_count": 39,
   "metadata": {},
   "outputs": [],
   "source": [
    "merged = short_equity_curve.merge(long_equity_curve, left_index = True, right_index =True)"
   ]
  },
  {
   "cell_type": "code",
   "execution_count": 44,
   "metadata": {},
   "outputs": [
    {
     "name": "stdout",
     "output_type": "stream",
     "text": [
      "Short window max DD -2.5700000000000003\n",
      "Long window max DD 0\n"
     ]
    }
   ],
   "source": [
    "#max DD calculation\n",
    "maxDDLE = 0\n",
    "\n",
    "for (columnName, columnData) in long_equity_curve.iteritems():\n",
    "    for x in columnData:\n",
    "        if x < maxDDLE:\n",
    "            maxDDLE = x\n",
    "\n",
    "maxDDSE = 0\n",
    "\n",
    "for (columnName, columnData) in short_equity_curve.iteritems():\n",
    "    for x in columnData:\n",
    "        if x < maxDDSE:\n",
    "            maxDDSE = x\n",
    "            \n",
    "print(f'Short window max DD {maxDDSE}')            \n",
    "print(f'Long window max DD {maxDDLE}')"
   ]
  },
  {
   "cell_type": "code",
   "execution_count": null,
   "metadata": {},
   "outputs": [],
   "source": []
  }
 ],
 "metadata": {
  "kernelspec": {
   "display_name": "Python 3",
   "language": "python",
   "name": "python3"
  },
  "language_info": {
   "codemirror_mode": {
    "name": "ipython",
    "version": 3
   },
   "file_extension": ".py",
   "mimetype": "text/x-python",
   "name": "python",
   "nbconvert_exporter": "python",
   "pygments_lexer": "ipython3",
   "version": "3.8.5"
  }
 },
 "nbformat": 4,
 "nbformat_minor": 4
}
