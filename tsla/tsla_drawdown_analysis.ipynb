{
 "cells": [
  {
   "cell_type": "code",
   "execution_count": 356,
   "metadata": {},
   "outputs": [],
   "source": [
    "import pandas as pd\n",
    "import numpy as np\n",
    "import datetime as dt\n",
    "from pathlib import Path\n",
    "from datetime import datetime, timedelta\n",
    "import matplotlib.pyplot as plt\n",
    "%matplotlib inline\n"
   ]
  },
  {
   "cell_type": "code",
   "execution_count": 357,
   "metadata": {},
   "outputs": [],
   "source": [
    "tsla_df = pd.read_pickle('tsla/tsla_merged.pickle')"
   ]
  },
  {
   "cell_type": "code",
   "execution_count": 358,
   "metadata": {},
   "outputs": [],
   "source": [
    "df = tsla_df\n",
    "df = df.drop(columns= ['LastPrice', 'Symbol', 'Volume', 'OpenInterest', 'Volume'])\n",
    "\n"
   ]
  },
  {
   "cell_type": "code",
   "execution_count": 359,
   "metadata": {},
   "outputs": [],
   "source": [
    "df['ExpirationDate'] =  pd.to_datetime(df['ExpirationDate'], infer_datetime_format=True)\n",
    "df['DataDate'] =  pd.to_datetime(df['DataDate'], infer_datetime_format=True)\n",
    "df['delta'] = df['ExpirationDate'] - df['DataDate']\n",
    "\n",
    "df['exp?'] =df['ExpirationDate'] ==df['DataDate']\n",
    "df['long_close'] = ((df['delta'] < np.timedelta64(14, 'D')) & (df['% out'] > -.1) & (df['% out'] < 0))\n",
    "df['long_medium'] = ((df['delta'] < np.timedelta64(14, 'D')) & (df['% out'] > -.2) & (df['% out'] < -.1))\n",
    "df['long_far'] = ((df['delta'] < np.timedelta64(14, 'D')) & (df['% out'] > -.3) & (df['% out'] < -.2))\n",
    "df['short_close'] = ((df['delta'] < np.timedelta64(8, 'D')) & (df['% out'] > -.1) & (df['% out'] < 0))\n",
    "df['short_medium'] = ((df['delta'] < np.timedelta64(8, 'D')) & (df['% out'] > -.2) & (df['% out'] < -.1))\n",
    "df['short_far'] = ((df['delta'] < np.timedelta64(8, 'D')) & (df['% out'] > -.3) & (df['% out'] < -.2))\n",
    "\n",
    "pd.set_option('display.max_columns', 30)"
   ]
  },
  {
   "cell_type": "code",
   "execution_count": 360,
   "metadata": {},
   "outputs": [
    {
     "data": {
      "text/plain": [
       "1259"
      ]
     },
     "execution_count": 360,
     "metadata": {},
     "output_type": "execute_result"
    }
   ],
   "source": [
    "df_table=df.loc[:, ['OptionKey', 'BidPrice']]\n",
    "df_table=df_table.reset_index()\n",
    "df_table.columns=['PriceDate', 'OptionKey', 'RebuyPrice']\n",
    "df_table['RebuyPrice'].nunique()"
   ]
  },
  {
   "cell_type": "code",
   "execution_count": 361,
   "metadata": {},
   "outputs": [
    {
     "data": {
      "text/html": [
       "<div>\n",
       "<style scoped>\n",
       "    .dataframe tbody tr th:only-of-type {\n",
       "        vertical-align: middle;\n",
       "    }\n",
       "\n",
       "    .dataframe tbody tr th {\n",
       "        vertical-align: top;\n",
       "    }\n",
       "\n",
       "    .dataframe thead th {\n",
       "        text-align: right;\n",
       "    }\n",
       "</style>\n",
       "<table border=\"1\" class=\"dataframe\">\n",
       "  <thead>\n",
       "    <tr style=\"text-align: right;\">\n",
       "      <th></th>\n",
       "      <th>OptionKey</th>\n",
       "      <th>xp</th>\n",
       "    </tr>\n",
       "  </thead>\n",
       "  <tbody>\n",
       "    <tr>\n",
       "      <th>2019-11-15</th>\n",
       "      <td>TSLA2019-11-15P165.00</td>\n",
       "      <td>0.01</td>\n",
       "    </tr>\n",
       "    <tr>\n",
       "      <th>2019-11-15</th>\n",
       "      <td>TSLA2019-11-15P170.00</td>\n",
       "      <td>0.01</td>\n",
       "    </tr>\n",
       "    <tr>\n",
       "      <th>2019-11-15</th>\n",
       "      <td>TSLA2019-11-15P180.00</td>\n",
       "      <td>0.06</td>\n",
       "    </tr>\n",
       "    <tr>\n",
       "      <th>2019-11-15</th>\n",
       "      <td>TSLA2019-11-15P200.00</td>\n",
       "      <td>0.01</td>\n",
       "    </tr>\n",
       "    <tr>\n",
       "      <th>2019-11-15</th>\n",
       "      <td>TSLA2019-11-15P205.00</td>\n",
       "      <td>0.01</td>\n",
       "    </tr>\n",
       "    <tr>\n",
       "      <th>...</th>\n",
       "      <td>...</td>\n",
       "      <td>...</td>\n",
       "    </tr>\n",
       "    <tr>\n",
       "      <th>2019-12-13</th>\n",
       "      <td>TSLA2019-12-13P375.00</td>\n",
       "      <td>18.60</td>\n",
       "    </tr>\n",
       "    <tr>\n",
       "      <th>2019-12-13</th>\n",
       "      <td>TSLA2019-12-13P380.00</td>\n",
       "      <td>23.60</td>\n",
       "    </tr>\n",
       "    <tr>\n",
       "      <th>2019-12-13</th>\n",
       "      <td>TSLA2019-12-13P385.00</td>\n",
       "      <td>28.55</td>\n",
       "    </tr>\n",
       "    <tr>\n",
       "      <th>2019-12-13</th>\n",
       "      <td>TSLA2019-12-13P395.00</td>\n",
       "      <td>38.55</td>\n",
       "    </tr>\n",
       "    <tr>\n",
       "      <th>2019-12-13</th>\n",
       "      <td>TSLA2019-12-13P400.00</td>\n",
       "      <td>43.10</td>\n",
       "    </tr>\n",
       "  </tbody>\n",
       "</table>\n",
       "<p>223 rows × 2 columns</p>\n",
       "</div>"
      ],
      "text/plain": [
       "                        OptionKey     xp\n",
       "2019-11-15  TSLA2019-11-15P165.00   0.01\n",
       "2019-11-15  TSLA2019-11-15P170.00   0.01\n",
       "2019-11-15  TSLA2019-11-15P180.00   0.06\n",
       "2019-11-15  TSLA2019-11-15P200.00   0.01\n",
       "2019-11-15  TSLA2019-11-15P205.00   0.01\n",
       "...                           ...    ...\n",
       "2019-12-13  TSLA2019-12-13P375.00  18.60\n",
       "2019-12-13  TSLA2019-12-13P380.00  23.60\n",
       "2019-12-13  TSLA2019-12-13P385.00  28.55\n",
       "2019-12-13  TSLA2019-12-13P395.00  38.55\n",
       "2019-12-13  TSLA2019-12-13P400.00  43.10\n",
       "\n",
       "[223 rows x 2 columns]"
      ]
     },
     "execution_count": 361,
     "metadata": {},
     "output_type": "execute_result"
    }
   ],
   "source": [
    "xp = df\n",
    "xp.loc[xp['exp?']== True, 'xp' ] = xp.loc[df['exp?'] == True, 'AskPrice']\n",
    "xp = xp.loc[xp['exp?']== True]\n",
    "xp= xp[['OptionKey', 'xp']]\n",
    "xp"
   ]
  },
  {
   "cell_type": "code",
   "execution_count": 362,
   "metadata": {},
   "outputs": [
    {
     "data": {
      "text/html": [
       "<div>\n",
       "<style scoped>\n",
       "    .dataframe tbody tr th:only-of-type {\n",
       "        vertical-align: middle;\n",
       "    }\n",
       "\n",
       "    .dataframe tbody tr th {\n",
       "        vertical-align: top;\n",
       "    }\n",
       "\n",
       "    .dataframe thead th {\n",
       "        text-align: right;\n",
       "    }\n",
       "</style>\n",
       "<table border=\"1\" class=\"dataframe\">\n",
       "  <thead>\n",
       "    <tr style=\"text-align: right;\">\n",
       "      <th></th>\n",
       "      <th>OptionKey</th>\n",
       "      <th>ExpirationDate</th>\n",
       "      <th>AskPrice</th>\n",
       "      <th>BidPrice</th>\n",
       "      <th>PutCall</th>\n",
       "      <th>StrikePrice</th>\n",
       "      <th>UnderlyingPrice</th>\n",
       "      <th>DataDate</th>\n",
       "      <th>time delta</th>\n",
       "      <th>% out</th>\n",
       "      <th>LSTM Predicted Signal</th>\n",
       "      <th>RF Predicted Value</th>\n",
       "      <th>delta</th>\n",
       "      <th>exp?</th>\n",
       "      <th>long_close</th>\n",
       "      <th>long_medium</th>\n",
       "      <th>long_far</th>\n",
       "      <th>short_close</th>\n",
       "      <th>short_medium</th>\n",
       "      <th>short_far</th>\n",
       "      <th>xp</th>\n",
       "    </tr>\n",
       "  </thead>\n",
       "  <tbody>\n",
       "    <tr>\n",
       "      <th>2019-11-13</th>\n",
       "      <td>TSLA2019-11-15P155.00</td>\n",
       "      <td>2019-11-15</td>\n",
       "      <td>0.05</td>\n",
       "      <td>0.0</td>\n",
       "      <td>put</td>\n",
       "      <td>155.0</td>\n",
       "      <td>346.11</td>\n",
       "      <td>2019-11-13</td>\n",
       "      <td>2 days</td>\n",
       "      <td>-0.552165</td>\n",
       "      <td>1</td>\n",
       "      <td>1</td>\n",
       "      <td>2 days</td>\n",
       "      <td>False</td>\n",
       "      <td>False</td>\n",
       "      <td>False</td>\n",
       "      <td>False</td>\n",
       "      <td>False</td>\n",
       "      <td>False</td>\n",
       "      <td>False</td>\n",
       "      <td>NaN</td>\n",
       "    </tr>\n",
       "    <tr>\n",
       "      <th>2019-11-13</th>\n",
       "      <td>TSLA2019-11-15P165.00</td>\n",
       "      <td>2019-11-15</td>\n",
       "      <td>0.01</td>\n",
       "      <td>0.0</td>\n",
       "      <td>put</td>\n",
       "      <td>165.0</td>\n",
       "      <td>346.11</td>\n",
       "      <td>2019-11-13</td>\n",
       "      <td>2 days</td>\n",
       "      <td>-0.523273</td>\n",
       "      <td>1</td>\n",
       "      <td>1</td>\n",
       "      <td>2 days</td>\n",
       "      <td>False</td>\n",
       "      <td>False</td>\n",
       "      <td>False</td>\n",
       "      <td>False</td>\n",
       "      <td>False</td>\n",
       "      <td>False</td>\n",
       "      <td>False</td>\n",
       "      <td>0.01</td>\n",
       "    </tr>\n",
       "    <tr>\n",
       "      <th>2019-11-13</th>\n",
       "      <td>TSLA2019-11-15P185.00</td>\n",
       "      <td>2019-11-15</td>\n",
       "      <td>0.03</td>\n",
       "      <td>0.0</td>\n",
       "      <td>put</td>\n",
       "      <td>185.0</td>\n",
       "      <td>346.11</td>\n",
       "      <td>2019-11-13</td>\n",
       "      <td>2 days</td>\n",
       "      <td>-0.465488</td>\n",
       "      <td>1</td>\n",
       "      <td>1</td>\n",
       "      <td>2 days</td>\n",
       "      <td>False</td>\n",
       "      <td>False</td>\n",
       "      <td>False</td>\n",
       "      <td>False</td>\n",
       "      <td>False</td>\n",
       "      <td>False</td>\n",
       "      <td>False</td>\n",
       "      <td>NaN</td>\n",
       "    </tr>\n",
       "    <tr>\n",
       "      <th>2019-11-13</th>\n",
       "      <td>TSLA2019-11-15P190.00</td>\n",
       "      <td>2019-11-15</td>\n",
       "      <td>0.02</td>\n",
       "      <td>0.0</td>\n",
       "      <td>put</td>\n",
       "      <td>190.0</td>\n",
       "      <td>346.11</td>\n",
       "      <td>2019-11-13</td>\n",
       "      <td>2 days</td>\n",
       "      <td>-0.451042</td>\n",
       "      <td>1</td>\n",
       "      <td>1</td>\n",
       "      <td>2 days</td>\n",
       "      <td>False</td>\n",
       "      <td>False</td>\n",
       "      <td>False</td>\n",
       "      <td>False</td>\n",
       "      <td>False</td>\n",
       "      <td>False</td>\n",
       "      <td>False</td>\n",
       "      <td>NaN</td>\n",
       "    </tr>\n",
       "    <tr>\n",
       "      <th>2019-11-13</th>\n",
       "      <td>TSLA2019-11-15P205.00</td>\n",
       "      <td>2019-11-15</td>\n",
       "      <td>0.03</td>\n",
       "      <td>0.0</td>\n",
       "      <td>put</td>\n",
       "      <td>205.0</td>\n",
       "      <td>346.11</td>\n",
       "      <td>2019-11-13</td>\n",
       "      <td>2 days</td>\n",
       "      <td>-0.407703</td>\n",
       "      <td>1</td>\n",
       "      <td>1</td>\n",
       "      <td>2 days</td>\n",
       "      <td>False</td>\n",
       "      <td>False</td>\n",
       "      <td>False</td>\n",
       "      <td>False</td>\n",
       "      <td>False</td>\n",
       "      <td>False</td>\n",
       "      <td>False</td>\n",
       "      <td>0.01</td>\n",
       "    </tr>\n",
       "    <tr>\n",
       "      <th>...</th>\n",
       "      <td>...</td>\n",
       "      <td>...</td>\n",
       "      <td>...</td>\n",
       "      <td>...</td>\n",
       "      <td>...</td>\n",
       "      <td>...</td>\n",
       "      <td>...</td>\n",
       "      <td>...</td>\n",
       "      <td>...</td>\n",
       "      <td>...</td>\n",
       "      <td>...</td>\n",
       "      <td>...</td>\n",
       "      <td>...</td>\n",
       "      <td>...</td>\n",
       "      <td>...</td>\n",
       "      <td>...</td>\n",
       "      <td>...</td>\n",
       "      <td>...</td>\n",
       "      <td>...</td>\n",
       "      <td>...</td>\n",
       "      <td>...</td>\n",
       "    </tr>\n",
       "    <tr>\n",
       "      <th>2019-12-18</th>\n",
       "      <td>TSLA2019-12-27P440.00</td>\n",
       "      <td>2019-12-27</td>\n",
       "      <td>47.90</td>\n",
       "      <td>46.6</td>\n",
       "      <td>put</td>\n",
       "      <td>440.0</td>\n",
       "      <td>393.15</td>\n",
       "      <td>2019-12-18</td>\n",
       "      <td>9 days</td>\n",
       "      <td>0.119166</td>\n",
       "      <td>1</td>\n",
       "      <td>1</td>\n",
       "      <td>9 days</td>\n",
       "      <td>False</td>\n",
       "      <td>False</td>\n",
       "      <td>False</td>\n",
       "      <td>False</td>\n",
       "      <td>False</td>\n",
       "      <td>False</td>\n",
       "      <td>False</td>\n",
       "      <td>NaN</td>\n",
       "    </tr>\n",
       "    <tr>\n",
       "      <th>2019-12-18</th>\n",
       "      <td>TSLA2019-12-27P445.00</td>\n",
       "      <td>2019-12-27</td>\n",
       "      <td>53.00</td>\n",
       "      <td>51.2</td>\n",
       "      <td>put</td>\n",
       "      <td>445.0</td>\n",
       "      <td>393.15</td>\n",
       "      <td>2019-12-18</td>\n",
       "      <td>9 days</td>\n",
       "      <td>0.131884</td>\n",
       "      <td>1</td>\n",
       "      <td>1</td>\n",
       "      <td>9 days</td>\n",
       "      <td>False</td>\n",
       "      <td>False</td>\n",
       "      <td>False</td>\n",
       "      <td>False</td>\n",
       "      <td>False</td>\n",
       "      <td>False</td>\n",
       "      <td>False</td>\n",
       "      <td>NaN</td>\n",
       "    </tr>\n",
       "    <tr>\n",
       "      <th>2019-12-18</th>\n",
       "      <td>TSLA2019-12-27P465.00</td>\n",
       "      <td>2019-12-27</td>\n",
       "      <td>72.60</td>\n",
       "      <td>71.4</td>\n",
       "      <td>put</td>\n",
       "      <td>465.0</td>\n",
       "      <td>393.15</td>\n",
       "      <td>2019-12-18</td>\n",
       "      <td>9 days</td>\n",
       "      <td>0.182755</td>\n",
       "      <td>1</td>\n",
       "      <td>1</td>\n",
       "      <td>9 days</td>\n",
       "      <td>False</td>\n",
       "      <td>False</td>\n",
       "      <td>False</td>\n",
       "      <td>False</td>\n",
       "      <td>False</td>\n",
       "      <td>False</td>\n",
       "      <td>False</td>\n",
       "      <td>NaN</td>\n",
       "    </tr>\n",
       "    <tr>\n",
       "      <th>2019-12-18</th>\n",
       "      <td>TSLA2019-12-27P470.00</td>\n",
       "      <td>2019-12-27</td>\n",
       "      <td>78.15</td>\n",
       "      <td>76.4</td>\n",
       "      <td>put</td>\n",
       "      <td>470.0</td>\n",
       "      <td>393.15</td>\n",
       "      <td>2019-12-18</td>\n",
       "      <td>9 days</td>\n",
       "      <td>0.195472</td>\n",
       "      <td>1</td>\n",
       "      <td>1</td>\n",
       "      <td>9 days</td>\n",
       "      <td>False</td>\n",
       "      <td>False</td>\n",
       "      <td>False</td>\n",
       "      <td>False</td>\n",
       "      <td>False</td>\n",
       "      <td>False</td>\n",
       "      <td>False</td>\n",
       "      <td>NaN</td>\n",
       "    </tr>\n",
       "    <tr>\n",
       "      <th>2019-12-18</th>\n",
       "      <td>TSLA2019-12-27P490.00</td>\n",
       "      <td>2019-12-27</td>\n",
       "      <td>97.60</td>\n",
       "      <td>96.3</td>\n",
       "      <td>put</td>\n",
       "      <td>490.0</td>\n",
       "      <td>393.15</td>\n",
       "      <td>2019-12-18</td>\n",
       "      <td>9 days</td>\n",
       "      <td>0.246344</td>\n",
       "      <td>1</td>\n",
       "      <td>1</td>\n",
       "      <td>9 days</td>\n",
       "      <td>False</td>\n",
       "      <td>False</td>\n",
       "      <td>False</td>\n",
       "      <td>False</td>\n",
       "      <td>False</td>\n",
       "      <td>False</td>\n",
       "      <td>False</td>\n",
       "      <td>NaN</td>\n",
       "    </tr>\n",
       "  </tbody>\n",
       "</table>\n",
       "<p>5834 rows × 21 columns</p>\n",
       "</div>"
      ],
      "text/plain": [
       "                        OptionKey ExpirationDate  AskPrice  BidPrice PutCall  \\\n",
       "2019-11-13  TSLA2019-11-15P155.00     2019-11-15      0.05       0.0     put   \n",
       "2019-11-13  TSLA2019-11-15P165.00     2019-11-15      0.01       0.0     put   \n",
       "2019-11-13  TSLA2019-11-15P185.00     2019-11-15      0.03       0.0     put   \n",
       "2019-11-13  TSLA2019-11-15P190.00     2019-11-15      0.02       0.0     put   \n",
       "2019-11-13  TSLA2019-11-15P205.00     2019-11-15      0.03       0.0     put   \n",
       "...                           ...            ...       ...       ...     ...   \n",
       "2019-12-18  TSLA2019-12-27P440.00     2019-12-27     47.90      46.6     put   \n",
       "2019-12-18  TSLA2019-12-27P445.00     2019-12-27     53.00      51.2     put   \n",
       "2019-12-18  TSLA2019-12-27P465.00     2019-12-27     72.60      71.4     put   \n",
       "2019-12-18  TSLA2019-12-27P470.00     2019-12-27     78.15      76.4     put   \n",
       "2019-12-18  TSLA2019-12-27P490.00     2019-12-27     97.60      96.3     put   \n",
       "\n",
       "            StrikePrice  UnderlyingPrice   DataDate time delta     % out  \\\n",
       "2019-11-13        155.0           346.11 2019-11-13     2 days -0.552165   \n",
       "2019-11-13        165.0           346.11 2019-11-13     2 days -0.523273   \n",
       "2019-11-13        185.0           346.11 2019-11-13     2 days -0.465488   \n",
       "2019-11-13        190.0           346.11 2019-11-13     2 days -0.451042   \n",
       "2019-11-13        205.0           346.11 2019-11-13     2 days -0.407703   \n",
       "...                 ...              ...        ...        ...       ...   \n",
       "2019-12-18        440.0           393.15 2019-12-18     9 days  0.119166   \n",
       "2019-12-18        445.0           393.15 2019-12-18     9 days  0.131884   \n",
       "2019-12-18        465.0           393.15 2019-12-18     9 days  0.182755   \n",
       "2019-12-18        470.0           393.15 2019-12-18     9 days  0.195472   \n",
       "2019-12-18        490.0           393.15 2019-12-18     9 days  0.246344   \n",
       "\n",
       "            LSTM Predicted Signal  RF Predicted Value  delta   exp?  \\\n",
       "2019-11-13                      1                   1 2 days  False   \n",
       "2019-11-13                      1                   1 2 days  False   \n",
       "2019-11-13                      1                   1 2 days  False   \n",
       "2019-11-13                      1                   1 2 days  False   \n",
       "2019-11-13                      1                   1 2 days  False   \n",
       "...                           ...                 ...    ...    ...   \n",
       "2019-12-18                      1                   1 9 days  False   \n",
       "2019-12-18                      1                   1 9 days  False   \n",
       "2019-12-18                      1                   1 9 days  False   \n",
       "2019-12-18                      1                   1 9 days  False   \n",
       "2019-12-18                      1                   1 9 days  False   \n",
       "\n",
       "            long_close  long_medium  long_far  short_close  short_medium  \\\n",
       "2019-11-13       False        False     False        False         False   \n",
       "2019-11-13       False        False     False        False         False   \n",
       "2019-11-13       False        False     False        False         False   \n",
       "2019-11-13       False        False     False        False         False   \n",
       "2019-11-13       False        False     False        False         False   \n",
       "...                ...          ...       ...          ...           ...   \n",
       "2019-12-18       False        False     False        False         False   \n",
       "2019-12-18       False        False     False        False         False   \n",
       "2019-12-18       False        False     False        False         False   \n",
       "2019-12-18       False        False     False        False         False   \n",
       "2019-12-18       False        False     False        False         False   \n",
       "\n",
       "            short_far    xp  \n",
       "2019-11-13      False   NaN  \n",
       "2019-11-13      False  0.01  \n",
       "2019-11-13      False   NaN  \n",
       "2019-11-13      False   NaN  \n",
       "2019-11-13      False  0.01  \n",
       "...               ...   ...  \n",
       "2019-12-18      False   NaN  \n",
       "2019-12-18      False   NaN  \n",
       "2019-12-18      False   NaN  \n",
       "2019-12-18      False   NaN  \n",
       "2019-12-18      False   NaN  \n",
       "\n",
       "[5834 rows x 21 columns]"
      ]
     },
     "execution_count": 362,
     "metadata": {},
     "output_type": "execute_result"
    }
   ],
   "source": [
    "df['xp']=df.OptionKey.map(xp.set_index('OptionKey')['xp'])\n",
    "df"
   ]
  },
  {
   "cell_type": "code",
   "execution_count": 363,
   "metadata": {},
   "outputs": [
    {
     "name": "stdout",
     "output_type": "stream",
     "text": [
      "66.73000000000002\n"
     ]
    },
    {
     "name": "stderr",
     "output_type": "stream",
     "text": [
      "<ipython-input-363-1d9b8a5588f6>:2: SettingWithCopyWarning: \n",
      "A value is trying to be set on a copy of a slice from a DataFrame.\n",
      "Try using .loc[row_indexer,col_indexer] = value instead\n",
      "\n",
      "See the caveats in the documentation: https://pandas.pydata.org/pandas-docs/stable/user_guide/indexing.html#returning-a-view-versus-a-copy\n",
      "  short_close_LSTM['log'] = short_close_LSTM['AskPrice'] - short_close_LSTM['xp']\n"
     ]
    }
   ],
   "source": [
    "short_close_LSTM = df.loc[(df['short_close']== True) & (df['LSTM Predicted Signal'] == 1)]\n",
    "short_close_LSTM['log'] = short_close_LSTM['AskPrice'] - short_close_LSTM['xp']\n",
    "short_close_LSTM_total = short_close_LSTM['log'].sum()\n",
    "print(short_close_LSTM_total)"
   ]
  },
  {
   "cell_type": "code",
   "execution_count": 364,
   "metadata": {},
   "outputs": [
    {
     "name": "stdout",
     "output_type": "stream",
     "text": [
      "-183.46999999999997\n"
     ]
    },
    {
     "name": "stderr",
     "output_type": "stream",
     "text": [
      "<ipython-input-364-26e370e263bb>:2: SettingWithCopyWarning: \n",
      "A value is trying to be set on a copy of a slice from a DataFrame.\n",
      "Try using .loc[row_indexer,col_indexer] = value instead\n",
      "\n",
      "See the caveats in the documentation: https://pandas.pydata.org/pandas-docs/stable/user_guide/indexing.html#returning-a-view-versus-a-copy\n",
      "  short_close_RF['log'] = short_close_RF['AskPrice'] - short_close_RF['xp']\n"
     ]
    }
   ],
   "source": [
    "short_close_RF = df.loc[(df['short_close']== True) & (df['RF Predicted Value'] == 1)]\n",
    "short_close_RF['log'] = short_close_RF['AskPrice'] - short_close_RF['xp']\n",
    "short_close_RF_total = short_close_RF['log'].sum()\n",
    "print(short_close_RF_total)"
   ]
  },
  {
   "cell_type": "code",
   "execution_count": 365,
   "metadata": {},
   "outputs": [
    {
     "name": "stdout",
     "output_type": "stream",
     "text": [
      "6.51\n"
     ]
    },
    {
     "name": "stderr",
     "output_type": "stream",
     "text": [
      "<ipython-input-365-47cc65b57caf>:2: SettingWithCopyWarning: \n",
      "A value is trying to be set on a copy of a slice from a DataFrame.\n",
      "Try using .loc[row_indexer,col_indexer] = value instead\n",
      "\n",
      "See the caveats in the documentation: https://pandas.pydata.org/pandas-docs/stable/user_guide/indexing.html#returning-a-view-versus-a-copy\n",
      "  short_medium_LSTM['log'] = short_medium_LSTM['AskPrice'] - short_medium_LSTM['xp']\n"
     ]
    }
   ],
   "source": [
    "short_medium_LSTM = df.loc[(df['short_medium']== True) & (df['LSTM Predicted Signal'] == 1)]\n",
    "short_medium_LSTM['log'] = short_medium_LSTM['AskPrice'] - short_medium_LSTM['xp']\n",
    "short_medium_LSTM_total = short_medium_LSTM['log'].sum()\n",
    "print(short_medium_LSTM_total)"
   ]
  },
  {
   "cell_type": "code",
   "execution_count": 366,
   "metadata": {},
   "outputs": [
    {
     "name": "stdout",
     "output_type": "stream",
     "text": [
      "7.68\n"
     ]
    },
    {
     "name": "stderr",
     "output_type": "stream",
     "text": [
      "<ipython-input-366-3e62de6047f9>:2: SettingWithCopyWarning: \n",
      "A value is trying to be set on a copy of a slice from a DataFrame.\n",
      "Try using .loc[row_indexer,col_indexer] = value instead\n",
      "\n",
      "See the caveats in the documentation: https://pandas.pydata.org/pandas-docs/stable/user_guide/indexing.html#returning-a-view-versus-a-copy\n",
      "  short_medium_RF['log'] = short_medium_RF['AskPrice'] - short_medium_RF['xp']\n"
     ]
    }
   ],
   "source": [
    "short_medium_RF = df.loc[(df['short_medium']== True) & (df['RF Predicted Value'] == 1)]\n",
    "short_medium_RF['log'] = short_medium_RF['AskPrice'] - short_medium_RF['xp']\n",
    "short_medium_RF_total = short_medium_RF['log'].sum()\n",
    "print(short_medium_RF_total)"
   ]
  },
  {
   "cell_type": "code",
   "execution_count": 367,
   "metadata": {},
   "outputs": [
    {
     "name": "stdout",
     "output_type": "stream",
     "text": [
      "0.25999999999999995\n"
     ]
    },
    {
     "name": "stderr",
     "output_type": "stream",
     "text": [
      "<ipython-input-367-97cde8b08bcc>:2: SettingWithCopyWarning: \n",
      "A value is trying to be set on a copy of a slice from a DataFrame.\n",
      "Try using .loc[row_indexer,col_indexer] = value instead\n",
      "\n",
      "See the caveats in the documentation: https://pandas.pydata.org/pandas-docs/stable/user_guide/indexing.html#returning-a-view-versus-a-copy\n",
      "  short_far_LSTM['log'] = short_far_LSTM['AskPrice'] - short_far_LSTM['xp']\n"
     ]
    }
   ],
   "source": [
    "short_far_LSTM = df.loc[(df['short_far']== True) & (df['LSTM Predicted Signal'] == 1)]\n",
    "short_far_LSTM['log'] = short_far_LSTM['AskPrice'] - short_far_LSTM['xp']\n",
    "short_far_LSTM_total = short_far_LSTM['log'].sum()\n",
    "print(short_far_LSTM_total)"
   ]
  },
  {
   "cell_type": "code",
   "execution_count": 368,
   "metadata": {},
   "outputs": [
    {
     "name": "stdout",
     "output_type": "stream",
     "text": [
      "0.47\n"
     ]
    },
    {
     "name": "stderr",
     "output_type": "stream",
     "text": [
      "<ipython-input-368-18c5042b77ee>:2: SettingWithCopyWarning: \n",
      "A value is trying to be set on a copy of a slice from a DataFrame.\n",
      "Try using .loc[row_indexer,col_indexer] = value instead\n",
      "\n",
      "See the caveats in the documentation: https://pandas.pydata.org/pandas-docs/stable/user_guide/indexing.html#returning-a-view-versus-a-copy\n",
      "  short_far_RF['log'] = short_far_RF['AskPrice'] - short_far_RF['xp']\n"
     ]
    }
   ],
   "source": [
    "short_far_RF = df.loc[(df['short_far']== True) & (df['RF Predicted Value'] == 1)]\n",
    "short_far_RF['log'] = short_far_RF['AskPrice'] - short_far_RF['xp']\n",
    "short_far_RF_total = short_far_RF['log'].sum()\n",
    "print(short_far_RF_total)"
   ]
  },
  {
   "cell_type": "code",
   "execution_count": 369,
   "metadata": {},
   "outputs": [
    {
     "name": "stderr",
     "output_type": "stream",
     "text": [
      "<ipython-input-369-14bc539d4f68>:2: SettingWithCopyWarning: \n",
      "A value is trying to be set on a copy of a slice from a DataFrame.\n",
      "Try using .loc[row_indexer,col_indexer] = value instead\n",
      "\n",
      "See the caveats in the documentation: https://pandas.pydata.org/pandas-docs/stable/user_guide/indexing.html#returning-a-view-versus-a-copy\n",
      "  long_close_LSTM['log'] = long_close_LSTM['AskPrice'] - long_close_LSTM['xp']\n"
     ]
    },
    {
     "name": "stdout",
     "output_type": "stream",
     "text": [
      "183.60000000000002\n"
     ]
    }
   ],
   "source": [
    "long_close_LSTM = df.loc[(df['long_close']== True) & (df['LSTM Predicted Signal'] == 1)]\n",
    "long_close_LSTM['log'] = long_close_LSTM['AskPrice'] - long_close_LSTM['xp']\n",
    "long_close_LSTM_total = long_close_LSTM['log'].sum()\n",
    "print(long_close_LSTM_total)"
   ]
  },
  {
   "cell_type": "code",
   "execution_count": 370,
   "metadata": {},
   "outputs": [
    {
     "name": "stderr",
     "output_type": "stream",
     "text": [
      "<ipython-input-370-2c96faa3b979>:2: SettingWithCopyWarning: \n",
      "A value is trying to be set on a copy of a slice from a DataFrame.\n",
      "Try using .loc[row_indexer,col_indexer] = value instead\n",
      "\n",
      "See the caveats in the documentation: https://pandas.pydata.org/pandas-docs/stable/user_guide/indexing.html#returning-a-view-versus-a-copy\n",
      "  long_close_RF['log'] = long_close_RF['AskPrice'] - long_close_RF['xp']\n"
     ]
    },
    {
     "name": "stdout",
     "output_type": "stream",
     "text": [
      "-284.4199999999999\n"
     ]
    }
   ],
   "source": [
    "long_close_RF = df.loc[(df['long_close']== True) & (df['RF Predicted Value'] == 1)]\n",
    "long_close_RF['log'] = long_close_RF['AskPrice'] - long_close_RF['xp']\n",
    "long_close_RF_total = long_close_RF['log'].sum()\n",
    "print(long_close_RF_total)"
   ]
  },
  {
   "cell_type": "code",
   "execution_count": 371,
   "metadata": {},
   "outputs": [
    {
     "name": "stderr",
     "output_type": "stream",
     "text": [
      "<ipython-input-371-42ba9debbf05>:2: SettingWithCopyWarning: \n",
      "A value is trying to be set on a copy of a slice from a DataFrame.\n",
      "Try using .loc[row_indexer,col_indexer] = value instead\n",
      "\n",
      "See the caveats in the documentation: https://pandas.pydata.org/pandas-docs/stable/user_guide/indexing.html#returning-a-view-versus-a-copy\n",
      "  long_far_RF['log'] = long_far_RF['AskPrice'] - long_far_RF['xp']\n"
     ]
    },
    {
     "name": "stdout",
     "output_type": "stream",
     "text": [
      "1.19\n"
     ]
    }
   ],
   "source": [
    "long_far_RF = df.loc[(df['long_far']== True) & (df['RF Predicted Value'] == 1)]\n",
    "long_far_RF['log'] = long_far_RF['AskPrice'] - long_far_RF['xp']\n",
    "long_far_RF_total = long_far_RF['log'].sum()\n",
    "print(long_far_RF_total)"
   ]
  },
  {
   "cell_type": "code",
   "execution_count": 372,
   "metadata": {},
   "outputs": [
    {
     "name": "stdout",
     "output_type": "stream",
     "text": [
      "0.4\n"
     ]
    },
    {
     "name": "stderr",
     "output_type": "stream",
     "text": [
      "<ipython-input-372-ded057f9d0d2>:2: SettingWithCopyWarning: \n",
      "A value is trying to be set on a copy of a slice from a DataFrame.\n",
      "Try using .loc[row_indexer,col_indexer] = value instead\n",
      "\n",
      "See the caveats in the documentation: https://pandas.pydata.org/pandas-docs/stable/user_guide/indexing.html#returning-a-view-versus-a-copy\n",
      "  long_far_LSTM['log'] = long_far_LSTM['AskPrice'] - long_far_LSTM['xp']\n"
     ]
    }
   ],
   "source": [
    "long_far_LSTM = df.loc[(df['long_far']== True) & (df['LSTM Predicted Signal'] == 1)]\n",
    "long_far_LSTM['log'] = long_far_LSTM['AskPrice'] - long_far_LSTM['xp']\n",
    "long_far_LSTM_total = long_far_LSTM['log'].sum()\n",
    "print(long_far_LSTM_total)"
   ]
  },
  {
   "cell_type": "code",
   "execution_count": 373,
   "metadata": {},
   "outputs": [
    {
     "name": "stderr",
     "output_type": "stream",
     "text": [
      "<ipython-input-373-e86d80339e6e>:2: SettingWithCopyWarning: \n",
      "A value is trying to be set on a copy of a slice from a DataFrame.\n",
      "Try using .loc[row_indexer,col_indexer] = value instead\n",
      "\n",
      "See the caveats in the documentation: https://pandas.pydata.org/pandas-docs/stable/user_guide/indexing.html#returning-a-view-versus-a-copy\n",
      "  long_medium_LSTM['log'] = long_medium_LSTM['AskPrice'] - long_medium_LSTM['xp']\n"
     ]
    },
    {
     "name": "stdout",
     "output_type": "stream",
     "text": [
      "17.59\n"
     ]
    }
   ],
   "source": [
    "long_medium_LSTM = df.loc[(df['long_medium']== True) & (df['LSTM Predicted Signal'] == 1)]\n",
    "long_medium_LSTM['log'] = long_medium_LSTM['AskPrice'] - long_medium_LSTM['xp']\n",
    "long_medium_LSTM_total = long_medium_LSTM['log'].sum()\n",
    "print(long_medium_LSTM_total)"
   ]
  },
  {
   "cell_type": "code",
   "execution_count": 374,
   "metadata": {},
   "outputs": [
    {
     "name": "stdout",
     "output_type": "stream",
     "text": [
      "27.610000000000003\n"
     ]
    },
    {
     "name": "stderr",
     "output_type": "stream",
     "text": [
      "<ipython-input-374-29d39dcc6c84>:2: SettingWithCopyWarning: \n",
      "A value is trying to be set on a copy of a slice from a DataFrame.\n",
      "Try using .loc[row_indexer,col_indexer] = value instead\n",
      "\n",
      "See the caveats in the documentation: https://pandas.pydata.org/pandas-docs/stable/user_guide/indexing.html#returning-a-view-versus-a-copy\n",
      "  long_medium_RF['log'] = long_medium_RF['AskPrice'] - long_medium_RF['xp']\n"
     ]
    }
   ],
   "source": [
    "long_medium_RF = df.loc[(df['long_medium']== True) & (df['RF Predicted Value'] == 1)]\n",
    "long_medium_RF['log'] = long_medium_RF['AskPrice'] - long_medium_RF['xp']\n",
    "long_medium_RF_total = long_medium_RF['log'].sum()\n",
    "print(long_medium_RF_total)"
   ]
  },
  {
   "cell_type": "code",
   "execution_count": 375,
   "metadata": {},
   "outputs": [],
   "source": [
    "df = pd.DataFrame()\n",
    "df['short_close_negatives_RF'] =(short_close_RF.log[(short_close_RF.log < 0)]).count(),\n",
    "df['short_close_positives_RF'] =(short_close_RF.log[(short_close_RF.log > 0)]).count(),\n",
    "\n",
    "df['short_close_negatives_LSTM'] =(short_close_LSTM.log[(short_close_LSTM.log < 0)]).count(),\n",
    "df['short_close_positives_LSTM'] =(short_close_LSTM.log[(short_close_LSTM.log > 0)]).count(),\n",
    "\n",
    "df['short_medium_negatives_RF'] =(short_medium_RF.log[(short_medium_RF.log < 0)]).count(),\n",
    "df['short_medium_positives_RF'] =(short_medium_RF.log[(short_medium_RF.log > 0)]).count(),\n",
    "\n",
    "df['short_medium_negatives_LSTM'] =(short_medium_LSTM.log[(short_medium_LSTM.log < 0)]).count(),\n",
    "df['short_medium_positives_LSTM'] =(short_medium_LSTM.log[(short_medium_LSTM.log > 0)]).count(),\n",
    "\n",
    "df['short_far_negatives_RF'] =(short_far_RF.log[(short_far_RF.log < 0)]).count(),\n",
    "df['short_far_positives_RF'] =(short_far_RF.log[(short_far_RF.log > 0)]).count(),\n",
    "\n",
    "df['short_far_negatives_LSTM'] =(short_far_LSTM.log[(short_far_LSTM.log < 0)]).count(),\n",
    "df['short_far_positives_LSTM'] =(short_far_LSTM.log[(short_far_LSTM.log > 0)]).count()\n"
   ]
  },
  {
   "cell_type": "code",
   "execution_count": 431,
   "metadata": {},
   "outputs": [
    {
     "data": {
      "image/png": "[encoded data removed]",
      "text/plain": [
       "<Figure size 1440x720 with 1 Axes>"
      ]
     },
     "metadata": {
      "needs_background": "light"
     },
     "output_type": "display_data"
    }
   ],
   "source": [
    "df = df.plot(kind = 'bar', figsize = (20,10), title = \"Positive vs Negative Count over Short Expiration Window (weekly)\").get_figure()"
   ]
  },
  {
   "cell_type": "code",
   "execution_count": 432,
   "metadata": {},
   "outputs": [],
   "source": [
    "df.savefig('tsla_neg_pos')"
   ]
  },
  {
   "cell_type": "code",
   "execution_count": 377,
   "metadata": {},
   "outputs": [],
   "source": [
    "lf = pd.DataFrame()\n",
    "lf['long_close_negatives_RF'] =(long_close_RF.log[(long_close_RF.log < 0)]).count(),\n",
    "lf['long_close_positives_RF'] =(long_close_RF.log[(long_close_RF.log > 0)]).count(),\n",
    "\n",
    "lf['long_close_negatives_LSTM'] =(long_close_LSTM.log[(long_close_LSTM.log < 0)]).count(),\n",
    "lf['long_close_positives_LSTM'] =(long_close_LSTM.log[(long_close_LSTM.log > 0)]).count(),\n",
    "\n",
    "lf['long_medium_negatives_RF'] =(long_medium_RF.log[(long_medium_RF.log < 0)]).count(),\n",
    "lf['long_medium_positives_RF'] =(long_medium_RF.log[(long_medium_RF.log > 0)]).count(),\n",
    "\n",
    "lf['long_medium_negatives_LSTM'] =(long_medium_LSTM.log[(long_medium_LSTM.log < 0)]).count(),\n",
    "lf['long_medium_positives_LSTM'] =(long_medium_LSTM.log[(long_medium_LSTM.log > 0)]).count(),\n",
    "\n",
    "lf['long_far_negatives_RF'] =(long_far_RF.log[(long_far_RF.log < 0)]).count(),\n",
    "lf['long_far_positives_RF'] =(long_far_RF.log[(long_far_RF.log > 0)]).count(),\n",
    "\n",
    "lf['long_far_negatives_LSTM'] =(long_far_LSTM.log[(long_far_LSTM.log < 0)]).count(),\n",
    "lf['long_far_positives_LSTM'] =(long_far_LSTM.log[(long_far_LSTM.log > 0)]).count()"
   ]
  },
  {
   "cell_type": "code",
   "execution_count": 433,
   "metadata": {},
   "outputs": [
    {
     "data": {
      "image/png": "[encoded data removed]",
      "text/plain": [
       "<Figure size 1440x720 with 1 Axes>"
      ]
     },
     "metadata": {
      "needs_background": "light"
     },
     "output_type": "display_data"
    }
   ],
   "source": [
    "lf=lf.plot(kind = 'bar', figsize = (20,10), title = \"Positive vs Negative Count over Short Expiration Window (bi-weekly)\").get_figure()"
   ]
  },
  {
   "cell_type": "code",
   "execution_count": 434,
   "metadata": {},
   "outputs": [],
   "source": [
    "lf.savefig('tsla_neg_pos_lf')"
   ]
  },
  {
   "cell_type": "code",
   "execution_count": 391,
   "metadata": {},
   "outputs": [],
   "source": [
    "short_equity_curve = pd.DataFrame()\n",
    "short_equity_curve['short_close_RF_group'] = short_close_RF['log'].groupby(short_close_RF.index).sum()\n",
    "short_equity_curve['short_close_LSTM_group'] = short_close_LSTM['log'].groupby(short_close_LSTM.index).sum()\n",
    "short_equity_curve['short_medium_RF_group'] = short_medium_RF['log'].groupby(short_medium_RF.index).sum()\n",
    "short_equity_curve['short_medium_LSTM_group'] = short_medium_LSTM['log'].groupby(short_medium_LSTM.index).sum()\n",
    "short_equity_curve['short_far_RF_group'] = short_far_RF['log'].groupby(short_far_RF.index).sum()\n",
    "short_equity_curve['short_far_LSTM_group'] = short_far_LSTM['log'].groupby(short_far_LSTM.index).sum()"
   ]
  },
  {
   "cell_type": "code",
   "execution_count": 392,
   "metadata": {},
   "outputs": [
    {
     "data": {
      "text/html": [
       "<div>\n",
       "<style scoped>\n",
       "    .dataframe tbody tr th:only-of-type {\n",
       "        vertical-align: middle;\n",
       "    }\n",
       "\n",
       "    .dataframe tbody tr th {\n",
       "        vertical-align: top;\n",
       "    }\n",
       "\n",
       "    .dataframe thead th {\n",
       "        text-align: right;\n",
       "    }\n",
       "</style>\n",
       "<table border=\"1\" class=\"dataframe\">\n",
       "  <thead>\n",
       "    <tr style=\"text-align: right;\">\n",
       "      <th></th>\n",
       "      <th>short_close_RF_group</th>\n",
       "      <th>short_close_LSTM_group</th>\n",
       "      <th>short_medium_RF_group</th>\n",
       "      <th>short_medium_LSTM_group</th>\n",
       "      <th>short_far_RF_group</th>\n",
       "      <th>short_far_LSTM_group</th>\n",
       "    </tr>\n",
       "  </thead>\n",
       "  <tbody>\n",
       "    <tr>\n",
       "      <th>2019-11-13</th>\n",
       "      <td>10.51</td>\n",
       "      <td>10.51</td>\n",
       "      <td>0.26</td>\n",
       "      <td>0.26</td>\n",
       "      <td>0.03</td>\n",
       "      <td>0.03</td>\n",
       "    </tr>\n",
       "    <tr>\n",
       "      <th>2019-11-14</th>\n",
       "      <td>14.86</td>\n",
       "      <td>14.86</td>\n",
       "      <td>0.38</td>\n",
       "      <td>0.38</td>\n",
       "      <td>0.03</td>\n",
       "      <td>0.03</td>\n",
       "    </tr>\n",
       "    <tr>\n",
       "      <th>2019-11-15</th>\n",
       "      <td>-22.41</td>\n",
       "      <td>-22.41</td>\n",
       "      <td>1.30</td>\n",
       "      <td>1.30</td>\n",
       "      <td>0.08</td>\n",
       "      <td>0.08</td>\n",
       "    </tr>\n",
       "    <tr>\n",
       "      <th>2019-11-18</th>\n",
       "      <td>-52.56</td>\n",
       "      <td>-52.56</td>\n",
       "      <td>1.81</td>\n",
       "      <td>1.81</td>\n",
       "      <td>0.09</td>\n",
       "      <td>0.09</td>\n",
       "    </tr>\n",
       "    <tr>\n",
       "      <th>2019-11-19</th>\n",
       "      <td>-166.64</td>\n",
       "      <td>-34.16</td>\n",
       "      <td>2.74</td>\n",
       "      <td>2.70</td>\n",
       "      <td>0.22</td>\n",
       "      <td>0.13</td>\n",
       "    </tr>\n",
       "    <tr>\n",
       "      <th>2019-11-20</th>\n",
       "      <td>-215.04</td>\n",
       "      <td>-34.16</td>\n",
       "      <td>3.36</td>\n",
       "      <td>2.70</td>\n",
       "      <td>0.24</td>\n",
       "      <td>0.13</td>\n",
       "    </tr>\n",
       "    <tr>\n",
       "      <th>2019-11-21</th>\n",
       "      <td>-286.19</td>\n",
       "      <td>-34.16</td>\n",
       "      <td>4.19</td>\n",
       "      <td>2.70</td>\n",
       "      <td>0.26</td>\n",
       "      <td>0.13</td>\n",
       "    </tr>\n",
       "    <tr>\n",
       "      <th>2019-11-22</th>\n",
       "      <td>-263.85</td>\n",
       "      <td>-34.16</td>\n",
       "      <td>4.56</td>\n",
       "      <td>2.70</td>\n",
       "      <td>0.33</td>\n",
       "      <td>0.13</td>\n",
       "    </tr>\n",
       "    <tr>\n",
       "      <th>2019-11-26</th>\n",
       "      <td>-258.48</td>\n",
       "      <td>-34.16</td>\n",
       "      <td>4.64</td>\n",
       "      <td>2.70</td>\n",
       "      <td>0.33</td>\n",
       "      <td>0.13</td>\n",
       "    </tr>\n",
       "    <tr>\n",
       "      <th>2019-11-27</th>\n",
       "      <td>-256.52</td>\n",
       "      <td>-34.16</td>\n",
       "      <td>4.66</td>\n",
       "      <td>2.70</td>\n",
       "      <td>0.33</td>\n",
       "      <td>0.13</td>\n",
       "    </tr>\n",
       "    <tr>\n",
       "      <th>2019-11-29</th>\n",
       "      <td>-238.12</td>\n",
       "      <td>-34.16</td>\n",
       "      <td>5.55</td>\n",
       "      <td>2.70</td>\n",
       "      <td>0.37</td>\n",
       "      <td>0.13</td>\n",
       "    </tr>\n",
       "    <tr>\n",
       "      <th>2019-12-02</th>\n",
       "      <td>-224.41</td>\n",
       "      <td>-20.45</td>\n",
       "      <td>6.20</td>\n",
       "      <td>3.35</td>\n",
       "      <td>0.40</td>\n",
       "      <td>0.16</td>\n",
       "    </tr>\n",
       "    <tr>\n",
       "      <th>2019-12-03</th>\n",
       "      <td>-212.42</td>\n",
       "      <td>-8.46</td>\n",
       "      <td>6.50</td>\n",
       "      <td>3.65</td>\n",
       "      <td>0.46</td>\n",
       "      <td>0.22</td>\n",
       "    </tr>\n",
       "    <tr>\n",
       "      <th>2019-12-05</th>\n",
       "      <td>-208.24</td>\n",
       "      <td>-4.28</td>\n",
       "      <td>6.57</td>\n",
       "      <td>3.72</td>\n",
       "      <td>0.46</td>\n",
       "      <td>0.22</td>\n",
       "    </tr>\n",
       "    <tr>\n",
       "      <th>2019-12-06</th>\n",
       "      <td>-187.13</td>\n",
       "      <td>16.83</td>\n",
       "      <td>7.40</td>\n",
       "      <td>4.55</td>\n",
       "      <td>0.47</td>\n",
       "      <td>0.23</td>\n",
       "    </tr>\n",
       "    <tr>\n",
       "      <th>2019-12-12</th>\n",
       "      <td>-183.47</td>\n",
       "      <td>20.49</td>\n",
       "      <td>7.68</td>\n",
       "      <td>4.83</td>\n",
       "      <td>0.47</td>\n",
       "      <td>0.23</td>\n",
       "    </tr>\n",
       "    <tr>\n",
       "      <th>2019-12-13</th>\n",
       "      <td>-183.47</td>\n",
       "      <td>20.49</td>\n",
       "      <td>7.68</td>\n",
       "      <td>4.83</td>\n",
       "      <td>0.47</td>\n",
       "      <td>0.23</td>\n",
       "    </tr>\n",
       "    <tr>\n",
       "      <th>2019-12-16</th>\n",
       "      <td>-183.47</td>\n",
       "      <td>20.49</td>\n",
       "      <td>7.68</td>\n",
       "      <td>4.83</td>\n",
       "      <td>0.47</td>\n",
       "      <td>0.23</td>\n",
       "    </tr>\n",
       "    <tr>\n",
       "      <th>2019-12-17</th>\n",
       "      <td>-183.47</td>\n",
       "      <td>20.49</td>\n",
       "      <td>7.68</td>\n",
       "      <td>4.83</td>\n",
       "      <td>0.47</td>\n",
       "      <td>0.23</td>\n",
       "    </tr>\n",
       "    <tr>\n",
       "      <th>2019-12-18</th>\n",
       "      <td>-183.47</td>\n",
       "      <td>20.49</td>\n",
       "      <td>7.68</td>\n",
       "      <td>4.83</td>\n",
       "      <td>0.47</td>\n",
       "      <td>0.23</td>\n",
       "    </tr>\n",
       "  </tbody>\n",
       "</table>\n",
       "</div>"
      ],
      "text/plain": [
       "            short_close_RF_group  short_close_LSTM_group  \\\n",
       "2019-11-13                 10.51                   10.51   \n",
       "2019-11-14                 14.86                   14.86   \n",
       "2019-11-15                -22.41                  -22.41   \n",
       "2019-11-18                -52.56                  -52.56   \n",
       "2019-11-19               -166.64                  -34.16   \n",
       "2019-11-20               -215.04                  -34.16   \n",
       "2019-11-21               -286.19                  -34.16   \n",
       "2019-11-22               -263.85                  -34.16   \n",
       "2019-11-26               -258.48                  -34.16   \n",
       "2019-11-27               -256.52                  -34.16   \n",
       "2019-11-29               -238.12                  -34.16   \n",
       "2019-12-02               -224.41                  -20.45   \n",
       "2019-12-03               -212.42                   -8.46   \n",
       "2019-12-05               -208.24                   -4.28   \n",
       "2019-12-06               -187.13                   16.83   \n",
       "2019-12-12               -183.47                   20.49   \n",
       "2019-12-13               -183.47                   20.49   \n",
       "2019-12-16               -183.47                   20.49   \n",
       "2019-12-17               -183.47                   20.49   \n",
       "2019-12-18               -183.47                   20.49   \n",
       "\n",
       "            short_medium_RF_group  short_medium_LSTM_group  \\\n",
       "2019-11-13                   0.26                     0.26   \n",
       "2019-11-14                   0.38                     0.38   \n",
       "2019-11-15                   1.30                     1.30   \n",
       "2019-11-18                   1.81                     1.81   \n",
       "2019-11-19                   2.74                     2.70   \n",
       "2019-11-20                   3.36                     2.70   \n",
       "2019-11-21                   4.19                     2.70   \n",
       "2019-11-22                   4.56                     2.70   \n",
       "2019-11-26                   4.64                     2.70   \n",
       "2019-11-27                   4.66                     2.70   \n",
       "2019-11-29                   5.55                     2.70   \n",
       "2019-12-02                   6.20                     3.35   \n",
       "2019-12-03                   6.50                     3.65   \n",
       "2019-12-05                   6.57                     3.72   \n",
       "2019-12-06                   7.40                     4.55   \n",
       "2019-12-12                   7.68                     4.83   \n",
       "2019-12-13                   7.68                     4.83   \n",
       "2019-12-16                   7.68                     4.83   \n",
       "2019-12-17                   7.68                     4.83   \n",
       "2019-12-18                   7.68                     4.83   \n",
       "\n",
       "            short_far_RF_group  short_far_LSTM_group  \n",
       "2019-11-13                0.03                  0.03  \n",
       "2019-11-14                0.03                  0.03  \n",
       "2019-11-15                0.08                  0.08  \n",
       "2019-11-18                0.09                  0.09  \n",
       "2019-11-19                0.22                  0.13  \n",
       "2019-11-20                0.24                  0.13  \n",
       "2019-11-21                0.26                  0.13  \n",
       "2019-11-22                0.33                  0.13  \n",
       "2019-11-26                0.33                  0.13  \n",
       "2019-11-27                0.33                  0.13  \n",
       "2019-11-29                0.37                  0.13  \n",
       "2019-12-02                0.40                  0.16  \n",
       "2019-12-03                0.46                  0.22  \n",
       "2019-12-05                0.46                  0.22  \n",
       "2019-12-06                0.47                  0.23  \n",
       "2019-12-12                0.47                  0.23  \n",
       "2019-12-13                0.47                  0.23  \n",
       "2019-12-16                0.47                  0.23  \n",
       "2019-12-17                0.47                  0.23  \n",
       "2019-12-18                0.47                  0.23  "
      ]
     },
     "execution_count": 392,
     "metadata": {},
     "output_type": "execute_result"
    }
   ],
   "source": [
    "short_equity_curve = short_equity_curve.cumsum()\n",
    "short_equity_curve = short_equity_curve.fillna(method = 'backfill' )\n",
    "short_equity_curve"
   ]
  },
  {
   "cell_type": "code",
   "execution_count": 403,
   "metadata": {},
   "outputs": [
    {
     "data": {
      "image/png": "[encoded data removed]",
      "text/plain": [
       "<Figure size 1440x720 with 1 Axes>"
      ]
     },
     "metadata": {
      "needs_background": "light"
     },
     "output_type": "display_data"
    }
   ],
   "source": [
    "se = short_equity_curve.plot(kind ='line', figsize = (20,10),title =\"Weekly Close Position Equity Curve\").get_figure()"
   ]
  },
  {
   "cell_type": "code",
   "execution_count": 404,
   "metadata": {},
   "outputs": [],
   "source": [
    "se.savefig('tsla_short_equity_curve')"
   ]
  },
  {
   "cell_type": "code",
   "execution_count": 394,
   "metadata": {},
   "outputs": [],
   "source": [
    "long_equity_curve = pd.DataFrame()\n",
    "long_equity_curve['long_close_RF_group'] = long_close_RF['log'].groupby(long_close_RF.index).sum()\n",
    "long_equity_curve['long_close_LSTM_group'] =long_close_LSTM['log'].groupby(long_close_LSTM.index).sum()\n",
    "long_equity_curve['long_medium_RF_group'] = long_medium_RF['log'].groupby(long_medium_RF.index).sum()\n",
    "long_equity_curve['long_medium_LSTM_group'] = long_medium_LSTM['log'].groupby(long_medium_LSTM.index).sum()\n",
    "long_equity_curve['long_far_RF_group'] = long_far_RF['log'].groupby(long_far_RF.index).sum()\n",
    "long_equity_curve['long_far_LSTM_group'] = long_far_LSTM['log'].groupby(long_far_LSTM.index).sum()"
   ]
  },
  {
   "cell_type": "code",
   "execution_count": 395,
   "metadata": {},
   "outputs": [
    {
     "data": {
      "text/html": [
       "<div>\n",
       "<style scoped>\n",
       "    .dataframe tbody tr th:only-of-type {\n",
       "        vertical-align: middle;\n",
       "    }\n",
       "\n",
       "    .dataframe tbody tr th {\n",
       "        vertical-align: top;\n",
       "    }\n",
       "\n",
       "    .dataframe thead th {\n",
       "        text-align: right;\n",
       "    }\n",
       "</style>\n",
       "<table border=\"1\" class=\"dataframe\">\n",
       "  <thead>\n",
       "    <tr style=\"text-align: right;\">\n",
       "      <th></th>\n",
       "      <th>long_close_RF_group</th>\n",
       "      <th>long_close_LSTM_group</th>\n",
       "      <th>long_medium_RF_group</th>\n",
       "      <th>long_medium_LSTM_group</th>\n",
       "      <th>long_far_RF_group</th>\n",
       "      <th>long_far_LSTM_group</th>\n",
       "    </tr>\n",
       "  </thead>\n",
       "  <tbody>\n",
       "    <tr>\n",
       "      <th>2019-11-13</th>\n",
       "      <td>23.74</td>\n",
       "      <td>23.74</td>\n",
       "      <td>3.24</td>\n",
       "      <td>3.24</td>\n",
       "      <td>0.13</td>\n",
       "      <td>0.13</td>\n",
       "    </tr>\n",
       "    <tr>\n",
       "      <th>2019-11-14</th>\n",
       "      <td>20.64</td>\n",
       "      <td>20.64</td>\n",
       "      <td>5.56</td>\n",
       "      <td>5.56</td>\n",
       "      <td>0.17</td>\n",
       "      <td>0.17</td>\n",
       "    </tr>\n",
       "    <tr>\n",
       "      <th>2019-11-15</th>\n",
       "      <td>-16.63</td>\n",
       "      <td>-16.63</td>\n",
       "      <td>6.48</td>\n",
       "      <td>6.48</td>\n",
       "      <td>0.22</td>\n",
       "      <td>0.22</td>\n",
       "    </tr>\n",
       "    <tr>\n",
       "      <th>2019-11-18</th>\n",
       "      <td>-73.89</td>\n",
       "      <td>-73.89</td>\n",
       "      <td>8.65</td>\n",
       "      <td>8.65</td>\n",
       "      <td>0.23</td>\n",
       "      <td>0.23</td>\n",
       "    </tr>\n",
       "    <tr>\n",
       "      <th>2019-11-19</th>\n",
       "      <td>-306.20</td>\n",
       "      <td>-55.49</td>\n",
       "      <td>12.35</td>\n",
       "      <td>9.54</td>\n",
       "      <td>0.57</td>\n",
       "      <td>0.27</td>\n",
       "    </tr>\n",
       "    <tr>\n",
       "      <th>2019-11-20</th>\n",
       "      <td>-401.85</td>\n",
       "      <td>-55.49</td>\n",
       "      <td>15.57</td>\n",
       "      <td>9.54</td>\n",
       "      <td>0.68</td>\n",
       "      <td>0.27</td>\n",
       "    </tr>\n",
       "    <tr>\n",
       "      <th>2019-11-21</th>\n",
       "      <td>-543.87</td>\n",
       "      <td>-55.49</td>\n",
       "      <td>18.82</td>\n",
       "      <td>9.54</td>\n",
       "      <td>0.82</td>\n",
       "      <td>0.27</td>\n",
       "    </tr>\n",
       "    <tr>\n",
       "      <th>2019-11-22</th>\n",
       "      <td>-521.53</td>\n",
       "      <td>-55.49</td>\n",
       "      <td>19.19</td>\n",
       "      <td>9.54</td>\n",
       "      <td>0.89</td>\n",
       "      <td>0.27</td>\n",
       "    </tr>\n",
       "    <tr>\n",
       "      <th>2019-11-26</th>\n",
       "      <td>-488.04</td>\n",
       "      <td>-55.49</td>\n",
       "      <td>20.08</td>\n",
       "      <td>9.54</td>\n",
       "      <td>0.99</td>\n",
       "      <td>0.27</td>\n",
       "    </tr>\n",
       "    <tr>\n",
       "      <th>2019-11-27</th>\n",
       "      <td>-462.00</td>\n",
       "      <td>-55.49</td>\n",
       "      <td>21.05</td>\n",
       "      <td>9.54</td>\n",
       "      <td>1.05</td>\n",
       "      <td>0.27</td>\n",
       "    </tr>\n",
       "    <tr>\n",
       "      <th>2019-11-29</th>\n",
       "      <td>-443.60</td>\n",
       "      <td>-55.49</td>\n",
       "      <td>21.94</td>\n",
       "      <td>9.54</td>\n",
       "      <td>1.09</td>\n",
       "      <td>0.27</td>\n",
       "    </tr>\n",
       "    <tr>\n",
       "      <th>2019-12-02</th>\n",
       "      <td>-391.97</td>\n",
       "      <td>-3.86</td>\n",
       "      <td>24.50</td>\n",
       "      <td>12.10</td>\n",
       "      <td>1.12</td>\n",
       "      <td>0.30</td>\n",
       "    </tr>\n",
       "    <tr>\n",
       "      <th>2019-12-03</th>\n",
       "      <td>-339.92</td>\n",
       "      <td>48.19</td>\n",
       "      <td>25.91</td>\n",
       "      <td>13.51</td>\n",
       "      <td>1.18</td>\n",
       "      <td>0.36</td>\n",
       "    </tr>\n",
       "    <tr>\n",
       "      <th>2019-12-05</th>\n",
       "      <td>-309.19</td>\n",
       "      <td>78.92</td>\n",
       "      <td>26.50</td>\n",
       "      <td>14.10</td>\n",
       "      <td>1.18</td>\n",
       "      <td>0.36</td>\n",
       "    </tr>\n",
       "    <tr>\n",
       "      <th>2019-12-06</th>\n",
       "      <td>-288.08</td>\n",
       "      <td>100.03</td>\n",
       "      <td>27.33</td>\n",
       "      <td>14.93</td>\n",
       "      <td>1.19</td>\n",
       "      <td>0.37</td>\n",
       "    </tr>\n",
       "    <tr>\n",
       "      <th>2019-12-12</th>\n",
       "      <td>-284.42</td>\n",
       "      <td>103.69</td>\n",
       "      <td>27.61</td>\n",
       "      <td>15.21</td>\n",
       "      <td>1.19</td>\n",
       "      <td>0.37</td>\n",
       "    </tr>\n",
       "    <tr>\n",
       "      <th>2019-12-13</th>\n",
       "      <td>-284.42</td>\n",
       "      <td>103.69</td>\n",
       "      <td>27.61</td>\n",
       "      <td>15.21</td>\n",
       "      <td>1.19</td>\n",
       "      <td>0.37</td>\n",
       "    </tr>\n",
       "    <tr>\n",
       "      <th>2019-12-16</th>\n",
       "      <td>-284.42</td>\n",
       "      <td>103.69</td>\n",
       "      <td>27.61</td>\n",
       "      <td>15.21</td>\n",
       "      <td>1.19</td>\n",
       "      <td>0.37</td>\n",
       "    </tr>\n",
       "    <tr>\n",
       "      <th>2019-12-17</th>\n",
       "      <td>-284.42</td>\n",
       "      <td>103.69</td>\n",
       "      <td>27.61</td>\n",
       "      <td>15.21</td>\n",
       "      <td>1.19</td>\n",
       "      <td>0.37</td>\n",
       "    </tr>\n",
       "    <tr>\n",
       "      <th>2019-12-18</th>\n",
       "      <td>-284.42</td>\n",
       "      <td>103.69</td>\n",
       "      <td>27.61</td>\n",
       "      <td>15.21</td>\n",
       "      <td>1.19</td>\n",
       "      <td>0.37</td>\n",
       "    </tr>\n",
       "  </tbody>\n",
       "</table>\n",
       "</div>"
      ],
      "text/plain": [
       "            long_close_RF_group  long_close_LSTM_group  long_medium_RF_group  \\\n",
       "2019-11-13                23.74                  23.74                  3.24   \n",
       "2019-11-14                20.64                  20.64                  5.56   \n",
       "2019-11-15               -16.63                 -16.63                  6.48   \n",
       "2019-11-18               -73.89                 -73.89                  8.65   \n",
       "2019-11-19              -306.20                 -55.49                 12.35   \n",
       "2019-11-20              -401.85                 -55.49                 15.57   \n",
       "2019-11-21              -543.87                 -55.49                 18.82   \n",
       "2019-11-22              -521.53                 -55.49                 19.19   \n",
       "2019-11-26              -488.04                 -55.49                 20.08   \n",
       "2019-11-27              -462.00                 -55.49                 21.05   \n",
       "2019-11-29              -443.60                 -55.49                 21.94   \n",
       "2019-12-02              -391.97                  -3.86                 24.50   \n",
       "2019-12-03              -339.92                  48.19                 25.91   \n",
       "2019-12-05              -309.19                  78.92                 26.50   \n",
       "2019-12-06              -288.08                 100.03                 27.33   \n",
       "2019-12-12              -284.42                 103.69                 27.61   \n",
       "2019-12-13              -284.42                 103.69                 27.61   \n",
       "2019-12-16              -284.42                 103.69                 27.61   \n",
       "2019-12-17              -284.42                 103.69                 27.61   \n",
       "2019-12-18              -284.42                 103.69                 27.61   \n",
       "\n",
       "            long_medium_LSTM_group  long_far_RF_group  long_far_LSTM_group  \n",
       "2019-11-13                    3.24               0.13                 0.13  \n",
       "2019-11-14                    5.56               0.17                 0.17  \n",
       "2019-11-15                    6.48               0.22                 0.22  \n",
       "2019-11-18                    8.65               0.23                 0.23  \n",
       "2019-11-19                    9.54               0.57                 0.27  \n",
       "2019-11-20                    9.54               0.68                 0.27  \n",
       "2019-11-21                    9.54               0.82                 0.27  \n",
       "2019-11-22                    9.54               0.89                 0.27  \n",
       "2019-11-26                    9.54               0.99                 0.27  \n",
       "2019-11-27                    9.54               1.05                 0.27  \n",
       "2019-11-29                    9.54               1.09                 0.27  \n",
       "2019-12-02                   12.10               1.12                 0.30  \n",
       "2019-12-03                   13.51               1.18                 0.36  \n",
       "2019-12-05                   14.10               1.18                 0.36  \n",
       "2019-12-06                   14.93               1.19                 0.37  \n",
       "2019-12-12                   15.21               1.19                 0.37  \n",
       "2019-12-13                   15.21               1.19                 0.37  \n",
       "2019-12-16                   15.21               1.19                 0.37  \n",
       "2019-12-17                   15.21               1.19                 0.37  \n",
       "2019-12-18                   15.21               1.19                 0.37  "
      ]
     },
     "execution_count": 395,
     "metadata": {},
     "output_type": "execute_result"
    }
   ],
   "source": [
    "long_equity_curve = long_equity_curve.cumsum()\n",
    "long_equity_curve = long_equity_curve.fillna(method = 'backfill' )\n",
    "long_equity_curve"
   ]
  },
  {
   "cell_type": "code",
   "execution_count": 405,
   "metadata": {},
   "outputs": [
    {
     "data": {
      "image/png": "[encoded data removed]",
      "text/plain": [
       "<Figure size 1440x720 with 1 Axes>"
      ]
     },
     "metadata": {
      "needs_background": "light"
     },
     "output_type": "display_data"
    }
   ],
   "source": [
    "le = long_equity_curve.plot(kind ='line', figsize = (20,10), title =\"BiWeekly Close Position Equity Curve\").get_figure()"
   ]
  },
  {
   "cell_type": "code",
   "execution_count": 406,
   "metadata": {},
   "outputs": [],
   "source": [
    "le.savefig('tsla_long_equity_curve')"
   ]
  },
  {
   "cell_type": "code",
   "execution_count": 385,
   "metadata": {},
   "outputs": [
    {
     "name": "stdout",
     "output_type": "stream",
     "text": [
      "the biggest loses were -183.46999999999997\n"
     ]
    }
   ],
   "source": [
    "print(f'the biggest loses were', short_close_RF_total)"
   ]
  },
  {
   "cell_type": "code",
   "execution_count": 386,
   "metadata": {},
   "outputs": [
    {
     "name": "stdout",
     "output_type": "stream",
     "text": [
      "Selling options expiring in a week and close to the money,\n",
      " RF generated: -183.46999999999997 \n",
      " LSTM generated: 66.73000000000002\n",
      "\n",
      "Selling options expiring in a week and slightly out to the money,\n",
      " RF generated: 7.68 \n",
      " LSTM generated: 6.51\n",
      "\n",
      "Selling options expiring in a week and far out to the money,\n",
      " RF generated: 0.47 \n",
      " LSTM generated: 0.25999999999999995\n"
     ]
    }
   ],
   "source": [
    "print('Selling options expiring in a week and close to the money,\\n RF generated:', short_close_RF_total, '\\n LSTM generated:', short_close_LSTM_total)\n",
    "print('\\nSelling options expiring in a week and slightly out to the money,\\n RF generated:', short_medium_RF_total, '\\n LSTM generated:', short_medium_LSTM_total)\n",
    "print('\\nSelling options expiring in a week and far out to the money,\\n RF generated:', short_far_RF_total, '\\n LSTM generated:', short_far_LSTM_total)\n"
   ]
  },
  {
   "cell_type": "code",
   "execution_count": 387,
   "metadata": {},
   "outputs": [
    {
     "name": "stdout",
     "output_type": "stream",
     "text": [
      "Selling options expiring in a two weeks and close to the money,\n",
      " RF generated: -284.4199999999999 \n",
      " LSTM generated: 183.60000000000002\n",
      "\n",
      "Selling options expiring in two weeks and slightly out to the money,\n",
      " RF generated: 27.610000000000003 \n",
      " LSTM generated: 17.59\n",
      "\n",
      "Selling options expiring in two weeks and far out to the money,\n",
      " RF generated: 1.19 \n",
      " LSTM generated: 0.4\n"
     ]
    }
   ],
   "source": [
    "print('Selling options expiring in a two weeks and close to the money,\\n RF generated:', long_close_RF_total, '\\n LSTM generated:', long_close_LSTM_total)\n",
    "print('\\nSelling options expiring in two weeks and slightly out to the money,\\n RF generated:', long_medium_RF_total, '\\n LSTM generated:', long_medium_LSTM_total)\n",
    "print('\\nSelling options expiring in two weeks and far out to the money,\\n RF generated:', long_far_RF_total, '\\n LSTM generated:', long_far_LSTM_total)\n"
   ]
  },
  {
   "cell_type": "code",
   "execution_count": 479,
   "metadata": {},
   "outputs": [
    {
     "name": "stdout",
     "output_type": "stream",
     "text": [
      "Short window max DD -286.19\n",
      "Long window max DD -543.8699999999999\n"
     ]
    }
   ],
   "source": [
    "#max DD calculation\n",
    "maxDDLE = 0\n",
    "\n",
    "for (columnName, columnData) in long_equity_curve.iteritems():\n",
    "    for x in columnData:\n",
    "        if x < maxDDLE:\n",
    "            maxDDLE = x\n",
    "\n",
    "maxDDSE = 0\n",
    "\n",
    "for (columnName, columnData) in short_equity_curve.iteritems():\n",
    "    for x in columnData:\n",
    "        if x < maxDDSE:\n",
    "            maxDDSE = x\n",
    "            \n",
    "print(f'Short window max DD {maxDDSE}')            \n",
    "print(f'Long window max DD {maxDDLE}')"
   ]
  },
  {
   "cell_type": "code",
   "execution_count": null,
   "metadata": {},
   "outputs": [],
   "source": []
  }
 ],
 "metadata": {
  "kernelspec": {
   "display_name": "Python 3",
   "language": "python",
   "name": "python3"
  },
  "language_info": {
   "codemirror_mode": {
    "name": "ipython",
    "version": 3
   },
   "file_extension": ".py",
   "mimetype": "text/x-python",
   "name": "python",
   "nbconvert_exporter": "python",
   "pygments_lexer": "ipython3",
   "version": "3.8.5"
  }
 },
 "nbformat": 4,
 "nbformat_minor": 4
}
